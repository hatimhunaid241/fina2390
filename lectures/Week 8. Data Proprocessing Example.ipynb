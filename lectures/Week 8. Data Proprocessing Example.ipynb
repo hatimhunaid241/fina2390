{
 "cells": [
  {
   "cell_type": "markdown",
   "id": "2b55d748-c232-484b-bd67-650740e3339a",
   "metadata": {},
   "source": [
    "# Data Preprocessing Example"
   ]
  },
  {
   "cell_type": "markdown",
   "id": "09122cde-7998-4a5a-a6aa-cb94fcb19b07",
   "metadata": {},
   "source": [
    "---"
   ]
  },
  {
   "cell_type": "code",
   "execution_count": 25,
   "id": "21c7fa52-d195-48e6-8b2c-17c222842316",
   "metadata": {},
   "outputs": [],
   "source": [
    "import numpy as np\n",
    "import sqlite3       \n",
    "import pandas as pd\n",
    "pd.options.display.max_rows = 10\n",
    "np.set_printoptions(precision=4, suppress=True)"
   ]
  },
  {
   "cell_type": "markdown",
   "id": "b8404784-7688-4f08-a04d-1bb08d10b881",
   "metadata": {},
   "source": [
    "---"
   ]
  },
  {
   "cell_type": "markdown",
   "id": "455250f3-f5be-4d2b-ac8c-0af57eaed04d",
   "metadata": {},
   "source": [
    "### Q1.1\n",
    "\n",
    "In this question, you are required to connect to the database, ```hk_stocks.db```, used in lecture 6, as follows:\n",
    "```python\n",
    "conn = sqlite3.connect('../data/hk_stocks.db')\n",
    "c = conn.cursor()\n",
    "```\n",
    "More details in this database can be found in the related lecture notes.\n",
    "\n",
    "After you create the connection, please use the SQL ```SELECT``` statement to extract the following variables:\n",
    "* ```key```: identifier for each observation;\n",
    "* ```id```: firm identifier;\n",
    "* ```eom```: end of month;\n",
    "* ```ret_exc_lead1m```: stock returns;\n",
    "* ```be_me```: book-to-market equity;\n",
    "* ```bev_mev```: book-to-market enterprise value;\n",
    "* ```ret_12_1```: price momentum $t-12$ to $t-1$;\n",
    "* ```ret_9_1```: price momentum $t-9$ to $t-1$.\n",
    "\n",
    "Finally, using the data extracted by the ```SELECT``` statement, you need to construct a ```pd.DataFrame```, named ```data_df```. The first five rows of ```data_df``` are as follows:\n",
    "```python\n",
    "        key           id                  eom  ret_exc_lead1m     be_me  bev_mev  ret_12_1   ret_9_1  \n",
    "0  13581256  310108801.0  1990-07-31 00:00:00       -0.094007  0.552603  0.573481  0.597304  0.434458 \n",
    "1  13581257  310108801.0  1990-08-31 00:00:00       -0.145700  0.605826  0.626845  0.720185  0.510205   \n",
    "2  13581258  310108801.0  1990-09-30 00:00:00        0.151076  0.704216  0.724663  0.358864  0.301394   \n",
    "3  13581259  310108801.0  1990-10-31 00:00:00        0.017782  0.614900  0.635911  0.182734  0.072359 \n",
    "4  13581260  310108801.0  1990-11-30 00:00:00        0.020163  0.600821  0.621840  0.371875  0.160488 \n",
    "```"
   ]
  },
  {
   "cell_type": "code",
   "execution_count": 26,
   "id": "a5cee7b1-9b54-40fe-bbbb-6cb71b81a0d7",
   "metadata": {},
   "outputs": [],
   "source": [
    "conn = sqlite3.connect('../data/hk_stocks.db')\n",
    "c = conn.cursor()"
   ]
  },
  {
   "cell_type": "code",
   "execution_count": 27,
   "id": "495adec7-9d78-4efb-8591-38a580f85e45",
   "metadata": {},
   "outputs": [],
   "source": [
    "query = \"\"\"\n",
    "SELECT stock_returns.key, \n",
    "       stock_returns.id, \n",
    "       stock_returns.eom, \n",
    "       ret_exc_lead1m, be_me, bev_mev, ret_12_1, ret_9_1\n",
    "FROM stock_returns, value_signals, momentum_signals\n",
    "WHERE value_signals.key = stock_returns.key AND\n",
    "      momentum_signals.key = stock_returns.key\n",
    "\"\"\"\n",
    "\n",
    "stock_returns = c.execute(query)\n",
    "data_df = pd.DataFrame(stock_returns.fetchall(), \n",
    "                       columns=['key', 'id', 'eom', 'ret_exc_lead1m', 'be_me', 'bev_mev', 'ret_12_1', 'ret_9_1'])"
   ]
  },
  {
   "cell_type": "code",
   "execution_count": 28,
   "id": "93fae1cf-064c-4d1b-b3c9-e48e53c9db2f",
   "metadata": {},
   "outputs": [
    {
     "name": "stdout",
     "output_type": "stream",
     "text": [
      "        key           id                  eom  ret_exc_lead1m     be_me  \\\n",
      "0  13581256  310108801.0  1990-07-31 00:00:00       -0.094007  0.552603   \n",
      "1  13581257  310108801.0  1990-08-31 00:00:00       -0.145700  0.605826   \n",
      "2  13581258  310108801.0  1990-09-30 00:00:00        0.151076  0.704216   \n",
      "3  13581259  310108801.0  1990-10-31 00:00:00        0.017782  0.614900   \n",
      "4  13581260  310108801.0  1990-11-30 00:00:00        0.020163  0.600821   \n",
      "\n",
      "    bev_mev  ret_12_1   ret_9_1  \n",
      "0  0.573481  0.597304  0.434458  \n",
      "1  0.626845  0.720185  0.510205  \n",
      "2  0.724663  0.358864  0.301394  \n",
      "3  0.635911  0.182734  0.072359  \n",
      "4  0.621840  0.371875  0.160488  \n"
     ]
    }
   ],
   "source": [
    "print(data_df.head())"
   ]
  },
  {
   "cell_type": "markdown",
   "id": "960eebfd-27ab-4857-8d27-58d8ff57b466",
   "metadata": {},
   "source": [
    "### Q1.2\n",
    "\n",
    "Built on the dataset ```data_df``` from Q1.1, you need to handle the missing data. \n",
    "\n",
    "First, please print the average missing rates of all variables in ```data_df```.\n",
    "\n",
    "Second, print the percentage of observations that have missing values of ```bev_mev``` (```ret_12_1```) but non-missing values of ```be_me``` (```ret_9_1```). \n",
    "\n",
    "Third, we impute the missing data points in ```bev_mev``` (```ret_12_1```) with the non-missing observations in ```be_me``` (```ret_9_1```). However, if both ```bev_mev``` and ```be_me``` (```ret_12_1``` and ```ret_9_1```) are missing, we leave it as NaN. \n",
    "\n",
    "Finally, remove the rows whenever the stock returns are missing. What are the average missing rates of all columns?"
   ]
  },
  {
   "cell_type": "code",
   "execution_count": 29,
   "id": "526df5c4-ff03-4f21-8248-3d0d3886f12b",
   "metadata": {},
   "outputs": [
    {
     "data": {
      "text/plain": [
       "key               0.000000\n",
       "id                0.000000\n",
       "eom               0.000000\n",
       "ret_exc_lead1m    0.006100\n",
       "be_me             0.078330\n",
       "bev_mev           0.127977\n",
       "ret_12_1          0.085896\n",
       "ret_9_1           0.066911\n",
       "dtype: float64"
      ]
     },
     "execution_count": 29,
     "metadata": {},
     "output_type": "execute_result"
    }
   ],
   "source": [
    "pd.isnull(data_df).mean()"
   ]
  },
  {
   "cell_type": "code",
   "execution_count": 34,
   "id": "9a661cf5-a54d-473a-9913-dcd5b1a10451",
   "metadata": {},
   "outputs": [
    {
     "name": "stdout",
     "output_type": "stream",
     "text": [
      "0.0643076468922931\n",
      "0.01898475364100281\n"
     ]
    }
   ],
   "source": [
    "print((pd.isnull(data_df.bev_mev) * (1 - pd.isnull(data_df.be_me))).mean())\n",
    "print((pd.isnull(data_df.ret_12_1 ) * (1 - pd.isnull(data_df.ret_9_1))).mean())"
   ]
  },
  {
   "cell_type": "code",
   "execution_count": 8,
   "id": "db12680f-eafd-4e0c-8779-d2d6d7521f8c",
   "metadata": {},
   "outputs": [],
   "source": [
    "data_df.bev_mev = data_df.bev_mev.combine_first(data_df.be_me)\n",
    "data_df.ret_12_1 = data_df.ret_12_1.combine_first(data_df.ret_9_1)"
   ]
  },
  {
   "cell_type": "code",
   "execution_count": 9,
   "id": "51e252d6-1314-4944-99a6-e6616762d9bc",
   "metadata": {},
   "outputs": [],
   "source": [
    "data_df = data_df[pd.isnull(data_df.ret_exc_lead1m)==False]"
   ]
  },
  {
   "cell_type": "code",
   "execution_count": 10,
   "id": "ffbceac8-2788-42cc-a88f-61fc85aaf733",
   "metadata": {},
   "outputs": [
    {
     "data": {
      "text/plain": [
       "key               0.000000\n",
       "id                0.000000\n",
       "eom               0.000000\n",
       "ret_exc_lead1m    0.000000\n",
       "be_me             0.077637\n",
       "bev_mev           0.063115\n",
       "ret_12_1          0.065985\n",
       "ret_9_1           0.065985\n",
       "dtype: float64"
      ]
     },
     "execution_count": 10,
     "metadata": {},
     "output_type": "execute_result"
    }
   ],
   "source": [
    "pd.isnull(data_df).mean()"
   ]
  },
  {
   "cell_type": "markdown",
   "id": "7526fb54-a8ec-41e1-b174-e1a3adc443f0",
   "metadata": {},
   "source": [
    "### Q1.3\n",
    "\n",
    "After you finish Q1.2, you will find that there are still tons of missing data in ```data_df```. In this question, we aim to impute the remaining missing entries with the column means per period. In particular, you need to do the following:\n",
    "* Keep only five columns ```['id', 'eom', 'ret_exc_lead1m', 'bev_mev', 'ret_12_1']``` and use ```eom``` and ```id``` as the index.\n",
    "* In each month, you need to impute the missing data in ```'bev_mev'``` and ```'ret_12_1'``` using their column means computed based on the observations this period. Next, you need to standardize ```'bev_mev'``` and ```'ret_12_1'``` to have zero means and unit standard deviations per month. \n",
    "* Whether do you detect outliers in ```'bev_mev'``` and ```'ret_12_1'```?"
   ]
  },
  {
   "cell_type": "code",
   "execution_count": 11,
   "id": "c7d51bb6-e1f1-40e5-8168-25735c084886",
   "metadata": {},
   "outputs": [],
   "source": [
    "data_df2 = data_df[['id', 'eom', 'ret_exc_lead1m', 'bev_mev', 'ret_12_1']].set_index(['eom', 'id'])\n",
    "data_df2 = data_df2.sort_index(level=0)"
   ]
  },
  {
   "cell_type": "code",
   "execution_count": 12,
   "id": "e158d629-ad41-455e-8fe0-63dafd6c15ad",
   "metadata": {},
   "outputs": [],
   "source": [
    "fill_mean = lambda g: g.fillna(g.mean())   # g is a group"
   ]
  },
  {
   "cell_type": "code",
   "execution_count": 13,
   "id": "0af95b8b-21a8-4be2-bb98-acf48e744760",
   "metadata": {},
   "outputs": [
    {
     "data": {
      "text/html": [
       "<div>\n",
       "<style scoped>\n",
       "    .dataframe tbody tr th:only-of-type {\n",
       "        vertical-align: middle;\n",
       "    }\n",
       "\n",
       "    .dataframe tbody tr th {\n",
       "        vertical-align: top;\n",
       "    }\n",
       "\n",
       "    .dataframe thead th {\n",
       "        text-align: right;\n",
       "    }\n",
       "</style>\n",
       "<table border=\"1\" class=\"dataframe\">\n",
       "  <thead>\n",
       "    <tr style=\"text-align: right;\">\n",
       "      <th></th>\n",
       "      <th></th>\n",
       "      <th></th>\n",
       "      <th>ret_exc_lead1m</th>\n",
       "      <th>bev_mev</th>\n",
       "      <th>ret_12_1</th>\n",
       "    </tr>\n",
       "    <tr>\n",
       "      <th>eom</th>\n",
       "      <th>eom</th>\n",
       "      <th>id</th>\n",
       "      <th></th>\n",
       "      <th></th>\n",
       "      <th></th>\n",
       "    </tr>\n",
       "  </thead>\n",
       "  <tbody>\n",
       "    <tr>\n",
       "      <th rowspan=\"5\" valign=\"top\">1990-07-31 00:00:00</th>\n",
       "      <th rowspan=\"5\" valign=\"top\">1990-07-31 00:00:00</th>\n",
       "      <th>301510501.0</th>\n",
       "      <td>-0.057822</td>\n",
       "      <td>0.123895</td>\n",
       "      <td>0.369475</td>\n",
       "    </tr>\n",
       "    <tr>\n",
       "      <th>301549801.0</th>\n",
       "      <td>-0.084795</td>\n",
       "      <td>0.587863</td>\n",
       "      <td>0.235526</td>\n",
       "    </tr>\n",
       "    <tr>\n",
       "      <th>301553001.0</th>\n",
       "      <td>-0.065578</td>\n",
       "      <td>0.456535</td>\n",
       "      <td>0.308667</td>\n",
       "    </tr>\n",
       "    <tr>\n",
       "      <th>301565201.0</th>\n",
       "      <td>-0.253837</td>\n",
       "      <td>0.814995</td>\n",
       "      <td>0.167575</td>\n",
       "    </tr>\n",
       "    <tr>\n",
       "      <th>301569701.0</th>\n",
       "      <td>-0.039236</td>\n",
       "      <td>0.595812</td>\n",
       "      <td>0.760345</td>\n",
       "    </tr>\n",
       "    <tr>\n",
       "      <th>...</th>\n",
       "      <th>...</th>\n",
       "      <th>...</th>\n",
       "      <td>...</td>\n",
       "      <td>...</td>\n",
       "      <td>...</td>\n",
       "    </tr>\n",
       "    <tr>\n",
       "      <th rowspan=\"5\" valign=\"top\">2021-12-31 00:00:00</th>\n",
       "      <th rowspan=\"5\" valign=\"top\">2021-12-31 00:00:00</th>\n",
       "      <th>335161801.0</th>\n",
       "      <td>-0.000060</td>\n",
       "      <td>0.471711</td>\n",
       "      <td>0.220724</td>\n",
       "    </tr>\n",
       "    <tr>\n",
       "      <th>335163701.0</th>\n",
       "      <td>-0.339582</td>\n",
       "      <td>0.016337</td>\n",
       "      <td>0.220724</td>\n",
       "    </tr>\n",
       "    <tr>\n",
       "      <th>335170601.0</th>\n",
       "      <td>0.223572</td>\n",
       "      <td>0.068281</td>\n",
       "      <td>0.220724</td>\n",
       "    </tr>\n",
       "    <tr>\n",
       "      <th>335183201.0</th>\n",
       "      <td>-0.198522</td>\n",
       "      <td>3.395933</td>\n",
       "      <td>0.220724</td>\n",
       "    </tr>\n",
       "    <tr>\n",
       "      <th>335190501.0</th>\n",
       "      <td>-0.034602</td>\n",
       "      <td>0.123738</td>\n",
       "      <td>0.220724</td>\n",
       "    </tr>\n",
       "  </tbody>\n",
       "</table>\n",
       "<p>410758 rows × 3 columns</p>\n",
       "</div>"
      ],
      "text/plain": [
       "                                                     ret_exc_lead1m   bev_mev  \\\n",
       "eom                 eom                 id                                      \n",
       "1990-07-31 00:00:00 1990-07-31 00:00:00 301510501.0       -0.057822  0.123895   \n",
       "                                        301549801.0       -0.084795  0.587863   \n",
       "                                        301553001.0       -0.065578  0.456535   \n",
       "                                        301565201.0       -0.253837  0.814995   \n",
       "                                        301569701.0       -0.039236  0.595812   \n",
       "...                                                             ...       ...   \n",
       "2021-12-31 00:00:00 2021-12-31 00:00:00 335161801.0       -0.000060  0.471711   \n",
       "                                        335163701.0       -0.339582  0.016337   \n",
       "                                        335170601.0        0.223572  0.068281   \n",
       "                                        335183201.0       -0.198522  3.395933   \n",
       "                                        335190501.0       -0.034602  0.123738   \n",
       "\n",
       "                                                     ret_12_1  \n",
       "eom                 eom                 id                     \n",
       "1990-07-31 00:00:00 1990-07-31 00:00:00 301510501.0  0.369475  \n",
       "                                        301549801.0  0.235526  \n",
       "                                        301553001.0  0.308667  \n",
       "                                        301565201.0  0.167575  \n",
       "                                        301569701.0  0.760345  \n",
       "...                                                       ...  \n",
       "2021-12-31 00:00:00 2021-12-31 00:00:00 335161801.0  0.220724  \n",
       "                                        335163701.0  0.220724  \n",
       "                                        335170601.0  0.220724  \n",
       "                                        335183201.0  0.220724  \n",
       "                                        335190501.0  0.220724  \n",
       "\n",
       "[410758 rows x 3 columns]"
      ]
     },
     "execution_count": 13,
     "metadata": {},
     "output_type": "execute_result"
    }
   ],
   "source": [
    "data_df2 = data_df2.groupby(level=0).apply(fill_mean)\n",
    "data_df2"
   ]
  },
  {
   "cell_type": "code",
   "execution_count": 14,
   "id": "4538d96c-dd3f-4013-adea-43f918f34010",
   "metadata": {},
   "outputs": [
    {
     "name": "stdout",
     "output_type": "stream",
     "text": [
      "                      bev_mev  ret_12_1\n",
      "eom                                    \n",
      "1990-07-31 00:00:00  1.315702  0.496676\n",
      "1990-08-31 00:00:00  1.586242  0.598938\n",
      "1990-09-30 00:00:00  2.026636  0.164139\n",
      "1990-10-31 00:00:00  1.990379  0.055248\n",
      "1990-11-30 00:00:00  2.523066  0.144498\n",
      "                      bev_mev  ret_12_1\n",
      "eom                                    \n",
      "1990-07-31 00:00:00  2.686950  0.682272\n",
      "1990-08-31 00:00:00  3.446855  0.615510\n",
      "1990-09-30 00:00:00  5.321064  0.412677\n",
      "1990-10-31 00:00:00  5.479092  0.389590\n",
      "1990-11-30 00:00:00  8.170042  0.518468\n"
     ]
    }
   ],
   "source": [
    "signals_mean_bymonth = data_df2.groupby(level=0)[['bev_mev', 'ret_12_1']].mean()\n",
    "signals_std_bymonth = data_df2.groupby(level=0)[['bev_mev', 'ret_12_1']].std()\n",
    "print(signals_mean_bymonth.head())\n",
    "print(signals_std_bymonth.head())"
   ]
  },
  {
   "cell_type": "code",
   "execution_count": 15,
   "id": "c4634c55-7dfd-4fe7-8ea4-a1582d429a0b",
   "metadata": {},
   "outputs": [
    {
     "data": {
      "text/html": [
       "<div>\n",
       "<style scoped>\n",
       "    .dataframe tbody tr th:only-of-type {\n",
       "        vertical-align: middle;\n",
       "    }\n",
       "\n",
       "    .dataframe tbody tr th {\n",
       "        vertical-align: top;\n",
       "    }\n",
       "\n",
       "    .dataframe thead th {\n",
       "        text-align: right;\n",
       "    }\n",
       "</style>\n",
       "<table border=\"1\" class=\"dataframe\">\n",
       "  <thead>\n",
       "    <tr style=\"text-align: right;\">\n",
       "      <th></th>\n",
       "      <th></th>\n",
       "      <th></th>\n",
       "      <th>ret_exc_lead1m</th>\n",
       "      <th>bev_mev</th>\n",
       "      <th>ret_12_1</th>\n",
       "    </tr>\n",
       "    <tr>\n",
       "      <th>eom</th>\n",
       "      <th>eom</th>\n",
       "      <th>id</th>\n",
       "      <th></th>\n",
       "      <th></th>\n",
       "      <th></th>\n",
       "    </tr>\n",
       "  </thead>\n",
       "  <tbody>\n",
       "    <tr>\n",
       "      <th rowspan=\"5\" valign=\"top\">1990-07-31 00:00:00</th>\n",
       "      <th rowspan=\"5\" valign=\"top\">1990-07-31 00:00:00</th>\n",
       "      <th>301510501.0</th>\n",
       "      <td>-0.057822</td>\n",
       "      <td>-0.443554</td>\n",
       "      <td>-0.186437</td>\n",
       "    </tr>\n",
       "    <tr>\n",
       "      <th>301549801.0</th>\n",
       "      <td>-0.084795</td>\n",
       "      <td>-0.270879</td>\n",
       "      <td>-0.382764</td>\n",
       "    </tr>\n",
       "    <tr>\n",
       "      <th>301553001.0</th>\n",
       "      <td>-0.065578</td>\n",
       "      <td>-0.319755</td>\n",
       "      <td>-0.275563</td>\n",
       "    </tr>\n",
       "    <tr>\n",
       "      <th>301565201.0</th>\n",
       "      <td>-0.253837</td>\n",
       "      <td>-0.186348</td>\n",
       "      <td>-0.482360</td>\n",
       "    </tr>\n",
       "    <tr>\n",
       "      <th>301569701.0</th>\n",
       "      <td>-0.039236</td>\n",
       "      <td>-0.267921</td>\n",
       "      <td>0.386458</td>\n",
       "    </tr>\n",
       "  </tbody>\n",
       "</table>\n",
       "</div>"
      ],
      "text/plain": [
       "                                                     ret_exc_lead1m   bev_mev  \\\n",
       "eom                 eom                 id                                      \n",
       "1990-07-31 00:00:00 1990-07-31 00:00:00 301510501.0       -0.057822 -0.443554   \n",
       "                                        301549801.0       -0.084795 -0.270879   \n",
       "                                        301553001.0       -0.065578 -0.319755   \n",
       "                                        301565201.0       -0.253837 -0.186348   \n",
       "                                        301569701.0       -0.039236 -0.267921   \n",
       "\n",
       "                                                     ret_12_1  \n",
       "eom                 eom                 id                     \n",
       "1990-07-31 00:00:00 1990-07-31 00:00:00 301510501.0 -0.186437  \n",
       "                                        301549801.0 -0.382764  \n",
       "                                        301553001.0 -0.275563  \n",
       "                                        301565201.0 -0.482360  \n",
       "                                        301569701.0  0.386458  "
      ]
     },
     "execution_count": 15,
     "metadata": {},
     "output_type": "execute_result"
    }
   ],
   "source": [
    "data_df2[['bev_mev', 'ret_12_1']] = (data_df2[['bev_mev', 'ret_12_1']] - signals_mean_bymonth) / signals_std_bymonth\n",
    "data_df2.head()"
   ]
  },
  {
   "cell_type": "code",
   "execution_count": 16,
   "id": "b2da35eb-7d30-495d-8bcf-a0d96db6a95c",
   "metadata": {},
   "outputs": [
    {
     "data": {
      "text/html": [
       "<div>\n",
       "<style scoped>\n",
       "    .dataframe tbody tr th:only-of-type {\n",
       "        vertical-align: middle;\n",
       "    }\n",
       "\n",
       "    .dataframe tbody tr th {\n",
       "        vertical-align: top;\n",
       "    }\n",
       "\n",
       "    .dataframe thead th {\n",
       "        text-align: right;\n",
       "    }\n",
       "</style>\n",
       "<table border=\"1\" class=\"dataframe\">\n",
       "  <thead>\n",
       "    <tr style=\"text-align: right;\">\n",
       "      <th></th>\n",
       "      <th>ret_exc_lead1m</th>\n",
       "      <th>bev_mev</th>\n",
       "      <th>ret_12_1</th>\n",
       "    </tr>\n",
       "  </thead>\n",
       "  <tbody>\n",
       "    <tr>\n",
       "      <th>count</th>\n",
       "      <td>410758.000000</td>\n",
       "      <td>4.107580e+05</td>\n",
       "      <td>4.107580e+05</td>\n",
       "    </tr>\n",
       "    <tr>\n",
       "      <th>mean</th>\n",
       "      <td>0.012128</td>\n",
       "      <td>-1.816325e-19</td>\n",
       "      <td>1.418463e-18</td>\n",
       "    </tr>\n",
       "    <tr>\n",
       "      <th>std</th>\n",
       "      <td>0.315845</td>\n",
       "      <td>9.995410e-01</td>\n",
       "      <td>9.995410e-01</td>\n",
       "    </tr>\n",
       "    <tr>\n",
       "      <th>min</th>\n",
       "      <td>-0.977637</td>\n",
       "      <td>-1.746098e+00</td>\n",
       "      <td>-3.175112e+00</td>\n",
       "    </tr>\n",
       "    <tr>\n",
       "      <th>25%</th>\n",
       "      <td>-0.077113</td>\n",
       "      <td>-1.616233e-01</td>\n",
       "      <td>-3.830122e-01</td>\n",
       "    </tr>\n",
       "    <tr>\n",
       "      <th>50%</th>\n",
       "      <td>-0.008390</td>\n",
       "      <td>-6.788305e-02</td>\n",
       "      <td>-1.136466e-01</td>\n",
       "    </tr>\n",
       "    <tr>\n",
       "      <th>75%</th>\n",
       "      <td>0.062795</td>\n",
       "      <td>0.000000e+00</td>\n",
       "      <td>1.304931e-01</td>\n",
       "    </tr>\n",
       "    <tr>\n",
       "      <th>max</th>\n",
       "      <td>105.555126</td>\n",
       "      <td>4.876194e+01</td>\n",
       "      <td>4.570662e+01</td>\n",
       "    </tr>\n",
       "  </tbody>\n",
       "</table>\n",
       "</div>"
      ],
      "text/plain": [
       "       ret_exc_lead1m       bev_mev      ret_12_1\n",
       "count   410758.000000  4.107580e+05  4.107580e+05\n",
       "mean         0.012128 -1.816325e-19  1.418463e-18\n",
       "std          0.315845  9.995410e-01  9.995410e-01\n",
       "min         -0.977637 -1.746098e+00 -3.175112e+00\n",
       "25%         -0.077113 -1.616233e-01 -3.830122e-01\n",
       "50%         -0.008390 -6.788305e-02 -1.136466e-01\n",
       "75%          0.062795  0.000000e+00  1.304931e-01\n",
       "max        105.555126  4.876194e+01  4.570662e+01"
      ]
     },
     "execution_count": 16,
     "metadata": {},
     "output_type": "execute_result"
    }
   ],
   "source": [
    "data_df2.describe()"
   ]
  },
  {
   "cell_type": "markdown",
   "id": "46c449bc-0d4a-4bf2-9ce7-5b455838c588",
   "metadata": {},
   "source": [
    "It seems that we have very asymmetric distributions of ```'bev_mev'``` and ```'ret_12_1'```, which may lead to strange results in the regression analysis. We will discuss how to handle this issue in lecture 10. "
   ]
  },
  {
   "cell_type": "code",
   "execution_count": 17,
   "id": "aecf2cc9-e755-41a8-a817-d5dc533d0038",
   "metadata": {},
   "outputs": [],
   "source": [
    "conn.close()   # Don't forget to close the connection!"
   ]
  },
  {
   "cell_type": "markdown",
   "id": "57cb7625-fdf4-4db5-a659-fcdd578863b6",
   "metadata": {},
   "source": [
    "---"
   ]
  },
  {
   "cell_type": "markdown",
   "id": "2991fb05-da69-456b-83e4-7b200efec210",
   "metadata": {},
   "source": [
    "# END"
   ]
  }
 ],
 "metadata": {
  "kernelspec": {
   "display_name": "env",
   "language": "python",
   "name": "python3"
  },
  "language_info": {
   "codemirror_mode": {
    "name": "ipython",
    "version": 3
   },
   "file_extension": ".py",
   "mimetype": "text/x-python",
   "name": "python",
   "nbconvert_exporter": "python",
   "pygments_lexer": "ipython3",
   "version": "3.11.0"
  }
 },
 "nbformat": 4,
 "nbformat_minor": 5
}
