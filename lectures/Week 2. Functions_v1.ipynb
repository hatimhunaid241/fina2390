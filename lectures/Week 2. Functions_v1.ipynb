{
 "cells": [
  {
   "cell_type": "markdown",
   "id": "a57262ed",
   "metadata": {},
   "source": [
    "# Lecture 2.1. Functions"
   ]
  },
  {
   "cell_type": "markdown",
   "id": "b57f1ef5",
   "metadata": {},
   "source": [
    "* **Today's Outline**:\n",
    " * 2.1 Functions\n",
    " * 2.2 Structured Types: ```tuple```, ```list```, ```dict```, and ```set```"
   ]
  },
  {
   "cell_type": "markdown",
   "id": "53ece1f9",
   "metadata": {},
   "source": [
    "---"
   ]
  },
  {
   "cell_type": "markdown",
   "id": "6747f6b3",
   "metadata": {},
   "source": [
    "Below is the code for **bisection search** that we learned last week: "
   ]
  },
  {
   "cell_type": "code",
   "execution_count": 1,
   "id": "fca7a3ee",
   "metadata": {},
   "outputs": [
    {
     "name": "stdout",
     "output_type": "stream",
     "text": [
      "numGuesses = 15\n",
      "4.9999237060546875 is close to square root of 25\n"
     ]
    }
   ],
   "source": [
    "x = 25\n",
    "epsilon = 0.001\n",
    "numGuesses = 0\n",
    "low = 0.0\n",
    "high = max(1.0, x)\n",
    "ans = (high + low)/2.0\n",
    "\n",
    "while abs(ans**2 - x) >= epsilon:\n",
    "    #print('low =', low, 'high =', high, 'ans =', ans)\n",
    "    numGuesses += 1\n",
    "    if ans**2 < x:\n",
    "        low = ans \n",
    "    else:\n",
    "        high = ans\n",
    "    ans = (high + low)/2.0\n",
    "print('numGuesses =', numGuesses)\n",
    "print(ans, 'is close to square root of', x)"
   ]
  },
  {
   "cell_type": "markdown",
   "id": "987abd02",
   "metadata": {},
   "source": [
    "### Question:\n",
    "\n",
    "What would have to be changed to make the above code for finding an approximation to the **cube root of both negative and positive numbers**?"
   ]
  },
  {
   "cell_type": "code",
   "execution_count": 2,
   "id": "34759c80",
   "metadata": {},
   "outputs": [
    {
     "name": "stdout",
     "output_type": "stream",
     "text": [
      "low = 0.0 high = 1.0 ans = 0.5\n",
      "low = 0.5 high = 1.0 ans = 0.75\n",
      "low = 0.75 high = 1.0 ans = 0.875\n",
      "low = 0.875 high = 1.0 ans = 0.9375\n",
      "low = 0.875 high = 0.9375 ans = 0.90625\n",
      "low = 0.90625 high = 0.9375 ans = 0.921875\n",
      "low = 0.921875 high = 0.9375 ans = 0.9296875\n",
      "low = 0.9296875 high = 0.9375 ans = 0.93359375\n",
      "low = 0.9296875 high = 0.93359375 ans = 0.931640625\n",
      "low = 0.931640625 high = 0.93359375 ans = 0.9326171875\n",
      "numGuesses = 10\n",
      "0.93212890625 is close to cube root of 0.81\n"
     ]
    }
   ],
   "source": [
    "x_input = 0.81\n",
    "x = abs(x_input)\n",
    "\n",
    "epsilon = 0.001\n",
    "numGuesses = 0\n",
    "low = 0.0\n",
    "high = max(1.0, x)\n",
    "ans = (high + low)/2.0\n",
    "\n",
    "    \n",
    "while abs(ans**3 - x) >= epsilon:\n",
    "    print('low =', low, 'high =', high, 'ans =', ans)\n",
    "    numGuesses += 1\n",
    "    if ans**3 < x:\n",
    "        low = ans \n",
    "    else:\n",
    "        high = ans\n",
    "    ans = (high + low)/2.0\n",
    "print('numGuesses =', numGuesses)\n",
    "if x_input > 0:\n",
    "    print(ans, 'is close to cube root of', x_input)\n",
    "else:\n",
    "    print(-ans, 'is close to cube root of', x_input)"
   ]
  },
  {
   "cell_type": "markdown",
   "id": "793d7296",
   "metadata": {},
   "source": [
    "---"
   ]
  },
  {
   "cell_type": "markdown",
   "id": "cd8f6f06",
   "metadata": {},
   "source": [
    "* This is a reasonable piece of code, but it lacks general utility. \n",
    " * It works only for values denoted by the variables ```x``` and ```epsilon```.\n",
    " * If we want to reuse it, we need to copy the code, possibly edit the variable names, and paste it where we want it. <br>\n",
    "<br>\n",
    "* Generally, the more code a program contains, the more chance there is for something to go wrong, and the harder the code is to maintain.\n",
    " * How do we make our codes compact, structured, and therefore less likely to go wrong? -- **Functions**!"
   ]
  },
  {
   "cell_type": "markdown",
   "id": "149a440b",
   "metadata": {},
   "source": [
    "* We have seen some built-in functions in Python, e.g., ```max``` and ```abs```.  <br>\n",
    "<br>\n",
    "* We can define our own function, of the following form:\n",
    "```python\n",
    "def name of function (list of formal parameters):\n",
    "    body of function\n",
    "```"
   ]
  },
  {
   "cell_type": "markdown",
   "id": "712e2af0",
   "metadata": {},
   "source": [
    "* Let's write a function that returns the square root\n",
    " * ```def``` is a reserved word that tells Python that a function is about to be defined.\n",
    " * ```my_square_root``` is the name of the function.\n",
    " * ```x``` and ```epsilon``` are the **formal parameters** of the function. \n",
    " * The code in the body of the function is executed until \n",
    "   * either a ```return``` statement is encountered (the value of the expression following the return becomes the value of the function invocation),\n",
    "   * or there are no more statements to execute (the function returns the value ```None```)."
   ]
  },
  {
   "cell_type": "code",
   "execution_count": 3,
   "id": "998e2e8b",
   "metadata": {},
   "outputs": [],
   "source": [
    "def my_square_root(x, epsilon):\n",
    "    \n",
    "    numGuesses = 0\n",
    "    low = 0.0\n",
    "    high = max(1.0, x)\n",
    "    ans = (high + low)/2.0\n",
    "\n",
    "    while abs(ans**2 - x) >= epsilon:\n",
    "        numGuesses += 1\n",
    "        if ans**2 < x:\n",
    "            low = ans \n",
    "        else:\n",
    "            high = ans\n",
    "        ans = (high + low)/2.0\n",
    "    print('numGuesses =', numGuesses)\n",
    "    print(ans, 'is close to square root of', x)\n",
    "    return ans\n"
   ]
  },
  {
   "cell_type": "code",
   "execution_count": 4,
   "id": "7f4c04e6",
   "metadata": {},
   "outputs": [
    {
     "name": "stdout",
     "output_type": "stream",
     "text": [
      "numGuesses = 15\n",
      "4.9999237060546875 is close to square root of 25\n"
     ]
    },
    {
     "data": {
      "text/plain": [
       "4.9999237060546875"
      ]
     },
     "execution_count": 4,
     "metadata": {},
     "output_type": "execute_result"
    }
   ],
   "source": [
    "x = 25\n",
    "epsilon = 0.001\n",
    "my_square_root(x, epsilon)"
   ]
  },
  {
   "cell_type": "markdown",
   "id": "421e208f",
   "metadata": {},
   "source": [
    "### Exercise\n",
    "\n",
    "Write a function ```isIn``` that accepts two strings as arguments and returns True if either string occurs anywhere in the other, and False otherwise. Hint: you might want to use the built-in str operation ```in```."
   ]
  },
  {
   "cell_type": "code",
   "execution_count": 5,
   "id": "bc0f5d3b",
   "metadata": {},
   "outputs": [],
   "source": [
    "def isIn(s1, s2):\n",
    "    return (s1 in s2) or (s2 in s1)"
   ]
  },
  {
   "cell_type": "code",
   "execution_count": 6,
   "id": "c542e6b4",
   "metadata": {},
   "outputs": [
    {
     "name": "stdout",
     "output_type": "stream",
     "text": [
      "True\n",
      "True\n",
      "False\n"
     ]
    }
   ],
   "source": [
    "print(isIn('Jiantao', 'an'))\n",
    "print(isIn('an', 'Jiantao'))\n",
    "print(isIn('Alan', 'Jiantao'))"
   ]
  },
  {
   "cell_type": "markdown",
   "id": "e730c221",
   "metadata": {},
   "source": [
    "## 2.1.1 Keyword Arguments and Default Values"
   ]
  },
  {
   "cell_type": "markdown",
   "id": "4b032541",
   "metadata": {},
   "source": [
    "* In Python, there are two ways that formal parameters get bound to actual parameters.\n",
    " * Positional: The first formal parameter is bound to the first actual parameter, the second formal to the second actual, etc.\n",
    " * Keyword arguments: formal parameters are bound to actuals using the name of the formal parameter."
   ]
  },
  {
   "cell_type": "code",
   "execution_count": 7,
   "id": "e3ce7e03",
   "metadata": {},
   "outputs": [
    {
     "name": "stdout",
     "output_type": "stream",
     "text": [
      "numGuesses = 15\n",
      "4.9999237060546875 is close to square root of 25\n"
     ]
    },
    {
     "data": {
      "text/plain": [
       "4.9999237060546875"
      ]
     },
     "execution_count": 7,
     "metadata": {},
     "output_type": "execute_result"
    }
   ],
   "source": [
    "my_square_root(25, 0.001)  # positional"
   ]
  },
  {
   "cell_type": "code",
   "execution_count": 8,
   "id": "8cc79896",
   "metadata": {},
   "outputs": [
    {
     "name": "stdout",
     "output_type": "stream",
     "text": [
      "numGuesses = 15\n",
      "4.9999237060546875 is close to square root of 25\n"
     ]
    },
    {
     "data": {
      "text/plain": [
       "4.9999237060546875"
      ]
     },
     "execution_count": 8,
     "metadata": {},
     "output_type": "execute_result"
    }
   ],
   "source": [
    "my_square_root(epsilon=0.001, x=25)  # Keyword arguments"
   ]
  },
  {
   "cell_type": "markdown",
   "id": "0574ab00",
   "metadata": {},
   "source": [
    "Though the keyword arguments can appear in any order in the list of actual parameters, it is not legal to follow a keyword argument with a non-keyword argument."
   ]
  },
  {
   "cell_type": "code",
   "execution_count": 9,
   "id": "0ace7a6c",
   "metadata": {},
   "outputs": [
    {
     "ename": "SyntaxError",
     "evalue": "positional argument follows keyword argument (1454353755.py, line 1)",
     "output_type": "error",
     "traceback": [
      "\u001b[1;36m  Cell \u001b[1;32mIn[9], line 1\u001b[1;36m\u001b[0m\n\u001b[1;33m    my_square_root(x=25, 0.001)\u001b[0m\n\u001b[1;37m                              ^\u001b[0m\n\u001b[1;31mSyntaxError\u001b[0m\u001b[1;31m:\u001b[0m positional argument follows keyword argument\n"
     ]
    }
   ],
   "source": [
    "my_square_root(x=25, 0.001)"
   ]
  },
  {
   "cell_type": "markdown",
   "id": "456332ea",
   "metadata": {},
   "source": [
    "Keyword arguments are commonly used in conjunction with ***default parameter values***."
   ]
  },
  {
   "cell_type": "code",
   "execution_count": null,
   "id": "7f07af15",
   "metadata": {},
   "outputs": [],
   "source": [
    "def my_square_root(x, epsilon=0.001):  # if we do not specify the value of epsilon, it will be 0.001 by default\n",
    "    \n",
    "    numGuesses = 0\n",
    "    low = 0.0\n",
    "    high = max(1.0, x)\n",
    "    ans = (high + low)/2.0\n",
    "\n",
    "    while abs(ans**2 - x) >= epsilon:\n",
    "        numGuesses += 1\n",
    "        if ans**2 < x:\n",
    "            low = ans \n",
    "        else:\n",
    "            high = ans\n",
    "        ans = (high + low)/2.0\n",
    "    print('numGuesses =', numGuesses)\n",
    "    print(ans, 'is close to square root of', x)\n",
    "    return ans\n"
   ]
  },
  {
   "cell_type": "code",
   "execution_count": null,
   "id": "8058056d",
   "metadata": {},
   "outputs": [
    {
     "name": "stdout",
     "output_type": "stream",
     "text": [
      "numGuesses = 15\n",
      "4.9999237060546875 is close to square root of 25\n"
     ]
    },
    {
     "data": {
      "text/plain": [
       "4.9999237060546875"
      ]
     },
     "execution_count": 11,
     "metadata": {},
     "output_type": "execute_result"
    }
   ],
   "source": [
    "my_square_root(25)"
   ]
  },
  {
   "cell_type": "code",
   "execution_count": null,
   "id": "f63c7fb2",
   "metadata": {},
   "outputs": [
    {
     "name": "stdout",
     "output_type": "stream",
     "text": [
      "numGuesses = 15\n",
      "4.9999237060546875 is close to square root of 25\n"
     ]
    },
    {
     "data": {
      "text/plain": [
       "4.9999237060546875"
      ]
     },
     "execution_count": 12,
     "metadata": {},
     "output_type": "execute_result"
    }
   ],
   "source": [
    "my_square_root(25, 0.001)"
   ]
  },
  {
   "cell_type": "markdown",
   "id": "1faa3be4",
   "metadata": {},
   "source": [
    "## 2.1.2 Scoping"
   ]
  },
  {
   "cell_type": "code",
   "execution_count": null,
   "id": "755eb8e0",
   "metadata": {},
   "outputs": [],
   "source": [
    "def f(x): # name x used as formal parameter \n",
    "    y=1\n",
    "    x=x+y \n",
    "    print('x =', x)\n",
    "    return x"
   ]
  },
  {
   "cell_type": "code",
   "execution_count": null,
   "id": "9117ced2",
   "metadata": {},
   "outputs": [
    {
     "name": "stdout",
     "output_type": "stream",
     "text": [
      "x = 4\n"
     ]
    }
   ],
   "source": [
    "x=3\n",
    "y=2\n",
    "z = f(x) #value of x used as actual parameter "
   ]
  },
  {
   "cell_type": "code",
   "execution_count": null,
   "id": "d89c42cd",
   "metadata": {},
   "outputs": [
    {
     "name": "stdout",
     "output_type": "stream",
     "text": [
      "z = 4\n",
      "x = 3\n",
      "y = 2\n"
     ]
    }
   ],
   "source": [
    "print('z =', z)\n",
    "print('x =', x)\n",
    "print('y =', y)"
   ]
  },
  {
   "cell_type": "markdown",
   "id": "6a1651b4",
   "metadata": {},
   "source": [
    "* At the call of f, the formal parameter x is locally bound to the value of the actual parameter x. <br>\n",
    "<br>\n",
    "* Although the actual and formal parameters have the same name, they are not the same variable. <br>\n",
    "<br>\n",
    "* Each function defines a new name space, called a **scope**. \n",
    " * The formal parameter x and the local variable y that are used in f exist only within the scope of the definition of f.\n",
    " * The assignment statement ```x = x + y``` within the function body binds the local name x to the object 4.\n",
    " * The assignments in f have no effect at all on the bindings of the names x and y that exist outside the scope of f.  <br>\n",
    "<br>\n",
    "* How do we think about the function scoping? \n",
    " * At top level, a **symbol table** keeps track of all names defined at that level and their current bindings.\n",
    " * When a function is called, a new symbol table (called a **stack frame**) is created. \n",
    " * **Stack frame** keeps track of all names defined within the function (including the formal parameters) and their current bindings. \n",
    " * If a function is called from within the function body, yet another stack frame is created."
   ]
  },
  {
   "cell_type": "markdown",
   "id": "413f65c6",
   "metadata": {},
   "source": [
    "### More complicated example:"
   ]
  },
  {
   "cell_type": "code",
   "execution_count": null,
   "id": "9d094dcd",
   "metadata": {},
   "outputs": [],
   "source": [
    "def f(x):\n",
    "    \n",
    "    def g():\n",
    "        x = 'abc'\n",
    "        print('x =', x) \n",
    "    \n",
    "    def h():\n",
    "        z=x\n",
    "        print('z =', z)\n",
    "    \n",
    "    x=x+1\n",
    "    print ('x =', x)\n",
    "    h()\n",
    "    g()\n",
    "    print('x =', x) \n",
    "    \n",
    "    return g\n"
   ]
  },
  {
   "cell_type": "code",
   "execution_count": null,
   "id": "dd125b92",
   "metadata": {},
   "outputs": [
    {
     "name": "stdout",
     "output_type": "stream",
     "text": [
      "x = 4\n",
      "z = 4\n",
      "x = abc\n",
      "x = 4\n"
     ]
    }
   ],
   "source": [
    "x = 3\n",
    "z = f(x)"
   ]
  },
  {
   "cell_type": "code",
   "execution_count": null,
   "id": "f9c0f663",
   "metadata": {},
   "outputs": [
    {
     "name": "stdout",
     "output_type": "stream",
     "text": [
      "x = 3\n",
      "z = <function f.<locals>.g at 0x7f9e4420b280>\n"
     ]
    }
   ],
   "source": [
    "print('x =', x)\n",
    "print('z =', z)"
   ]
  },
  {
   "attachments": {
    "d27ac779-5db9-4013-afc8-59346b6802ca.jpg": {
     "image/jpeg": "[encoded data removed]"
    }
   },
   "cell_type": "markdown",
   "id": "b899eee0-2179-4a91-b3a0-65226d7598e1",
   "metadata": {},
   "source": [
    "![example_function_scope-1.jpg](attachment:d27ac779-5db9-4013-afc8-59346b6802ca.jpg)"
   ]
  },
  {
   "cell_type": "markdown",
   "id": "2298dbe2",
   "metadata": {},
   "source": [
    "* Functions are objects, and can be returned just like any other kind of object. <br>\n",
    "<br>\n",
    "* ```z``` is bound to the value returned by ```f```. <br>\n",
    "<br>\n",
    "* The function call ```z()``` can be used to invoke the function that was bound to the name ```g``` within ```f```, even though the name ```g``` is not known outside the context of ```f```."
   ]
  },
  {
   "cell_type": "code",
   "execution_count": null,
   "id": "8155845f",
   "metadata": {},
   "outputs": [
    {
     "name": "stdout",
     "output_type": "stream",
     "text": [
      "x = abc\n"
     ]
    }
   ],
   "source": [
    "z()"
   ]
  },
  {
   "cell_type": "markdown",
   "id": "a084bcf4",
   "metadata": {},
   "source": [
    "If an object is bound to a name anywhere in the function body (even if it occurs in an expression before it appears as the left-hand-side of an assignment), it is **treated as local to that function**."
   ]
  },
  {
   "cell_type": "code",
   "execution_count": null,
   "id": "89b5b4cd",
   "metadata": {},
   "outputs": [
    {
     "name": "stdout",
     "output_type": "stream",
     "text": [
      "3\n"
     ]
    }
   ],
   "source": [
    "def f():\n",
    "    print(x)\n",
    "\n",
    "f()"
   ]
  },
  {
   "cell_type": "code",
   "execution_count": 10,
   "id": "0814cdc5",
   "metadata": {},
   "outputs": [
    {
     "ename": "UnboundLocalError",
     "evalue": "cannot access local variable 'x' where it is not associated with a value",
     "output_type": "error",
     "traceback": [
      "\u001b[1;31m---------------------------------------------------------------------------\u001b[0m",
      "\u001b[1;31mUnboundLocalError\u001b[0m                         Traceback (most recent call last)",
      "Cell \u001b[1;32mIn[10], line 5\u001b[0m\n\u001b[0;32m      2\u001b[0m     \u001b[38;5;28mprint\u001b[39m(x)\n\u001b[0;32m      3\u001b[0m     x\u001b[38;5;241m=\u001b[39m\u001b[38;5;241m1\u001b[39m\n\u001b[1;32m----> 5\u001b[0m \u001b[43mg\u001b[49m\u001b[43m(\u001b[49m\u001b[43m)\u001b[49m  \u001b[38;5;66;03m# the assignment statement following the print statement causes x to be local to g. \u001b[39;00m\n\u001b[0;32m      6\u001b[0m      \u001b[38;5;66;03m# And because x is local to g, it has no value when the print statement is executed.\u001b[39;00m\n",
      "Cell \u001b[1;32mIn[10], line 2\u001b[0m, in \u001b[0;36mg\u001b[1;34m()\u001b[0m\n\u001b[0;32m      1\u001b[0m \u001b[38;5;28;01mdef\u001b[39;00m \u001b[38;5;21mg\u001b[39m():\n\u001b[1;32m----> 2\u001b[0m     \u001b[38;5;28mprint\u001b[39m(\u001b[43mx\u001b[49m)\n\u001b[0;32m      3\u001b[0m     x\u001b[38;5;241m=\u001b[39m\u001b[38;5;241m1\u001b[39m\n",
      "\u001b[1;31mUnboundLocalError\u001b[0m: cannot access local variable 'x' where it is not associated with a value"
     ]
    }
   ],
   "source": [
    "def g():\n",
    "    print(x)\n",
    "    x=1\n",
    "    \n",
    "g()  # the assignment statement following the print statement causes x to be local to g. \n",
    "     # And because x is local to g, it has no value when the print statement is executed."
   ]
  },
  {
   "cell_type": "markdown",
   "id": "068e6b85",
   "metadata": {},
   "source": [
    "## 2.1.3 Function Specifications"
   ]
  },
  {
   "cell_type": "markdown",
   "id": "99b1685d",
   "metadata": {},
   "source": [
    "* Python programmers use docstrings to provide specifications of functions. \n",
    " * These docstrings can be accessed using the built-in function ```help```, .e.g, ```help(max)```. <br>\n",
    "<br>\n",
    "* For user-specific functions, we can provide our own specifications of functions, using so-called **docstrings**.\n",
    " * See the text between the triple quotation marks in the ```findRoot``` function. <br>\n",
    "<br>\n",
    "* **Debugging** through **test functions**, see the ```testFindRoot``` function below. <br>\n",
    "<br>\n",
    "* More on specification/docstring: There are two key elements:\n",
    " * ***Assumptions***: These describe conditions that must be met by users of the function. Typically, they describe constraints on the actual parameters. Almost always, they specify the acceptable set of types for each parameter, and not probably some constraints on the value of one or more of the parameters. \n",
    " * ***Guarantees***: These describe conditions that must be met by the function, provided that it has been called in a way that satisfies the assumptions."
   ]
  },
  {
   "cell_type": "code",
   "execution_count": 22,
   "id": "a11c43ac",
   "metadata": {},
   "outputs": [],
   "source": [
    "def findRoot(x, power, epsilon):\n",
    "    \"\"\"\n",
    "    Assumes x and epsilon int or float, power an int, epsilon > 0 & power >= 1\n",
    "    Returns float y such that y**power is within epsilon of x.\n",
    "    If such a float does not exist, it returns None\n",
    "    \"\"\"\n",
    "    if x < 0 and power%2 == 0:\n",
    "        return None\n",
    "    low = min(-1.0, x)\n",
    "    high = max(1.0, x)\n",
    "    ans = (high + low)/2.0\n",
    "    while abs(ans**power - x) >= epsilon:\n",
    "        if ans**power < x:\n",
    "            low = ans\n",
    "        else:\n",
    "            high = ans\n",
    "        ans = (high + low)/2.0\n",
    "    return ans\n",
    "\n",
    "\n",
    "def testFindRoot():\n",
    "    epsilon = 0.0001\n",
    "    for x in (0.25, -0.25, 2, -2, 8, -8):\n",
    "        for power in range(1, 4):\n",
    "            print('Testing x = ' + str(x) + ' and power = ' + str(power))\n",
    "            result = findRoot(x, power, epsilon)\n",
    "            if result == None:\n",
    "                print('No root')\n",
    "            else:\n",
    "                print('  ', result**power, '~=', x)\n"
   ]
  },
  {
   "cell_type": "code",
   "execution_count": 23,
   "id": "4c8c9963",
   "metadata": {
    "scrolled": true
   },
   "outputs": [
    {
     "name": "stdout",
     "output_type": "stream",
     "text": [
      "Testing x = 0.25 and power = 1\n",
      "   0.25 ~= 0.25\n",
      "Testing x = 0.25 and power = 2\n",
      "   0.25 ~= 0.25\n",
      "Testing x = 0.25 and power = 3\n",
      "   0.24990749079734087 ~= 0.25\n",
      "Testing x = -0.25 and power = 1\n",
      "   -0.25 ~= -0.25\n",
      "Testing x = -0.25 and power = 2\n",
      "No root\n",
      "Testing x = -0.25 and power = 3\n",
      "   -0.24990749079734087 ~= -0.25\n",
      "Testing x = 2 and power = 1\n",
      "   1.999908447265625 ~= 2\n",
      "Testing x = 2 and power = 2\n",
      "   2.0000906325876713 ~= 2\n",
      "Testing x = 2 and power = 3\n",
      "   2.000059155646067 ~= 2\n",
      "Testing x = -2 and power = 1\n",
      "   -1.999908447265625 ~= -2\n",
      "Testing x = -2 and power = 2\n",
      "No root\n",
      "Testing x = -2 and power = 3\n",
      "   -2.000059155646067 ~= -2\n",
      "Testing x = 8 and power = 1\n",
      "   7.999931335449219 ~= 8\n",
      "Testing x = 8 and power = 2\n",
      "   7.99999568007479 ~= 8\n",
      "Testing x = 8 and power = 3\n",
      "   8.000068664747232 ~= 8\n",
      "Testing x = -8 and power = 1\n",
      "   -7.999931335449219 ~= -8\n",
      "Testing x = -8 and power = 2\n",
      "No root\n",
      "Testing x = -8 and power = 3\n",
      "   -8.000068664747232 ~= -8\n"
     ]
    }
   ],
   "source": [
    "testFindRoot()"
   ]
  },
  {
   "cell_type": "code",
   "execution_count": 24,
   "id": "4b2114e5",
   "metadata": {},
   "outputs": [
    {
     "name": "stdout",
     "output_type": "stream",
     "text": [
      "Help on function findRoot in module __main__:\n",
      "\n",
      "findRoot(x, power, epsilon)\n",
      "    Assumes x and epsilon int or float, power an int, epsilon > 0 & power >= 1\n",
      "    Returns float y such that y**power is within epsilon of x.\n",
      "    If such a float does not exist, it returns None\n",
      "\n"
     ]
    }
   ],
   "source": [
    "help(findRoot)"
   ]
  },
  {
   "cell_type": "markdown",
   "id": "1caa11a0",
   "metadata": {},
   "source": [
    "## 2.1.4 Recursion"
   ]
  },
  {
   "cell_type": "markdown",
   "id": "1707ebcc",
   "metadata": {},
   "source": [
    "### Simple Example: Factorial Function (typically written in mathematics using ! on natural numbers)\n",
    "$$\n",
    "1! = 1 \\ (\\text{base case}), \\ \\ \\ (n+1)! = (n+1) \\times n! \\ (\\text{recursive/inductive case}).\n",
    "$$"
   ]
  },
  {
   "cell_type": "code",
   "execution_count": 25,
   "id": "b4cb20e7",
   "metadata": {},
   "outputs": [],
   "source": [
    "def factI(n):  # iterative version\n",
    "    \"\"\"Assumes that n is an int > 0\n",
    "       Returns n!\"\"\"\n",
    "    result = 1\n",
    "    while n > 1:\n",
    "        result = result * n\n",
    "        n -= 1\n",
    "    return result\n",
    "\n",
    "\n",
    "def factR(n):   # recursive version\n",
    "    \"\"\"Assumes that n is an int > 0\n",
    "       Returns n!\"\"\"\n",
    "    if n == 1:\n",
    "        return n\n",
    "    else:\n",
    "        return n*factR(n - 1)\n"
   ]
  },
  {
   "cell_type": "markdown",
   "id": "3fed8c66",
   "metadata": {},
   "source": [
    "### Fibonacci Numbers\n",
    "\n",
    "*“They breed like rabbits,”* is often used to describe a population that the speaker thinks is growing too quickly. In the year 1202, the Italian mathematician Leonardo of Pisa, also known as Fibonacci, developed a\n",
    "formula designed to quantify this notion.\n",
    "\n",
    "Suppose a newly born pair of rabbits, one male and one female, are put in a pen. Suppose further that the rabbits are able to mate at the age of one month and have a one-month gestation period. Finally, suppose that these mythical rabbits never die, and that the female always produces one new pair (one male, one female) every month from its second month on. How many pregnant rabbits will there be at the end of six months?"
   ]
  },
  {
   "cell_type": "markdown",
   "id": "a69bc138",
   "metadata": {},
   "source": [
    "females(0) = 1 <br>\n",
    "females(1) = 1 <br>\n",
    "females(n + 2) = females(n+1) + females(n) <br>"
   ]
  },
  {
   "cell_type": "code",
   "execution_count": 26,
   "id": "123da9cf",
   "metadata": {},
   "outputs": [],
   "source": [
    "def fib(n):\n",
    "    \"\"\"Assumes n an int >= 0\n",
    "       Returns Fibonacci of n\"\"\"\n",
    "    #if n == 2:\n",
    "        #print(\"Compute fib(2).\")\n",
    "    if n == 0 or n == 1:\n",
    "        return 1\n",
    "    else:\n",
    "        return fib(n-1) + fib(n-2)\n",
    "\n",
    "    \n",
    "def testFib(n):\n",
    "    for i in range(n+1):\n",
    "        print('fib of', i, '=', fib(i))\n"
   ]
  },
  {
   "cell_type": "code",
   "execution_count": 27,
   "id": "b87a91ee",
   "metadata": {},
   "outputs": [
    {
     "name": "stdout",
     "output_type": "stream",
     "text": [
      "fib of 0 = 1\n",
      "fib of 1 = 1\n",
      "fib of 2 = 2\n",
      "fib of 3 = 3\n",
      "fib of 4 = 5\n",
      "fib of 5 = 8\n",
      "fib of 6 = 13\n",
      "fib of 7 = 21\n",
      "fib of 8 = 34\n",
      "fib of 9 = 55\n",
      "fib of 10 = 89\n"
     ]
    }
   ],
   "source": [
    "testFib(10)"
   ]
  },
  {
   "cell_type": "markdown",
   "id": "0f757986",
   "metadata": {},
   "source": [
    "### Exercise\n",
    "\n",
    "When the implementation of ```fib``` is used to compute ```fib(5)```, how many times does it compute the value ```fib(2)```?"
   ]
  },
  {
   "cell_type": "code",
   "execution_count": 28,
   "id": "d3f046f7",
   "metadata": {},
   "outputs": [],
   "source": [
    "def fib(n):\n",
    "    \"\"\"Assumes n an int >= 0\n",
    "       Returns Fibonacci of n\"\"\"\n",
    "    if n == 2:\n",
    "        print(\"Compute fib(2).\")\n",
    "    if n == 0 or n == 1:\n",
    "        return 1\n",
    "    else:\n",
    "        return fib(n-1) + fib(n-2)\n",
    "\n",
    "    \n",
    "def testFib(n):\n",
    "    for i in range(n+1):\n",
    "        print('fib of', i, '=', fib(i))"
   ]
  },
  {
   "cell_type": "code",
   "execution_count": 29,
   "id": "585709b2",
   "metadata": {},
   "outputs": [
    {
     "name": "stdout",
     "output_type": "stream",
     "text": [
      "fib of 0 = 1\n",
      "fib of 1 = 1\n",
      "Compute fib(2).\n",
      "fib of 2 = 2\n",
      "Compute fib(2).\n",
      "fib of 3 = 3\n",
      "Compute fib(2).\n",
      "Compute fib(2).\n",
      "fib of 4 = 5\n",
      "Compute fib(2).\n",
      "Compute fib(2).\n",
      "Compute fib(2).\n",
      "fib of 5 = 8\n"
     ]
    }
   ],
   "source": [
    "testFib(5)"
   ]
  },
  {
   "cell_type": "markdown",
   "id": "a43b7bf1",
   "metadata": {},
   "source": [
    "### One more recursion example: Palindromes\n",
    "\n",
    "Check whether a string reads the same way backwards and forwards."
   ]
  },
  {
   "cell_type": "markdown",
   "id": "d4f1343a",
   "metadata": {},
   "source": [
    "* ```isPalindrome``` contains two helper functions ```toChars``` and ```isPal```.\n",
    " * ```isPalindrome``` an example of a problem-solving principle known as ***divide-and-conquer***.\n",
    " * We aim to conquer a hard problem by breaking it into a set of subproblems (by creating some helper functions). "
   ]
  },
  {
   "cell_type": "code",
   "execution_count": 30,
   "id": "58940798",
   "metadata": {},
   "outputs": [],
   "source": [
    "def isPalindrome(s):\n",
    "    \"\"\"Assumes s is a str\n",
    "       Returns True if s is a palindrome; False otherwise.\n",
    "       Punctuation marks, blanks, and capitalization are\n",
    "       ignored.\"\"\"\n",
    "\n",
    "    def toChars(s):\n",
    "        s = s.lower()\n",
    "        letters = ''\n",
    "        for c in s:\n",
    "            if c in 'abcdefghijklmnopqrstuvwxyz':\n",
    "                letters = letters + c\n",
    "        return letters\n",
    "\n",
    "    def isPal(s):\n",
    "        print('isPal called with', s)\n",
    "        if len(s) <= 1:\n",
    "            print('About to return True from base case')\n",
    "            return True\n",
    "        else:\n",
    "            answer = s[0] == s[-1] and isPal(s[1:-1])\n",
    "            print('About to return', answer, 'for', s)\n",
    "            return answer\n",
    "\n",
    "    return isPal(toChars(s))\n",
    "\n",
    "\n",
    "\n",
    "def testIsPalindrome():\n",
    "    print('Try dogGod')\n",
    "    print(isPalindrome('dogGod'))\n",
    "    print('Try doGood')\n",
    "    print(isPalindrome('doGood'))\n",
    "    "
   ]
  },
  {
   "cell_type": "code",
   "execution_count": 31,
   "id": "d67f0cab",
   "metadata": {},
   "outputs": [
    {
     "name": "stdout",
     "output_type": "stream",
     "text": [
      "Try dogGod\n",
      "isPal called with doggod\n",
      "isPal called with oggo\n",
      "isPal called with gg\n",
      "isPal called with \n",
      "About to return True from base case\n",
      "About to return True for gg\n",
      "About to return True for oggo\n",
      "About to return True for doggod\n",
      "True\n",
      "Try doGood\n",
      "isPal called with dogood\n",
      "isPal called with ogoo\n",
      "isPal called with go\n",
      "About to return False for go\n",
      "About to return False for ogoo\n",
      "About to return False for dogood\n",
      "False\n"
     ]
    }
   ],
   "source": [
    "testIsPalindrome()"
   ]
  },
  {
   "cell_type": "markdown",
   "id": "fe505123",
   "metadata": {},
   "source": [
    "## 2.1.5 Global Variables (NOT REQUIRED)"
   ]
  },
  {
   "cell_type": "markdown",
   "id": "649981a6",
   "metadata": {},
   "source": [
    "* The previous ```fib``` function is slow for a large $n$ because we call the function for many times. <br>\n",
    "<br>\n",
    "* Suppose that we want to record the number of calls for ```fib```. <br>\n",
    "<br>\n",
    "* We can achieve this goal by defining a ***global variable***, ```numFibCalls```. "
   ]
  },
  {
   "cell_type": "code",
   "execution_count": 32,
   "id": "185e433d",
   "metadata": {},
   "outputs": [],
   "source": [
    "def fib(x):\n",
    "    \"\"\"Assumes x an int >= 0\n",
    "       Returns Fibonacci of x\"\"\"\n",
    "    global numFibCalls\n",
    "    numFibCalls += 1\n",
    "    if x == 0 or x == 1:\n",
    "        return 1\n",
    "    else:\n",
    "        return fib(x-1) + fib(x-2)\n",
    "\n",
    "\n",
    "def testFib(n):\n",
    "    for i in range(n+1):\n",
    "        global numFibCalls\n",
    "        numFibCalls = 0\n",
    "        print('fib of', i, '=', fib(i))\n",
    "        print('fib called', numFibCalls, 'times.')"
   ]
  },
  {
   "cell_type": "code",
   "execution_count": 33,
   "id": "15165c01",
   "metadata": {},
   "outputs": [
    {
     "name": "stdout",
     "output_type": "stream",
     "text": [
      "fib of 0 = 1\n",
      "fib called 1 times.\n",
      "fib of 1 = 1\n",
      "fib called 1 times.\n",
      "fib of 2 = 2\n",
      "fib called 3 times.\n",
      "fib of 3 = 3\n",
      "fib called 5 times.\n",
      "fib of 4 = 5\n",
      "fib called 9 times.\n",
      "fib of 5 = 8\n",
      "fib called 15 times.\n",
      "fib of 6 = 13\n",
      "fib called 25 times.\n",
      "fib of 7 = 21\n",
      "fib called 41 times.\n",
      "fib of 8 = 34\n",
      "fib called 67 times.\n",
      "fib of 9 = 55\n",
      "fib called 109 times.\n",
      "fib of 10 = 89\n",
      "fib called 177 times.\n"
     ]
    }
   ],
   "source": [
    "testFib(10)"
   ]
  },
  {
   "cell_type": "markdown",
   "id": "36324fa5",
   "metadata": {},
   "source": [
    "* ***Some comments on global variables:***\n",
    " * Since global variables can be modified or read in a wide variety of places, the sloppy use of them can destroy locality. \n",
    " * Nevertheless, there are times when they are just what is needed."
   ]
  },
  {
   "cell_type": "markdown",
   "id": "762cffda",
   "metadata": {},
   "source": [
    "## 2.1.6 Modules"
   ]
  },
  {
   "cell_type": "markdown",
   "id": "c36fe445",
   "metadata": {},
   "source": [
    "* So far, we have operated under the assumption that our entire program is stored in one file. <br>\n",
    "<br>\n",
    "* As programs get larger, it is typically more convenient to store different parts of them in different files.  \n",
    " * Imagine, for example, that multiple people are working on the same program. It would be a nightmare if they were all trying to update the same file. <br>\n",
    "<br>\n",
    "* We can create a **module** to store the codes and read them into our current environment. \n",
    " * A module is a .py file containing Python definitions and statements. See the ```circle``` module.\n",
    " * Modules are typically stored in individual files. Each module has its own private symbol table. For instance, within circle.py, we access objects using ```circle.XXX``` (e.g., ```circle.pi```). "
   ]
  },
  {
   "cell_type": "code",
   "execution_count": 34,
   "id": "bec4385e",
   "metadata": {},
   "outputs": [
    {
     "name": "stdout",
     "output_type": "stream",
     "text": [
      "3.14159\n",
      "28.27431\n",
      "18.849539999999998\n",
      "113.09724\n"
     ]
    }
   ],
   "source": [
    "import circle\n",
    "print(circle.pi)\n",
    "print(circle.area(3))\n",
    "print(circle.circumference(3))\n",
    "print(circle.sphereSurface(3))"
   ]
  },
  {
   "cell_type": "markdown",
   "id": "ec1f2aeb",
   "metadata": {},
   "source": [
    "* When one imports a module one often has no idea what local names might have been used in the implementation of that module. The use of ***dot notation*** to fully qualify names avoids the possibility of getting burned by an accidental name clash. \n",
    " * For example, the assignment statement ```pi = 3.0``` does not change the value of ```pi``` used within the ```circle``` module. <br>\n",
    "<br>\n",
    "* There is a variant of the import statement that allows the importing program to omit the module name: ```from M import *``` (not recommended in most cases). "
   ]
  },
  {
   "cell_type": "code",
   "execution_count": 35,
   "id": "4fb14e41",
   "metadata": {},
   "outputs": [
    {
     "name": "stdout",
     "output_type": "stream",
     "text": [
      "3.14159\n",
      "3.14159\n"
     ]
    }
   ],
   "source": [
    "from circle import *\n",
    "print(pi)\n",
    "print(circle.pi)"
   ]
  },
  {
   "cell_type": "markdown",
   "id": "49154b95",
   "metadata": {},
   "source": [
    "---"
   ]
  },
  {
   "cell_type": "markdown",
   "id": "8a717f2c",
   "metadata": {},
   "source": [
    "# END"
   ]
  }
 ],
 "metadata": {
  "kernelspec": {
   "display_name": "env",
   "language": "python",
   "name": "python3"
  },
  "language_info": {
   "codemirror_mode": {
    "name": "ipython",
    "version": 3
   },
   "file_extension": ".py",
   "mimetype": "text/x-python",
   "name": "python",
   "nbconvert_exporter": "python",
   "pygments_lexer": "ipython3",
   "version": "3.11.0"
  }
 },
 "nbformat": 4,
 "nbformat_minor": 5
}
