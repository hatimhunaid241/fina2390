{
 "cells": [
  {
   "cell_type": "markdown",
   "id": "5b467ca8-3082-451c-b1fb-e7654a7e176d",
   "metadata": {},
   "source": [
    "# Tutorial 3: Numpy Basics"
   ]
  },
  {
   "cell_type": "markdown",
   "id": "ba4f158b-21a8-4249-8b66-6f5e4382a669",
   "metadata": {},
   "source": [
    "## 3.1 Agenda\n",
    "This tutorial focuses on the most important numpy package functions and array methods, and provide some corresponding practices."
   ]
  },
  {
   "cell_type": "markdown",
   "id": "f3a00fb1-4fb1-4895-b35d-a8493765fa6a",
   "metadata": {},
   "source": [
    "## 3.2 Numpy Fancy indexing and slicing\n",
    "\n",
    "### Introduction of numpy arrays\n",
    "- Numpy arrays are a class of mutable collections of elements that are optimized in efficient data handling and numerical operations.\n",
    "- Numpy arrays support vectorized methods that are much faster (often more than 100x faster) to run that iterating a list\n",
    "- Numpy array can be nested inside a numpy array to create multi-dimensional arrays. \n",
    "- The following shows the example of fancy indexing with numpy array, where we perform indexing with a list of multiple indices:"
   ]
  },
  {
   "cell_type": "code",
   "execution_count": 1,
   "id": "09887c0e-53ec-48e8-a288-44f765ae7870",
   "metadata": {
    "tags": []
   },
   "outputs": [
    {
     "name": "stdout",
     "output_type": "stream",
     "text": [
      "[1 2 3 4 5 6 7 8]\n",
      "Simple Indexing: 4\n",
      "Fancy Indexing: [2 3 6 8]\n"
     ]
    }
   ],
   "source": [
    "import numpy as np\n",
    "\n",
    "array1 = np.array(range(1,9))\n",
    "print(array1)\n",
    "\n",
    "# select a single element\n",
    "simple_indexing = array1[3]\n",
    "\n",
    "print(\"Simple Indexing:\",simple_indexing)   # 4\n",
    "\n",
    "# select multiple elements\n",
    "fancy_indexing = array1[[1, 2, 5, 7]]\n",
    "\n",
    "print(\"Fancy Indexing:\",fancy_indexing)   # [2 3 6 8]"
   ]
  },
  {
   "cell_type": "code",
   "execution_count": 2,
   "id": "85f0f195-bff7-49bf-882e-98f33a63094f",
   "metadata": {},
   "outputs": [
    {
     "data": {
      "text/plain": [
       "array([2, 3])"
      ]
     },
     "execution_count": 2,
     "metadata": {},
     "output_type": "execute_result"
    }
   ],
   "source": [
    "array1[1:3]"
   ]
  },
  {
   "cell_type": "markdown",
   "id": "65940670-a410-4581-8536-b2b88d0d6595",
   "metadata": {},
   "source": [
    "- `np.argsort()` function accepts array input, returns an array that contains the indices of input array elements, where input elements are in **ascending** order."
   ]
  },
  {
   "cell_type": "code",
   "execution_count": 3,
   "id": "e4af944e-9b9d-420c-9b52-23e375a20104",
   "metadata": {
    "tags": []
   },
   "outputs": [
    {
     "name": "stdout",
     "output_type": "stream",
     "text": [
      "Orignal array: [3 2 6 1 8 5 7 4]\n",
      "For sorting in ascending order:\n",
      "np.argsort() function returns:  [3 1 0 7 5 2 6 4]\n",
      "The sorted array is: [1 2 3 4 5 6 7 8]\n",
      "For sorting in descending order:\n",
      "np.argsort() function returns:  [4 6 2 5 7 0 1 3]\n",
      "The sorted array is: [8 7 6 5 4 3 2 1]\n"
     ]
    }
   ],
   "source": [
    "array2 = np.array([3, 2, 6, 1, 8, 5, 7, 4])\n",
    "print(\"Orignal array:\", array2)\n",
    "print(\"For sorting in ascending order:\")\n",
    "# sort array2 using fancy indexing\n",
    "sorted_array = array2[np.argsort(array2)]\n",
    "\n",
    "print(\"np.argsort() function returns: \",np.argsort(array2))\n",
    "\n",
    "print(\"The sorted array is:\", sorted_array)\n",
    "\n",
    "print(\"For sorting in descending order:\")\n",
    "# sort array2 using fancy indexing in descending order\n",
    "sorted_array = array2[np.argsort(-array2)]\n",
    "\n",
    "print(\"np.argsort() function returns: \",np.argsort(-array2))\n",
    "\n",
    "print(\"The sorted array is:\", sorted_array)\n",
    "\n",
    "# Output: [8 7 6 5 4 3 2 1]"
   ]
  },
  {
   "cell_type": "code",
   "execution_count": 6,
   "id": "9c64409a-62a4-4701-9436-1928d71968a2",
   "metadata": {},
   "outputs": [
    {
     "name": "stdout",
     "output_type": "stream",
     "text": [
      "[3 1 0 7 5 2 6 4]\n",
      "[1 2 3 4 5 6 7 8]\n"
     ]
    }
   ],
   "source": [
    "array2 = np.array([3, 2, 6, 1, 8, 5, 7, 4])\n",
    "print(np.argsort(array2))\n",
    "print(array2[np.argsort(array2)])"
   ]
  },
  {
   "cell_type": "markdown",
   "id": "cb827e1a-f8dd-4751-b3da-7f3fc740b25e",
   "metadata": {},
   "source": [
    "- The following example shows the slicing of 2D array, syntax similar to slicing of lists:"
   ]
  },
  {
   "cell_type": "code",
   "execution_count": 7,
   "id": "7fc80760-9d03-4027-a22f-0d6686cbe08a",
   "metadata": {
    "tags": []
   },
   "outputs": [
    {
     "name": "stdout",
     "output_type": "stream",
     "text": [
      "First Two Rows and Columns: \n",
      " [[ 1  3]\n",
      " [ 9 11]]\n",
      "Last two Rows and Columns: \n",
      " [[13 15]\n",
      " [ 6  8]]\n"
     ]
    }
   ],
   "source": [
    "# create a 2D array \n",
    "array1 = np.array([[1, 3, 5, 7], \n",
    "                      [9, 11, 13, 15],\n",
    "                      [2, 4, 6, 8]])\n",
    "\n",
    "\n",
    "# slice the array to get the first two rows and columns\n",
    "subarray1 = array1[:2, :2]\n",
    "\n",
    "# slice the array to get the last two rows and columns\n",
    "subarray2 = array1[1:3, 2:4]\n",
    "\n",
    "# print the subarrays\n",
    "print(\"First Two Rows and Columns: \\n\",subarray1)\n",
    "print(\"Last two Rows and Columns: \\n\",subarray2)"
   ]
  },
  {
   "cell_type": "markdown",
   "id": "10cafe67-a617-4ebf-9123-b4092d7a1095",
   "metadata": {},
   "source": [
    "## 3.3 Numpy array operations\n",
    "### element-wise operations\n",
    "- Numpy array supports element-wise arithmatic operations that are simple in syntax and faster to run than iterating two lists in ordinary python."
   ]
  },
  {
   "cell_type": "code",
   "execution_count": 8,
   "id": "e4f999e9-d862-4411-8814-0fb7779fc720",
   "metadata": {
    "tags": []
   },
   "outputs": [
    {
     "name": "stdout",
     "output_type": "stream",
     "text": [
      "Using the * operator: [ 2 12 30 56]\n",
      "Using the multiply() function: [ 2 12 30 56]\n"
     ]
    }
   ],
   "source": [
    "first_array = np.array([1, 3, 5, 7])\n",
    "second_array = np.array([2, 4, 6, 8])\n",
    "\n",
    "# using the * operator\n",
    "result1 = first_array * second_array\n",
    "print(\"Using the * operator:\",result1) \n",
    "\n",
    "# using the multiply() function\n",
    "result2 = np.multiply(first_array, second_array)\n",
    "print(\"Using the multiply() function:\",result2) "
   ]
  },
  {
   "cell_type": "markdown",
   "id": "c9358af2-603e-47da-8c8d-6e2bfbf89813",
   "metadata": {},
   "source": [
    "### Array broadcasting\n",
    "- A 2D array with $m$ rows and $n$ columns (dimension $m \\times n$) can perform arithmatic operations with a row array with $n$ elements or a column array with $m$ elements to generate a new $m \\times n$ array."
   ]
  },
  {
   "cell_type": "code",
   "execution_count": 9,
   "id": "5a581b7c-5acc-481e-a0b8-c47c127cd808",
   "metadata": {
    "tags": []
   },
   "outputs": [
    {
     "name": "stdout",
     "output_type": "stream",
     "text": [
      "first array: \n",
      " [[ 1  2  3]\n",
      " [ 4  5  6]\n",
      " [ 7  8  9]\n",
      " [10 11 12]]\n"
     ]
    }
   ],
   "source": [
    "array3 = np.arange(1,13).reshape(4,3) #dimension(4, 3)\n",
    "print(\"first array: \\n\",array3)"
   ]
  },
  {
   "cell_type": "code",
   "execution_count": 10,
   "id": "1e477548-cefc-4452-a68e-9f4be041039b",
   "metadata": {
    "tags": []
   },
   "outputs": [
    {
     "name": "stdout",
     "output_type": "stream",
     "text": [
      "Second array: [5 7 9]\n",
      "Summation results: \n",
      " [[ 6  9 12]\n",
      " [ 9 12 15]\n",
      " [12 15 18]\n",
      " [15 18 21]]\n"
     ]
    }
   ],
   "source": [
    "array4 = np.array([5, 7, 9])\n",
    "print(\"Second array:\",array4)\n",
    "print(\"Summation results: \\n\",array3 + array4)"
   ]
  },
  {
   "cell_type": "code",
   "execution_count": 11,
   "id": "d1bb2910-3fe4-4813-8042-631bcd11126c",
   "metadata": {
    "tags": []
   },
   "outputs": [
    {
     "name": "stdout",
     "output_type": "stream",
     "text": [
      "Second array: \n",
      " [[1]\n",
      " [2]\n",
      " [3]\n",
      " [4]]\n",
      "Multiplication results: \n",
      " [[ 1  2  3]\n",
      " [ 8 10 12]\n",
      " [21 24 27]\n",
      " [40 44 48]]\n"
     ]
    }
   ],
   "source": [
    "array5 = np.array([[1], [2], [3],[4]])\n",
    "print(\"Second array: \\n\",array5)\n",
    "print(\"Multiplication results: \\n\", array3 * array5)"
   ]
  },
  {
   "cell_type": "code",
   "execution_count": 12,
   "id": "d8023346-f8e2-4711-af60-0897d7962aff",
   "metadata": {
    "tags": []
   },
   "outputs": [
    {
     "name": "stdout",
     "output_type": "stream",
     "text": [
      "first array: [7 8 9]\n",
      "Second array: \n",
      " [[1]\n",
      " [2]\n",
      " [3]\n",
      " [4]]\n"
     ]
    }
   ],
   "source": [
    "array6 = np.array([7 ,8 ,9])\n",
    "print(\"first array:\",array6)\n",
    "print(\"Second array: \\n\",array5)"
   ]
  },
  {
   "cell_type": "code",
   "execution_count": 13,
   "id": "8f5bb497-c65c-476b-913a-943f8397fc54",
   "metadata": {
    "tags": []
   },
   "outputs": [
    {
     "name": "stdout",
     "output_type": "stream",
     "text": [
      "Addition results: \n",
      " [[ 8  9 10]\n",
      " [ 9 10 11]\n",
      " [10 11 12]\n",
      " [11 12 13]]\n"
     ]
    }
   ],
   "source": [
    "print(\"Addition results: \\n\", array5 + array6)"
   ]
  },
  {
   "cell_type": "markdown",
   "id": "b69d23d6-77a1-4e84-acd7-276900657106",
   "metadata": {},
   "source": [
    "## 3.4 Random number generation\n",
    "- `np.random.randint(low, high=None, size=None)` function returns an array of randomly generated integers ranging from `low` to `high`, with dimension stated in `size` integer or tuple\n",
    "- `np.random.rand(d0, d1, ..., dn)` function returns an array of uniformly distributed floats from 0 to 1, with dimension stated inside the argument\n",
    "- `np.random.randn(d0, d1, ..., dn)` function returns an array of floats following standard normal distribution, with dimension stated inside the argument"
   ]
  },
  {
   "cell_type": "code",
   "execution_count": 14,
   "id": "d329b951-186a-49dd-bb13-137877e5fdc7",
   "metadata": {
    "tags": []
   },
   "outputs": [
    {
     "name": "stdout",
     "output_type": "stream",
     "text": [
      "1D Random Integer Array:\n",
      " [8 2 4 4 2]\n",
      "\n",
      "1D Random Float Array:\n",
      " [0.36256951 0.96336679 0.14158695 0.61483362 0.88088047]\n",
      "\n",
      "2D Random Integer Array:\n",
      " [[7 9 5 1]\n",
      " [2 1 7 8]\n",
      " [5 1 8 2]]\n",
      "\n",
      "2D Standard Normal Array:\n",
      " [[-0.17935699  0.02909815 -0.13483142 -0.79172604]\n",
      " [ 0.24966164  0.40947554 -0.8884483   0.82634381]\n",
      " [ 0.0418398   1.45829119  0.49134305 -1.05714165]]\n"
     ]
    }
   ],
   "source": [
    "# generate 1D array of 5 random integers between 0 and 9\n",
    "integer_array = np.random.randint(0, 10, 5)\n",
    "\n",
    "print(\"1D Random Integer Array:\\n\",integer_array)\n",
    "\n",
    "# generate 1D array of 5 random numbers between 0 and 1\n",
    "float_array = np.random.rand(5)\n",
    "\n",
    "print(\"\\n1D Random Float Array:\\n\",float_array)\n",
    "\n",
    "# generate 2D array of shape (3, 4) with random integers\n",
    "result = np.random.randint(0, 10, (3,4))\n",
    "\n",
    "print(\"\\n2D Random Integer Array:\\n\",result)\n",
    "\n",
    "# generate 2D array of shape (3, 4) following standard normal distribution\n",
    "result = np.random.randn(3, 4)\n",
    "print(\"\\n2D Standard Normal Array:\\n\",result)"
   ]
  },
  {
   "cell_type": "markdown",
   "id": "49bc2a3a-67e6-4a95-a5da-35144e7bb7ce",
   "metadata": {},
   "source": [
    "- `.round(decimals)` method of array rounds each element to the stated decimal places.\n",
    "- In the following example, now generate a $2 \\times 4$ array of uniformly distributed numbers from 10000 to 20000, round to 2 decimal places."
   ]
  },
  {
   "cell_type": "code",
   "execution_count": 15,
   "id": "f3ff7e4f-72cd-4858-8832-ac47841227e8",
   "metadata": {
    "tags": []
   },
   "outputs": [
    {
     "name": "stdout",
     "output_type": "stream",
     "text": [
      "[[13167.91 18667.88 13387.09 12346.41]\n",
      " [19751.62 11705.46 19028.05 15628.52]]\n"
     ]
    }
   ],
   "source": [
    "sample = np.random.rand(2, 4)*10000 + 10000\n",
    "print(sample.round(2)) #round to 2 decimal places"
   ]
  },
  {
   "cell_type": "markdown",
   "id": "211807f3-9fd5-4229-858e-1948393c7267",
   "metadata": {},
   "source": [
    "### Practice Question\n",
    "1. Randomly generate a transcript for 20 students. The transcript should contain scores for 4 subjects, including Math, Economics, Finance, and Science. The score ranges from 40 to 100, keep one decimal digit.\n",
    "2. Show the highest mark for each subject.\n",
    "3. List the row indices for the top 5 students based on the average score. "
   ]
  },
  {
   "cell_type": "code",
   "execution_count": 18,
   "id": "d562e610-8b43-42a8-970a-841572700d88",
   "metadata": {},
   "outputs": [
    {
     "name": "stdout",
     "output_type": "stream",
     "text": [
      "[[ 68.7  42.2  80.8  99.8]\n",
      " [ 69.9  58.2  83.   69.3]\n",
      " [ 78.   41.6  64.5  87.3]\n",
      " [ 78.4  60.6  99.4  91.7]\n",
      " [ 51.   70.4  60.5  59.3]\n",
      " [ 79.9  78.7  71.1  55.4]\n",
      " [ 41.   80.3  95.4  87.1]\n",
      " [ 86.2  93.9  83.2  64.2]\n",
      " [ 78.9  85.4  95.6  60.8]\n",
      " [ 72.4  80.2  66.9  90.8]\n",
      " [ 54.   72.3  44.1  89.1]\n",
      " [ 42.8  87.2  44.1 100. ]\n",
      " [ 80.6  46.1  80.   98.3]\n",
      " [ 80.8  96.3  54.5  60.1]\n",
      " [ 62.2  58.   79.2  61.8]\n",
      " [ 76.   49.1  71.5  97.4]\n",
      " [ 62.   50.1  73.2  90.8]\n",
      " [ 66.5  70.3  97.4  98.2]\n",
      " [ 96.6  58.8  64.7  84.7]\n",
      " [ 59.6  96.2  44.1  56.2]]\n"
     ]
    }
   ],
   "source": [
    "transcript = (np.random.rand(20, 4) * 60 + 40).round(1)\n",
    "print(transcript)"
   ]
  },
  {
   "cell_type": "code",
   "execution_count": 19,
   "id": "e88e5f43-41b1-41d2-aa2b-e24c2258ed87",
   "metadata": {},
   "outputs": [
    {
     "data": {
      "text/plain": [
       "array([ 96.6,  96.3,  99.4, 100. ])"
      ]
     },
     "execution_count": 19,
     "metadata": {},
     "output_type": "execute_result"
    }
   ],
   "source": [
    "np.max(transcript, axis=0)"
   ]
  },
  {
   "cell_type": "code",
   "execution_count": 20,
   "id": "ed52b010-c9fe-42b8-8f9c-a8a4b8390759",
   "metadata": {},
   "outputs": [
    {
     "data": {
      "text/plain": [
       "array([ 99.8,  83. ,  87.3,  99.4,  70.4,  79.9,  95.4,  93.9,  95.6,\n",
       "        90.8,  89.1, 100. ,  98.3,  96.3,  79.2,  97.4,  90.8,  98.2,\n",
       "        96.6,  96.2])"
      ]
     },
     "execution_count": 20,
     "metadata": {},
     "output_type": "execute_result"
    }
   ],
   "source": [
    "np.max(transcript, axis=1)"
   ]
  },
  {
   "cell_type": "code",
   "execution_count": 22,
   "id": "00c47b22-55bc-4b3b-b13f-d97f4a707ac9",
   "metadata": {},
   "outputs": [
    {
     "data": {
      "text/plain": [
       "array([72.875, 70.1  , 67.85 , 82.525, 60.3  , 71.275, 75.95 , 81.875,\n",
       "       80.175, 77.575, 64.875, 68.525, 76.25 , 72.925, 65.3  , 73.5  ,\n",
       "       69.025, 83.1  , 76.2  , 64.025])"
      ]
     },
     "execution_count": 22,
     "metadata": {},
     "output_type": "execute_result"
    }
   ],
   "source": [
    "np.mean(transcript, axis=1)"
   ]
  },
  {
   "cell_type": "code",
   "execution_count": 23,
   "id": "a71af8a9-d6fc-49d4-9280-ec20e9c9d125",
   "metadata": {},
   "outputs": [
    {
     "data": {
      "text/plain": [
       "array([ 4, 19, 10, 14,  2, 11, 16,  1,  5,  0, 13, 15,  6, 18, 12,  9,  8,\n",
       "        7,  3, 17], dtype=int64)"
      ]
     },
     "execution_count": 23,
     "metadata": {},
     "output_type": "execute_result"
    }
   ],
   "source": [
    "avg_score = np.mean(transcript, axis=1)\n",
    "np.argsort(avg_score)"
   ]
  },
  {
   "cell_type": "code",
   "execution_count": 24,
   "id": "16d613b3-5172-47eb-81d2-7277f40a034d",
   "metadata": {},
   "outputs": [
    {
     "data": {
      "text/plain": [
       "array([17,  3,  7,  8,  9], dtype=int64)"
      ]
     },
     "execution_count": 24,
     "metadata": {},
     "output_type": "execute_result"
    }
   ],
   "source": [
    "np.argsort(avg_score)[:-6:-1]"
   ]
  },
  {
   "cell_type": "code",
   "execution_count": 25,
   "id": "e1f40b2a-ad8f-4c45-83e1-a4603572ff2f",
   "metadata": {},
   "outputs": [
    {
     "name": "stdout",
     "output_type": "stream",
     "text": [
      "[17  3  7  8  9]\n"
     ]
    }
   ],
   "source": [
    "avg_score = np.mean(transcript, axis=1)\n",
    "top_5_students = np.argsort(avg_score)[:-6:-1]\n",
    "print(top_5_students)"
   ]
  },
  {
   "cell_type": "code",
   "execution_count": null,
   "id": "7a3828f4-2087-40ac-8975-fe40fbc8bfbf",
   "metadata": {},
   "outputs": [],
   "source": []
  }
 ],
 "metadata": {
  "kernelspec": {
   "display_name": "Python 3 (ipykernel)",
   "language": "python",
   "name": "python3"
  },
  "language_info": {
   "codemirror_mode": {
    "name": "ipython",
    "version": 3
   },
   "file_extension": ".py",
   "mimetype": "text/x-python",
   "name": "python",
   "nbconvert_exporter": "python",
   "pygments_lexer": "ipython3",
   "version": "3.12.4"
  }
 },
 "nbformat": 4,
 "nbformat_minor": 5
}
