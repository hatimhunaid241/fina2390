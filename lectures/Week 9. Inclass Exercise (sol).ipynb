{
 "cells": [
  {
   "cell_type": "markdown",
   "id": "30b6ec94-2b62-4fa5-adda-0d86a00d5c2a",
   "metadata": {},
   "source": [
    "# In-Class Exercise (Lecture 9)"
   ]
  },
  {
   "cell_type": "code",
   "execution_count": 1,
   "id": "a10b9d52-1c80-433b-99ff-d781cd1c6580",
   "metadata": {},
   "outputs": [],
   "source": [
    "import numpy as np\n",
    "import pandas as pd\n",
    "np.random.seed(12345)\n",
    "import matplotlib.pyplot as plt\n",
    "plt.rc('figure', figsize=(6, 3))\n",
    "PREVIOUS_MAX_ROWS = pd.options.display.max_rows\n",
    "pd.options.display.max_rows = 20\n",
    "np.set_printoptions(precision=6, suppress=True)"
   ]
  },
  {
   "cell_type": "markdown",
   "id": "3c13ad6d-50ff-4a3b-9b8a-37fbd8dde377",
   "metadata": {},
   "source": [
    "---"
   ]
  },
  {
   "cell_type": "markdown",
   "id": "9725c5f7-f448-4aa4-b0f6-b598b9f9b2b6",
   "metadata": {},
   "source": [
    "In this exercise, you are going to explore the estimation uncertainty in the covariance term. To investigate this question, we conduct simple Monte Carlo simulations and next introduce the concept of Bootstrap. First, you need to load the dataset **\"stock_px_2.csv\"** used in lecture 9, as follows: "
   ]
  },
  {
   "cell_type": "code",
   "execution_count": 2,
   "id": "0485c615-ac3a-4cee-ae9e-226f7a4a1a56",
   "metadata": {},
   "outputs": [
    {
     "data": {
      "text/html": [
       "<div>\n",
       "<style scoped>\n",
       "    .dataframe tbody tr th:only-of-type {\n",
       "        vertical-align: middle;\n",
       "    }\n",
       "\n",
       "    .dataframe tbody tr th {\n",
       "        vertical-align: top;\n",
       "    }\n",
       "\n",
       "    .dataframe thead th {\n",
       "        text-align: right;\n",
       "    }\n",
       "</style>\n",
       "<table border=\"1\" class=\"dataframe\">\n",
       "  <thead>\n",
       "    <tr style=\"text-align: right;\">\n",
       "      <th></th>\n",
       "      <th>AAPL</th>\n",
       "      <th>MSFT</th>\n",
       "      <th>XOM</th>\n",
       "    </tr>\n",
       "  </thead>\n",
       "  <tbody>\n",
       "    <tr>\n",
       "      <th>2003-01-02</th>\n",
       "      <td>7.40</td>\n",
       "      <td>21.11</td>\n",
       "      <td>29.22</td>\n",
       "    </tr>\n",
       "    <tr>\n",
       "      <th>2003-01-03</th>\n",
       "      <td>7.45</td>\n",
       "      <td>21.14</td>\n",
       "      <td>29.24</td>\n",
       "    </tr>\n",
       "    <tr>\n",
       "      <th>2003-01-06</th>\n",
       "      <td>7.45</td>\n",
       "      <td>21.52</td>\n",
       "      <td>29.96</td>\n",
       "    </tr>\n",
       "    <tr>\n",
       "      <th>2003-01-07</th>\n",
       "      <td>7.43</td>\n",
       "      <td>21.93</td>\n",
       "      <td>28.95</td>\n",
       "    </tr>\n",
       "    <tr>\n",
       "      <th>2003-01-08</th>\n",
       "      <td>7.28</td>\n",
       "      <td>21.31</td>\n",
       "      <td>28.83</td>\n",
       "    </tr>\n",
       "  </tbody>\n",
       "</table>\n",
       "</div>"
      ],
      "text/plain": [
       "            AAPL   MSFT    XOM\n",
       "2003-01-02  7.40  21.11  29.22\n",
       "2003-01-03  7.45  21.14  29.24\n",
       "2003-01-06  7.45  21.52  29.96\n",
       "2003-01-07  7.43  21.93  28.95\n",
       "2003-01-08  7.28  21.31  28.83"
      ]
     },
     "execution_count": 2,
     "metadata": {},
     "output_type": "execute_result"
    }
   ],
   "source": [
    "close_px_all = pd.read_csv('../data/stock_px_2.csv',\n",
    "                           parse_dates=True, index_col=0)\n",
    "close_px = close_px_all[['AAPL', 'MSFT', 'XOM']]\n",
    "close_px.head()"
   ]
  },
  {
   "cell_type": "markdown",
   "id": "01965e0a-6ddd-4c38-9c11-2fcabe5bf94c",
   "metadata": {},
   "source": [
    "Next, we focus on the subsample of AAPL and MSFT between 2006 and 2010 and compute their daily stock returns as follows:"
   ]
  },
  {
   "cell_type": "code",
   "execution_count": 3,
   "id": "8123ae38-f006-41df-af06-9cd8782cff3f",
   "metadata": {},
   "outputs": [
    {
     "data": {
      "text/html": [
       "<div>\n",
       "<style scoped>\n",
       "    .dataframe tbody tr th:only-of-type {\n",
       "        vertical-align: middle;\n",
       "    }\n",
       "\n",
       "    .dataframe tbody tr th {\n",
       "        vertical-align: top;\n",
       "    }\n",
       "\n",
       "    .dataframe thead th {\n",
       "        text-align: right;\n",
       "    }\n",
       "</style>\n",
       "<table border=\"1\" class=\"dataframe\">\n",
       "  <thead>\n",
       "    <tr style=\"text-align: right;\">\n",
       "      <th></th>\n",
       "      <th>AAPL</th>\n",
       "      <th>MSFT</th>\n",
       "    </tr>\n",
       "  </thead>\n",
       "  <tbody>\n",
       "    <tr>\n",
       "      <th>2006-01-04</th>\n",
       "      <td>0.002943</td>\n",
       "      <td>0.004568</td>\n",
       "    </tr>\n",
       "    <tr>\n",
       "      <th>2006-01-05</th>\n",
       "      <td>-0.007870</td>\n",
       "      <td>0.000827</td>\n",
       "    </tr>\n",
       "    <tr>\n",
       "      <th>2006-01-06</th>\n",
       "      <td>0.025813</td>\n",
       "      <td>-0.002891</td>\n",
       "    </tr>\n",
       "    <tr>\n",
       "      <th>2006-01-09</th>\n",
       "      <td>-0.003277</td>\n",
       "      <td>-0.002071</td>\n",
       "    </tr>\n",
       "    <tr>\n",
       "      <th>2006-01-10</th>\n",
       "      <td>0.063248</td>\n",
       "      <td>0.005396</td>\n",
       "    </tr>\n",
       "  </tbody>\n",
       "</table>\n",
       "</div>"
      ],
      "text/plain": [
       "                AAPL      MSFT\n",
       "2006-01-04  0.002943  0.004568\n",
       "2006-01-05 -0.007870  0.000827\n",
       "2006-01-06  0.025813 -0.002891\n",
       "2006-01-09 -0.003277 -0.002071\n",
       "2006-01-10  0.063248  0.005396"
      ]
     },
     "execution_count": 3,
     "metadata": {},
     "output_type": "execute_result"
    }
   ],
   "source": [
    "rets = close_px.loc['2006':'2010'][['AAPL', 'MSFT']].pct_change().dropna()\n",
    "rets.head()"
   ]
  },
  {
   "cell_type": "markdown",
   "id": "3d1c0756-8253-4b3b-bc0c-796d1882a78c",
   "metadata": {},
   "source": [
    "Using the above five-year daily stock return data, we estimate the covariance matrix of stock returns, denoted as $\\Sigma$, and we use $\\Sigma$ to simulate stock return data later. "
   ]
  },
  {
   "cell_type": "code",
   "execution_count": 18,
   "id": "33b89230-b4de-47d9-a2f7-c46c3f926579",
   "metadata": {},
   "outputs": [
    {
     "name": "stdout",
     "output_type": "stream",
     "text": [
      "[[0.000651 0.000248]\n",
      " [0.000248 0.000412]]\n"
     ]
    }
   ],
   "source": [
    "Σ = rets.cov().values    # we treat Σ as the hypothetical true covariance matrix of stock returns\n",
    "print(Σ)"
   ]
  },
  {
   "cell_type": "markdown",
   "id": "5b593b43-05c8-467c-a4a0-2e8eba87e1f8",
   "metadata": {},
   "source": [
    "## Q1.1\n",
    "\n",
    "In this question, you are going to simulate the daily stock returns (of AAPL and MSFT) using an independent and identically distributed (IID) multivariate normal distribution, i.e., $\\mathcal{N} (0, \\Sigma)$. Next, we compute the monthly stock returns as the sum of daily stock returns per month (Hint: Resampling). \n",
    "\n",
    "The codes used to simulate daily stock returns are given as follows:"
   ]
  },
  {
   "cell_type": "code",
   "execution_count": 5,
   "id": "50a6bd44-4a87-42b1-b71a-5c788f734bd8",
   "metadata": {},
   "outputs": [
    {
     "data": {
      "text/html": [
       "<div>\n",
       "<style scoped>\n",
       "    .dataframe tbody tr th:only-of-type {\n",
       "        vertical-align: middle;\n",
       "    }\n",
       "\n",
       "    .dataframe tbody tr th {\n",
       "        vertical-align: top;\n",
       "    }\n",
       "\n",
       "    .dataframe thead th {\n",
       "        text-align: right;\n",
       "    }\n",
       "</style>\n",
       "<table border=\"1\" class=\"dataframe\">\n",
       "  <thead>\n",
       "    <tr style=\"text-align: right;\">\n",
       "      <th></th>\n",
       "      <th>AAPL</th>\n",
       "      <th>MSFT</th>\n",
       "    </tr>\n",
       "  </thead>\n",
       "  <tbody>\n",
       "    <tr>\n",
       "      <th>2006-01-04</th>\n",
       "      <td>-0.033880</td>\n",
       "      <td>-0.032813</td>\n",
       "    </tr>\n",
       "    <tr>\n",
       "      <th>2006-01-05</th>\n",
       "      <td>0.021831</td>\n",
       "      <td>-0.006564</td>\n",
       "    </tr>\n",
       "    <tr>\n",
       "      <th>2006-01-06</th>\n",
       "      <td>-0.001253</td>\n",
       "      <td>-0.044251</td>\n",
       "    </tr>\n",
       "    <tr>\n",
       "      <th>2006-01-09</th>\n",
       "      <td>-0.035508</td>\n",
       "      <td>-0.036657</td>\n",
       "    </tr>\n",
       "    <tr>\n",
       "      <th>2006-01-10</th>\n",
       "      <td>-0.005556</td>\n",
       "      <td>-0.008196</td>\n",
       "    </tr>\n",
       "  </tbody>\n",
       "</table>\n",
       "</div>"
      ],
      "text/plain": [
       "                AAPL      MSFT\n",
       "2006-01-04 -0.033880 -0.032813\n",
       "2006-01-05  0.021831 -0.006564\n",
       "2006-01-06 -0.001253 -0.044251\n",
       "2006-01-09 -0.035508 -0.036657\n",
       "2006-01-10 -0.005556 -0.008196"
      ]
     },
     "execution_count": 5,
     "metadata": {},
     "output_type": "execute_result"
    }
   ],
   "source": [
    "np.random.seed(1)\n",
    "T_sim = rets.shape[0]\n",
    "rets_sim_d = pd.DataFrame(np.random.multivariate_normal(mean=np.zeros(2), cov=Σ, size=T_sim), \n",
    "                          index=rets.index, columns=['AAPL', 'MSFT'])\n",
    "rets_sim_d.head()"
   ]
  },
  {
   "cell_type": "markdown",
   "id": "724e2e07-d100-4b07-90c6-6192d4a23588",
   "metadata": {},
   "source": [
    "#### Questions:\n",
    "\n",
    "* What is the correlation coefficient between the daily stock returns of AAPL and MSFT in this simulation path?\n",
    "\n",
    "* What is the correlation coefficient between the monthly stock returns of AAPL and MSFT in this simulation path?\n",
    "\n",
    "* Are the correlation coefficients estimated at daily and monthly frequencies close to their hypothetical true values?"
   ]
  },
  {
   "cell_type": "code",
   "execution_count": 6,
   "id": "3f01ea26-4660-4316-8e9b-2f7842aeaf44",
   "metadata": {},
   "outputs": [],
   "source": [
    "rets_sim_m = rets_sim_d.resample('ME').sum()"
   ]
  },
  {
   "cell_type": "code",
   "execution_count": 7,
   "id": "64281b27-d4da-4ca5-aa72-3dedaa56d85d",
   "metadata": {},
   "outputs": [
    {
     "name": "stdout",
     "output_type": "stream",
     "text": [
      "0.5067797841479698\n",
      "0.4767848184563474\n",
      "0.4791622656397554\n"
     ]
    }
   ],
   "source": [
    "print(rets_sim_d.corr().iloc[0,1])\n",
    "print(rets_sim_m.corr().iloc[0,1])\n",
    "print(rets.corr().iloc[0,1])"
   ]
  },
  {
   "cell_type": "markdown",
   "id": "77aab986-a045-4d18-94f7-a1af764b629b",
   "metadata": {},
   "source": [
    "## Q1.2\n",
    "\n",
    "Following the exercise in Q1.1, you need to repeat the simulations for 10,000 times. In each simulation, you record the correlation coefficients estimated using the daily or monthly return data. Finally, you need to report the following:\n",
    "* What are the average daily and monthly correlation coefficients between AAPL and MSFT across these 10,000 simulations?\n",
    "* Are the monthly correlation estimates noisier or more precise than the daily coefficient estimates? What do you learn from this simulation exercise? (Hint: You can report the quantiles across 10,000 simulations or make histograms). "
   ]
  },
  {
   "cell_type": "code",
   "execution_count": 8,
   "id": "f296982f-e0c6-4bed-bd1e-9df596d639ae",
   "metadata": {},
   "outputs": [],
   "source": [
    "nsim = 10000\n",
    "\n",
    "corr_seq = np.zeros((nsim, 2))\n",
    "for i in range(nsim):\n",
    "    np.random.seed(i)\n",
    "    rets_sim_d = pd.DataFrame(np.random.multivariate_normal(mean=np.zeros(2), cov=Σ, size=T_sim), \n",
    "                              index=rets.index)\n",
    "    rets_sim_m = rets_sim_d.resample('ME').sum()\n",
    "    corr_seq[i,0] = rets_sim_d.corr().iloc[0,1]\n",
    "    corr_seq[i,1] = rets_sim_m.corr().iloc[0,1]\n"
   ]
  },
  {
   "cell_type": "code",
   "execution_count": 9,
   "id": "8cf53f8b-7c64-41fb-8b86-1b13cb1b8920",
   "metadata": {},
   "outputs": [],
   "source": [
    "corr_seq_df = pd.DataFrame(corr_seq, columns=['daily', 'monthly'])"
   ]
  },
  {
   "cell_type": "code",
   "execution_count": 10,
   "id": "8f2a627b-a52b-4368-bcd8-dbec6675960d",
   "metadata": {},
   "outputs": [
    {
     "data": {
      "text/plain": [
       "daily      0.479024\n",
       "monthly    0.476179\n",
       "dtype: float64"
      ]
     },
     "execution_count": 10,
     "metadata": {},
     "output_type": "execute_result"
    }
   ],
   "source": [
    "corr_seq_df.mean()"
   ]
  },
  {
   "cell_type": "code",
   "execution_count": 11,
   "id": "a3418a22-3fba-48da-bfe6-53601100a0af",
   "metadata": {},
   "outputs": [
    {
     "data": {
      "text/html": [
       "<div>\n",
       "<style scoped>\n",
       "    .dataframe tbody tr th:only-of-type {\n",
       "        vertical-align: middle;\n",
       "    }\n",
       "\n",
       "    .dataframe tbody tr th {\n",
       "        vertical-align: top;\n",
       "    }\n",
       "\n",
       "    .dataframe thead th {\n",
       "        text-align: right;\n",
       "    }\n",
       "</style>\n",
       "<table border=\"1\" class=\"dataframe\">\n",
       "  <thead>\n",
       "    <tr style=\"text-align: right;\">\n",
       "      <th></th>\n",
       "      <th>daily</th>\n",
       "      <th>monthly</th>\n",
       "    </tr>\n",
       "  </thead>\n",
       "  <tbody>\n",
       "    <tr>\n",
       "      <th>0.05</th>\n",
       "      <td>0.442605</td>\n",
       "      <td>0.304165</td>\n",
       "    </tr>\n",
       "    <tr>\n",
       "      <th>0.95</th>\n",
       "      <td>0.513818</td>\n",
       "      <td>0.630489</td>\n",
       "    </tr>\n",
       "  </tbody>\n",
       "</table>\n",
       "</div>"
      ],
      "text/plain": [
       "         daily   monthly\n",
       "0.05  0.442605  0.304165\n",
       "0.95  0.513818  0.630489"
      ]
     },
     "execution_count": 11,
     "metadata": {},
     "output_type": "execute_result"
    }
   ],
   "source": [
    "corr_seq_df.quantile((0.05, 0.95))"
   ]
  },
  {
   "cell_type": "code",
   "execution_count": 12,
   "id": "0a2bae86-ffd5-4d02-a79c-b3274aa06ba7",
   "metadata": {},
   "outputs": [
    {
     "data": {
      "image/png": "[encoded data removed]",
      "text/plain": [
       "<Figure size 600x300 with 1 Axes>"
      ]
     },
     "metadata": {},
     "output_type": "display_data"
    }
   ],
   "source": [
    "# Plot histograms for the desired columns in one plot\n",
    "plt.hist(corr_seq_df['daily'], alpha=0.5, label='daily', bins=20)\n",
    "plt.hist(corr_seq_df['monthly'], alpha=0.5, label='monthly', bins=20)\n",
    "\n",
    "# Add labels and title\n",
    "plt.xlabel('Value')\n",
    "plt.ylabel('Frequency')\n",
    "plt.title('Histogram of Column 1 and Column 2')\n",
    "\n",
    "# Add a legend\n",
    "plt.legend()\n",
    "\n",
    "# Show the plot\n",
    "plt.show()"
   ]
  },
  {
   "cell_type": "markdown",
   "id": "068dd5e3-cb96-4b69-b457-8d7e878b3220",
   "metadata": {},
   "source": [
    "From this example, we learn that estimating the second moment (e.g., covariance, correlation, or variance) at higher frequencies seems to provide less volatile estimates than at lower frequencies. In reality, practitioners often estimate the covariance matrix of asset returns using daily data or even minute-to-minute return data. "
   ]
  },
  {
   "cell_type": "markdown",
   "id": "77c450b4-755b-47c6-94f2-583a9c2b150a",
   "metadata": {},
   "source": [
    "## Q1.3\n",
    "\n",
    "How to quantify the estimation uncertainty in the correlation between stock returns of AAPL and MSFT? -- Bootstrapping\n",
    "\n",
    "Suppose that $T$ is the time-series sample size of the observed dataset. In this question, **we focus on the daily frequency**, i.e., $T = 1258$ days. \n",
    "\n",
    "* First, we randomly draw (with replacement) a sample of $T$ days from ```rets```.\n",
    "  \n",
    "* Second, we compute the correlation coefficients between AAPL and MSFT for each randomly sampled dataset.\n",
    "  \n",
    "* Repeat the above two steps for 10,000 times, and report the mean and $90\\%$ quantiles of the correlation coefficients.\n",
    "\n",
    "In this question, you are asked to create a Python program to implement the Bootstrap procedure described above. "
   ]
  },
  {
   "cell_type": "code",
   "execution_count": 24,
   "id": "1c2989e3-daef-4d54-a73e-f8ad8743fdff",
   "metadata": {},
   "outputs": [],
   "source": [
    "def get_corr_bootstrap(data_df, random_seed):\n",
    "    np.random.seed(random_seed)\n",
    "    sample_index = np.random.choice(a=np.arange(stop=data_df.shape[0], dtype=np.int64), \n",
    "                                    size=data_df.shape[0])\n",
    "    return data_df.iloc[sample_index,:].corr().iloc[0,1]\n",
    "    "
   ]
  },
  {
   "cell_type": "code",
   "execution_count": 25,
   "id": "12820f7d-c2e9-4d88-8fdf-f3a7209a3e9b",
   "metadata": {},
   "outputs": [
    {
     "data": {
      "text/plain": [
       "np.float64(0.4546871277867021)"
      ]
     },
     "execution_count": 25,
     "metadata": {},
     "output_type": "execute_result"
    }
   ],
   "source": [
    "get_corr_bootstrap(rets, 2)"
   ]
  },
  {
   "cell_type": "code",
   "execution_count": 27,
   "id": "2dc11b87-5bd5-4dd0-9ff3-2446499625c7",
   "metadata": {},
   "outputs": [
    {
     "name": "stdout",
     "output_type": "stream",
     "text": [
      "3.5292110443115234\n",
      "0.4792042569630469\n",
      "0.05    0.408174\n",
      "0.95    0.546972\n",
      "dtype: float64\n"
     ]
    }
   ],
   "source": [
    "num_bootstrap = 10000\n",
    "corr_seq = np.zeros(num_bootstrap)\n",
    "\n",
    "import time\n",
    "t = time.time()\n",
    "for i in range(num_bootstrap):\n",
    "    corr_seq[i] = get_corr_bootstrap(rets, i)\n",
    "print(time.time() - t)\n",
    "\n",
    "corr_seq = pd.Series(corr_seq)\n",
    "print(corr_seq.mean())\n",
    "print(corr_seq.quantile((0.05,0.95)))"
   ]
  },
  {
   "cell_type": "code",
   "execution_count": 16,
   "id": "e35d55da-c043-46b8-9dc2-31353f5b8dec",
   "metadata": {},
   "outputs": [
    {
     "data": {
      "text/plain": [
       "<Axes: >"
      ]
     },
     "execution_count": 16,
     "metadata": {},
     "output_type": "execute_result"
    },
    {
     "data": {
      "image/png": "[encoded data removed]",
      "text/plain": [
       "<Figure size 600x300 with 1 Axes>"
      ]
     },
     "metadata": {},
     "output_type": "display_data"
    }
   ],
   "source": [
    "corr_seq.hist(bins=50)"
   ]
  },
  {
   "cell_type": "markdown",
   "id": "e774ba24-86d6-4fa0-b614-e2257c1371dc",
   "metadata": {},
   "source": [
    "---"
   ]
  },
  {
   "cell_type": "markdown",
   "id": "a550c542-e140-4a78-8b7c-26f4a098758d",
   "metadata": {},
   "source": [
    "# END"
   ]
  }
 ],
 "metadata": {
  "kernelspec": {
   "display_name": "env",
   "language": "python",
   "name": "python3"
  },
  "language_info": {
   "codemirror_mode": {
    "name": "ipython",
    "version": 3
   },
   "file_extension": ".py",
   "mimetype": "text/x-python",
   "name": "python",
   "nbconvert_exporter": "python",
   "pygments_lexer": "ipython3",
   "version": "3.11.0"
  }
 },
 "nbformat": 4,
 "nbformat_minor": 5
}
