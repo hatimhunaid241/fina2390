{
 "cells": [
  {
   "cell_type": "markdown",
   "id": "32bfe9b5",
   "metadata": {},
   "source": [
    "# Lecture 11. Numba"
   ]
  },
  {
   "cell_type": "code",
   "execution_count": null,
   "id": "d017f86c-2805-4fde-b4c5-fd0342b90acc",
   "metadata": {},
   "outputs": [],
   "source": [
    "import numpy as np\n",
    "import pandas as pd\n",
    "import timeit\n",
    "from time import sleep"
   ]
  },
  {
   "cell_type": "markdown",
   "id": "a01db924",
   "metadata": {},
   "source": [
    "* Python's dirty little secret is that it can be made to run pretty fast.  \n",
    "  * e.g., Nested loops are usually a bad idea. <br>\n",
    "<br>\n",
    "* But often you won't know where your code is slowing down just by looking at it and trying to accelerate everything can be a waste of time. <br>\n",
    "<br>\n",
    "* The first step is always to find the bottlenecks in your code: Analyzing your code by measuring the execution time of its parts."
   ]
  },
  {
   "cell_type": "markdown",
   "id": "01846d16",
   "metadata": {},
   "source": [
    "### Motivation: Some bad code\n",
    "\n",
    "Here's a bit of code guaranteed to perform poorly: it sleeps for 1.5 seconds after doing any work! "
   ]
  },
  {
   "cell_type": "code",
   "execution_count": null,
   "id": "4599e4a9",
   "metadata": {},
   "outputs": [],
   "source": [
    "def bad_call(dude):\n",
    "    sleep(.5)\n",
    "    \n",
    "def worse_call(dude):\n",
    "    sleep(1)\n",
    "    \n",
    "def sumulate(foo):\n",
    "    \n",
    "    a = np.random.random((1000, 1000))\n",
    "    a @ a\n",
    "    \n",
    "    ans = 0\n",
    "    for i in range(foo):\n",
    "        ans += i\n",
    "        \n",
    "    bad_call(ans)\n",
    "    worse_call(ans)\n",
    "        \n",
    "    return ans"
   ]
  },
  {
   "cell_type": "code",
   "execution_count": null,
   "id": "320aee89",
   "metadata": {},
   "outputs": [],
   "source": [
    "sumulate(150)"
   ]
  },
  {
   "cell_type": "markdown",
   "id": "ca512706",
   "metadata": {},
   "source": [
    "### Using `cProfile`\n",
    "\n",
    "* [`cProfile`](https://docs.python.org/3.4/library/profile.html#module-cProfile) is the built-in profiler in Python.  <br>\n",
    "<br>\n",
    "* It provides a function-by-function report of execution time. \n",
    "  * First import the module, then usage is simply a call to ````cProfile.run()```` with your code as argument. It will print out a list of all the functions that were called, with the number of calls and the time spent in each."
   ]
  },
  {
   "cell_type": "code",
   "execution_count": null,
   "id": "c57ea082",
   "metadata": {},
   "outputs": [],
   "source": [
    "import cProfile"
   ]
  },
  {
   "cell_type": "code",
   "execution_count": null,
   "id": "e164a179",
   "metadata": {
    "scrolled": true
   },
   "outputs": [],
   "source": [
    "cProfile.run('sumulate(150)')"
   ]
  },
  {
   "cell_type": "markdown",
   "id": "9827281b",
   "metadata": {},
   "source": [
    "You can see here that when our code ````sumulate()```` executes: It spends almost all its time in the method `time.sleep` (a bit over 1.5 seconds)."
   ]
  },
  {
   "cell_type": "markdown",
   "id": "ba4396f9",
   "metadata": {},
   "source": [
    "### Using `line_profiler`\n",
    "\n",
    "`line_profiler` offers more granular information than `cProfile`: it will give timing information about each line of code in a profiled function."
   ]
  },
  {
   "cell_type": "markdown",
   "id": "ca56f445",
   "metadata": {},
   "source": [
    "First, load the `line_profiler` extension (```pip install line-profiler```)"
   ]
  },
  {
   "cell_type": "code",
   "execution_count": null,
   "id": "c92a020d",
   "metadata": {
    "scrolled": true
   },
   "outputs": [],
   "source": [
    "%load_ext line_profiler"
   ]
  },
  {
   "cell_type": "code",
   "execution_count": null,
   "id": "239d6e75",
   "metadata": {},
   "outputs": [],
   "source": [
    "%lprun -f bad_call -f worse_call sumulate(13)  # profiling only two functions \"bad_call\" and \"worse_call\";"
   ]
  },
  {
   "cell_type": "markdown",
   "id": "a63bac7b-7b34-43c1-8066-2053f3b9375b",
   "metadata": {},
   "source": [
    "---"
   ]
  },
  {
   "cell_type": "markdown",
   "id": "26a020ba",
   "metadata": {},
   "source": [
    "### Using `jit`"
   ]
  },
  {
   "cell_type": "markdown",
   "id": "6e178144",
   "metadata": {},
   "source": [
    "#### Array sum\n",
    "\n",
    "The function below is a naive `sum` function that sums all the elements of a given array."
   ]
  },
  {
   "cell_type": "code",
   "execution_count": null,
   "id": "ecc66fa7",
   "metadata": {},
   "outputs": [],
   "source": [
    "def sum_array(inp):\n",
    "    J, I = inp.shape\n",
    "    \n",
    "    #this is a bad idea\n",
    "    mysum = 0\n",
    "    for j in range(J):\n",
    "        for i in range(I):\n",
    "            mysum += inp[j, i]\n",
    "            \n",
    "    return mysum"
   ]
  },
  {
   "cell_type": "code",
   "execution_count": null,
   "id": "455decc2",
   "metadata": {},
   "outputs": [],
   "source": [
    "arr = np.random.random((300, 300))"
   ]
  },
  {
   "cell_type": "code",
   "execution_count": null,
   "id": "6a19df82",
   "metadata": {},
   "outputs": [],
   "source": [
    "sum_array(arr)"
   ]
  },
  {
   "cell_type": "code",
   "execution_count": null,
   "id": "9d2b9bb7",
   "metadata": {},
   "outputs": [],
   "source": [
    "%timeit sum_array(arr)"
   ]
  },
  {
   "cell_type": "markdown",
   "id": "085191c4",
   "metadata": {},
   "source": [
    "Let's now use `numba.jit` to speed up the codes. "
   ]
  },
  {
   "cell_type": "code",
   "execution_count": null,
   "id": "348d8a71",
   "metadata": {},
   "outputs": [],
   "source": [
    "from numba import jit"
   ]
  },
  {
   "cell_type": "code",
   "execution_count": null,
   "id": "734a6b52",
   "metadata": {},
   "outputs": [],
   "source": [
    "sum_array_numba = jit(sum_array)"
   ]
  },
  {
   "cell_type": "code",
   "execution_count": null,
   "id": "248e7632",
   "metadata": {},
   "outputs": [],
   "source": [
    "sum_array_numba(arr)"
   ]
  },
  {
   "cell_type": "code",
   "execution_count": null,
   "id": "e09c681d",
   "metadata": {},
   "outputs": [],
   "source": [
    "%timeit sum_array_numba(arr)"
   ]
  },
  {
   "cell_type": "markdown",
   "id": "1f689d77",
   "metadata": {},
   "source": [
    "#### (More commonly) As a decorator"
   ]
  },
  {
   "cell_type": "code",
   "execution_count": null,
   "id": "3a9119cf",
   "metadata": {},
   "outputs": [],
   "source": [
    "@jit\n",
    "def sum_array(inp):\n",
    "    I, J = inp.shape\n",
    "    \n",
    "    mysum = 0\n",
    "    for i in range(I):\n",
    "        for j in range(J):\n",
    "            mysum += inp[i, j]\n",
    "            \n",
    "    return mysum"
   ]
  },
  {
   "cell_type": "markdown",
   "id": "d1791c27",
   "metadata": {},
   "source": [
    "#### When does `numba` compile things?\n",
    "\n",
    "The first time you call the function.  "
   ]
  },
  {
   "cell_type": "code",
   "execution_count": null,
   "id": "8a86255a",
   "metadata": {},
   "outputs": [],
   "source": [
    "start = timeit.default_timer()\n",
    "\n",
    "sum_array(arr)\n",
    "\n",
    "print(f'Total configuration execution time: {(timeit.default_timer() - start):.4f}s.', flush=True)"
   ]
  },
  {
   "cell_type": "code",
   "execution_count": null,
   "id": "d6637307",
   "metadata": {},
   "outputs": [],
   "source": [
    "sum_array(arr)\n",
    "%timeit sum_array(arr)"
   ]
  },
  {
   "cell_type": "markdown",
   "id": "2c4d435f",
   "metadata": {},
   "source": [
    "#### How does this compare to NumPy?"
   ]
  },
  {
   "cell_type": "code",
   "execution_count": null,
   "id": "70d231e2",
   "metadata": {},
   "outputs": [],
   "source": [
    "%timeit arr.sum()"
   ]
  },
  {
   "cell_type": "markdown",
   "id": "dde533a4-3bb7-4929-b58c-6b506abb9225",
   "metadata": {},
   "source": [
    "#### However, it is not always possible to vectorize the computation."
   ]
  },
  {
   "cell_type": "markdown",
   "id": "67c5d559-ee73-41b9-81ee-c0d1895c310d",
   "metadata": {},
   "source": [
    "Consider a simple autoregressive (AR) model of order one:\n",
    "$$\n",
    "y_t = \\rho y_{t-1} + \\epsilon_t, \\ \\ \\text{where } |\\rho| < 1, \\ \\ \\epsilon_t \\sim \\text{ iid } \\mathcal{N} (0, \\sigma^2) \\text{ and } y_0 = 0. \n",
    "$$\n",
    "In this example, the time-$t$ value of $y$ depends on its one-period lag, so we have to use for loops to simulate this AR(1) process."
   ]
  },
  {
   "cell_type": "code",
   "execution_count": null,
   "id": "a76d1cf3-6d4e-44d1-bf27-638b740de88d",
   "metadata": {},
   "outputs": [],
   "source": [
    "def simulate_ar1(Tsim, rho, sigma):\n",
    "    Ysim = np.zeros((Tsim,))\n",
    "    for i in range(1, Tsim):\n",
    "        Ysim[i] = Ysim[i-1]*rho + np.random.normal(loc=0,scale=sigma)\n",
    "    return Ysim"
   ]
  },
  {
   "cell_type": "code",
   "execution_count": null,
   "id": "5a0d17ce-0ea4-4ddd-b120-c378f6b94b0d",
   "metadata": {},
   "outputs": [],
   "source": [
    "%timeit simulate_ar1(Tsim=12000, rho=0.1, sigma=1)"
   ]
  },
  {
   "cell_type": "code",
   "execution_count": null,
   "id": "a2a2d395-074f-44f7-928b-cb6359e59e31",
   "metadata": {},
   "outputs": [],
   "source": [
    "@jit\n",
    "def simulate_ar1_jit(Tsim, rho, sigma):\n",
    "    Ysim = np.zeros((Tsim,))\n",
    "    for i in range(1, Tsim):\n",
    "        Ysim[i] = Ysim[i-1]*rho + np.random.normal(loc=0,scale=sigma)\n",
    "    return Ysim"
   ]
  },
  {
   "cell_type": "code",
   "execution_count": null,
   "id": "c8275652-0b23-4089-b015-da2ec44f2941",
   "metadata": {},
   "outputs": [],
   "source": [
    "Ysim = simulate_ar1_jit(Tsim=60, rho=0.1, sigma=1)   # run simulate_ar1_jit to compile the function\n",
    "\n",
    "%timeit simulate_ar1_jit(Tsim=12000, rho=0.1, sigma=1)"
   ]
  },
  {
   "cell_type": "markdown",
   "id": "77a0a9d5-7ac3-4ea6-bb03-7202184db38b",
   "metadata": {},
   "source": [
    "---"
   ]
  },
  {
   "cell_type": "markdown",
   "id": "da640a7c",
   "metadata": {},
   "source": [
    "**Lesson**\n",
    "\n",
    "* `numba.jit` is powerful and can speed up the `for` loop. \n",
    "\n",
    "* However, whenever it is possible to use vectorization (e.g., using ```numpy``` functions), try to avoid writing your own compiled functions.\n",
    "\n",
    "* This function is particularly useful when we cannot avoid the `for` loop. "
   ]
  },
  {
   "cell_type": "markdown",
   "id": "feae0dc0",
   "metadata": {},
   "source": [
    "More details about Numba can be found in\n",
    "https://numba.readthedocs.io/en/stable/."
   ]
  },
  {
   "cell_type": "markdown",
   "id": "a88148ce",
   "metadata": {},
   "source": [
    "---"
   ]
  },
  {
   "cell_type": "markdown",
   "id": "5453a6c3-e8dc-4c2e-a9c8-f2ba3c22dac6",
   "metadata": {},
   "source": [
    "## Final Exam\n",
    "\n",
    "Examination time: 2:30 pm - 4:30 pm, Dec 13 2024.\n",
    "\n",
    "This examination consists of seven questions worth 100 points in total. You are required to answer all questions. If you find some questions unclear, please clearly state the assumptions that you make and answer the questions based on the additional assumptions. Please do not leave any question blank. \n",
    "\n",
    "Time Allowed: 120 minutes.\n",
    "\n",
    "Candidates are permitted to use any online/electronic/printed/handwritten materials in the examination. Internet searching is allowed, but crowdsourcing from group messages, online forums or social media, etc. is strictly forbidden. \n",
    "\n",
    "* You are required to finish the final exam paper in the lab computers; that is, you are NOT allowed to use your own laptop/IPad/Phone during the exam.\n",
    "\n",
    "* Frankie will post the exam paper (a Jupyter Notebook file) onto Moodle 10 minutes before the exam time: You have sufficient time to download all the lecture materials from Moodle."
   ]
  },
  {
   "cell_type": "markdown",
   "id": "4e57463f-3679-404b-81ac-e023e47b2794",
   "metadata": {},
   "source": [
    "* Whether can you post your materials on a cloud account?\n",
    "    * Yes, but I am not sure whether the Internet is good enough.\n",
    "    * Suggestion: Print all the materials as a backup plan in case you cannot use your cloud account during the exam."
   ]
  },
  {
   "cell_type": "markdown",
   "id": "266f817e-9b64-49e5-acb0-f32709efa692",
   "metadata": {},
   "source": [
    "* Whether can you use Chatgpt?\n",
    "    * Theoretically no.\n",
    "    * In reality, the Internet connection is so bad that you cannot get access to it. "
   ]
  },
  {
   "cell_type": "markdown",
   "id": "3057921e-6aec-4e43-9b7d-a634b9e729ef",
   "metadata": {},
   "source": [
    "* Short questions ($5 \\times 10\\% = 50\\%$), e.g., \n",
    "    * the questions in Problem Set 1\n",
    "    * Q1 in Problem Set 2\n",
    "* Long questions ($2 \\times 25\\% = 50\\%$), e.g., \n",
    "    *  Q2 in Problem Set 2\n",
    "    *  the questions in Problem Set 3"
   ]
  },
  {
   "cell_type": "markdown",
   "id": "0347086c-5b0a-47f7-a996-15819bf312bb",
   "metadata": {},
   "source": [
    "### Sections that are *NOT* required:\n",
    "\n",
    "* Lecture 3. Classes and Objected-Oriented Programming\n",
    "* Lecture 6. SQL\n",
    "* Lecture 11. Parallel Computing (```joblib```) and ```numba```"
   ]
  },
  {
   "cell_type": "markdown",
   "id": "a1d9d50a-4d41-4d4c-ae20-f72d31466010",
   "metadata": {},
   "source": [
    "### Suggestion\n",
    "\n",
    "* Get yourself familiar with the lecture notes\n",
    "  \n",
    "* Go through the three problem sets for several times (exam questions will be similar to the PS questions)"
   ]
  },
  {
   "cell_type": "markdown",
   "id": "50da69fa-057d-48d0-8371-dd4b905012b7",
   "metadata": {},
   "source": [
    "---"
   ]
  },
  {
   "cell_type": "markdown",
   "id": "5ab7e433",
   "metadata": {},
   "source": [
    "# END"
   ]
  }
 ],
 "metadata": {
  "kernelspec": {
   "display_name": "Python 3 (ipykernel)",
   "language": "python",
   "name": "python3"
  },
  "language_info": {
   "codemirror_mode": {
    "name": "ipython",
    "version": 3
   },
   "file_extension": ".py",
   "mimetype": "text/x-python",
   "name": "python",
   "nbconvert_exporter": "python",
   "pygments_lexer": "ipython3",
   "version": "3.12.2"
  }
 },
 "nbformat": 4,
 "nbformat_minor": 5
}
