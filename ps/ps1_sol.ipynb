{
 "cells": [
  {
   "cell_type": "markdown",
   "id": "2d34eda9",
   "metadata": {},
   "source": [
    "# Problem Set 1"
   ]
  },
  {
   "cell_type": "markdown",
   "id": "62c12bf2",
   "metadata": {},
   "source": [
    "This is the first homework assignment, which accounts for $15\\%$ of your final grade. There are six questions, and their weights are:\n",
    "* Q1: $20\\%$,\n",
    "* Q2: $15\\%$,\n",
    "* Q3: $15\\%$,\n",
    "* Q4: $25\\%$,\n",
    "* Q5: $25\\%$.\n",
    "\n",
    "You may work with other students. The maximum number of students per group is two. However, you can work on your own. Be sure to indicate with whom you have worked in your submission.\n",
    "\n",
    "### Deadline: Oct 2, 2024 (5 PM HK Time). \n",
    "\n",
    "There is a penalty for late submissions: $5\\%$ will be subtracted from the total mark for every additional day after the deadline. "
   ]
  },
  {
   "cell_type": "code",
   "execution_count": 1,
   "id": "95dda81e",
   "metadata": {},
   "outputs": [],
   "source": [
    "import random\n",
    "import string"
   ]
  },
  {
   "cell_type": "markdown",
   "id": "83307d96",
   "metadata": {},
   "source": [
    "---"
   ]
  },
  {
   "cell_type": "markdown",
   "id": "7a0104f6",
   "metadata": {},
   "source": [
    "## Q1. Rolling Dice ($20\\%$)"
   ]
  },
  {
   "cell_type": "markdown",
   "id": "c5f5449b",
   "metadata": {},
   "source": [
    "Let's consider the games using dice. As in the function ```rollDie``` shown below, the outcome of rolling a die is 1, 2, 3, 4, 5, or 6, with equal probabilities of $\\frac{1}{6}$. Here is the gambling that you are invited to play. You can roll the dice for $100$ times. If the sum of the outcomes across 100 times is higher than 350, you will win the game; otherwise, you will lose the game. For instance, if you get 1 in all the 100 dice games, the sum is 100. Since it is not larger than 350, you will lose. Now the question is, what is the probability of winning this game? \n",
    "\n",
    "You are required to write a function ```probs_win``` to answer this question (see the function specification). How does your answer depend on the parameter ```numTrials``` in the function ```probs_win```?"
   ]
  },
  {
   "cell_type": "code",
   "execution_count": 2,
   "id": "dca9081c",
   "metadata": {},
   "outputs": [],
   "source": [
    "def rollDie():\n",
    "    return random.choice([1,2,3,4,5,6])\n",
    "\n",
    "\n",
    "def probs_win(numTrials): \n",
    "    \"\"\"Assumes numTrials an int > 0\n",
    "       Prints an estimate of the probability (of type float) of winning the game\"\"\" \n",
    "    pass\n"
   ]
  },
  {
   "cell_type": "markdown",
   "id": "691ab3b4",
   "metadata": {},
   "source": [
    "### Answer:"
   ]
  },
  {
   "cell_type": "code",
   "execution_count": 3,
   "id": "766b0ab5",
   "metadata": {},
   "outputs": [],
   "source": [
    "def probs_win(numTrials): \n",
    "    \"\"\"Assumes numTrials an int > 0\n",
    "       Prints an estimate of the probability (of type float) of winning the game\"\"\" \n",
    "    num_wins = 0\n",
    "    for i in range(numTrials):\n",
    "        ans = 0\n",
    "        for j in range(100):\n",
    "            ans = ans + rollDie()\n",
    "        if ans > 350:\n",
    "            num_wins = num_wins + 1\n",
    "    return num_wins / numTrials\n"
   ]
  },
  {
   "cell_type": "code",
   "execution_count": 4,
   "id": "62185de2",
   "metadata": {},
   "outputs": [
    {
     "name": "stdout",
     "output_type": "stream",
     "text": [
      "The estimated probability of winning the game is 0.48657\n"
     ]
    }
   ],
   "source": [
    "print(\"The estimated probability of winning the game is\", probs_win(100000))"
   ]
  },
  {
   "cell_type": "markdown",
   "id": "601096c3",
   "metadata": {},
   "source": [
    "When ```numTrials``` is small (e.g., 100, 1000, or even 10000), the estimated probabilitities of winning the game are volatile across different random states. In order to estimate the winning probability accurately, we need a large number of Monte Carlo simulations. "
   ]
  },
  {
   "cell_type": "markdown",
   "id": "6ec32e10",
   "metadata": {},
   "source": [
    "---"
   ]
  },
  {
   "cell_type": "markdown",
   "id": "f31c9fb9",
   "metadata": {},
   "source": [
    "## Q2. Permutations of a String Using Recursion ($15\\%$)"
   ]
  },
  {
   "cell_type": "markdown",
   "id": "8c598c6d",
   "metadata": {},
   "source": [
    "A permutation is simply a name for a reordering. So the permutations of the string ‘abc’ are ‘abc’, ‘acb’, ‘bac’, ‘bca’, ‘cab’, and ‘cba’. Note that a sequence is a permutation of itself (the trivial permutation). You’ll need to write a **recursive** function ```get_permutations``` that takes a string and returns a list of all its permutations. \n",
    "\n",
    "Note: **Recursion MUST be used, global variables may NOT be used**. Additionally, it is okay to use loops to code the solution. The order of the returned permutations does not matter. Please also avoid returning duplicates in your final list."
   ]
  },
  {
   "cell_type": "markdown",
   "id": "923ae943",
   "metadata": {},
   "source": [
    "#### Suggested Approach\n",
    "\n",
    "In order to solve any recursive problem, we must have at least one base case and a recursive case (or cases). In this approach, our base case is if ```sequence``` is a single character (there’s only one way to order a single character). \n",
    "\n",
    "If ```sequence``` is longer than one character, we need to identify a simpler version of the problem that, if solved, will help us easily find all permutations for ```sequence```. The pseudocode is:\n",
    "* Base case:\n",
    " * if ```sequence``` is a single character, there’s only one way to order it\n",
    "   * return a singleton list containing ```sequence```\n",
    "* Recursive case:\n",
    " * suppose we have a method that can give us a list of all permutations of **all but the first character** in ```sequence``` (Hint: think recursion), \n",
    " * then the permutations of all characters in ```sequence``` would be the combination of the first character and a list of all permutations of the remaining strings. For example, \n",
    "   * if our word was ```'bust'```, we hold out the character ```'b'``` and get the list ```['ust', 'sut', 'stu', 'uts', 'tus', 'tsu']```, then we return ```['bust', 'bsut', 'bstu', 'buts', 'btus', 'btsu']```."
   ]
  },
  {
   "cell_type": "markdown",
   "id": "a8543d74",
   "metadata": {},
   "source": [
    "```python\n",
    "def get_permutations(sequence):\n",
    "    '''\n",
    "    Enumerate all permutations of a given string\n",
    "\n",
    "    sequence (string): an arbitrary string to permute. Assume that it is a non-empty string.  \n",
    "\n",
    "    You MUST use recursion for this part. Non-recursive solutions will not be accepted.\n",
    "\n",
    "    Returns: a list of all permutations of sequence\n",
    "\n",
    "    Example:\n",
    "    >>> get_permutations('abc')\n",
    "    ['abc', 'acb', 'bac', 'bca', 'cab', 'cba']\n",
    "\n",
    "    Note: depending on your implementation, you may return the permutations in\n",
    "    a different order than what is listed here.\n",
    "    '''\n",
    "\n",
    "```"
   ]
  },
  {
   "cell_type": "code",
   "execution_count": 5,
   "id": "bfc63039",
   "metadata": {},
   "outputs": [],
   "source": [
    "def combine_strings(char0, char_list):\n",
    "    char_list = char_list[:]\n",
    "    #print(char_list)\n",
    "    #print('----------------------')\n",
    "    for ii in range(len(char_list)):\n",
    "        char_list[ii] = char0 + char_list[ii]\n",
    "    #print(char_list)\n",
    "    return char_list\n",
    "    "
   ]
  },
  {
   "cell_type": "code",
   "execution_count": 6,
   "id": "d0387570",
   "metadata": {},
   "outputs": [],
   "source": [
    "def get_permutations(sequence):\n",
    "    '''\n",
    "    Enumerate all permutations of a given string\n",
    "\n",
    "    sequence (string): an arbitrary string to permute. Assume that it is a non-empty string.  \n",
    "\n",
    "    You MUST use recursion for this part. Non-recursive solutions will not be accepted.\n",
    "\n",
    "    Returns: a list of all permutations of sequence\n",
    "\n",
    "    Example:\n",
    "    >>> get_permutations('abc')\n",
    "    ['abc', 'acb', 'bac', 'bca', 'cab', 'cba']\n",
    "\n",
    "    Note: depending on your implementation, you may return the permutations in\n",
    "    a different order than what is listed here.\n",
    "    '''\n",
    "    \n",
    "    def get_permutations_(sequence):\n",
    "        if len(sequence) == 1:\n",
    "            return([sequence])\n",
    "        elif len(sequence) > 1:\n",
    "            output_list = []\n",
    "            for ii in range(len(sequence)):\n",
    "                ss = sequence[ii]\n",
    "                output_list = output_list + combine_strings(ss, get_permutations_(sequence[0:ii]+sequence[(ii+1):]))\n",
    "            return output_list\n",
    "    \n",
    "    output_list = get_permutations_(sequence)\n",
    "    output_list_unique = []\n",
    "    for e in output_list:\n",
    "        if e not in output_list_unique:\n",
    "            output_list_unique.append(e)\n",
    "    return(output_list_unique)\n",
    "    #return(list(set(get_permutations_(sequence))))\n",
    "    "
   ]
  },
  {
   "cell_type": "code",
   "execution_count": 7,
   "id": "fa1891c7",
   "metadata": {},
   "outputs": [
    {
     "name": "stdout",
     "output_type": "stream",
     "text": [
      "24\n",
      "['bust', 'buts', 'bsut', 'bstu', 'btus', 'btsu', 'ubst', 'ubts', 'usbt', 'ustb', 'utbs', 'utsb', 'sbut', 'sbtu', 'subt', 'sutb', 'stbu', 'stub', 'tbus', 'tbsu', 'tubs', 'tusb', 'tsbu', 'tsub']\n"
     ]
    }
   ],
   "source": [
    "print(len(get_permutations('bust')))\n",
    "print(get_permutations('bust'))"
   ]
  },
  {
   "cell_type": "code",
   "execution_count": 8,
   "id": "82768349",
   "metadata": {},
   "outputs": [
    {
     "name": "stdout",
     "output_type": "stream",
     "text": [
      "6\n",
      "['abc', 'acb', 'bac', 'bca', 'cab', 'cba']\n"
     ]
    }
   ],
   "source": [
    "print(len(get_permutations('abc')))\n",
    "print(get_permutations('abc'))"
   ]
  },
  {
   "cell_type": "code",
   "execution_count": 9,
   "id": "11bbe1f9",
   "metadata": {},
   "outputs": [
    {
     "name": "stdout",
     "output_type": "stream",
     "text": [
      "12\n",
      "['uust', 'uuts', 'usut', 'ustu', 'utus', 'utsu', 'suut', 'sutu', 'stuu', 'tuus', 'tusu', 'tsuu']\n"
     ]
    }
   ],
   "source": [
    "print(len(get_permutations('uust')))\n",
    "print(get_permutations('uust'))"
   ]
  },
  {
   "cell_type": "markdown",
   "id": "ccc4f7ab",
   "metadata": {},
   "source": [
    "---"
   ]
  },
  {
   "cell_type": "markdown",
   "id": "b7eb6e84",
   "metadata": {},
   "source": [
    "## Q3. Simple Exercise of ```dict``` ($15\\%$)"
   ]
  },
  {
   "cell_type": "markdown",
   "id": "7db6335c",
   "metadata": {},
   "source": [
    "Suppose that there are eight types of cocktails (```cocktail_list```), and we know their prices (```price_list```). \n",
    "```python\n",
    "cocktail_list = ['MARTINI', 'MOJITO', 'MARGARITA', 'TEQUILA SUNRISE', 'APEROL SPRITZ', \n",
    "                 'SNOW BALL', 'PINA COLADA', 'LONG ISLAND ICE TEA']\n",
    "price_list = [75, 80, 80, 80, 80, 80, 75, 85]\n",
    "```\n",
    "\n",
    "First, you need to write a program that combines these lists into a dictionary (let's call it ```price_to_cocktail```), *where we require cocktail prices to be the keys and cocktail names to be the values (lists of cocktail names)*. Then, write a function (```cocktail(price, price_to_cocktail)```) that, given the price and the dictionary ```price_to_cocktail```, returns the names of all cocktail types with the same price (or ```None``` if no cocktail type has this price). For example, \n",
    "```python\n",
    "print(cocktail(80, price_to_cocktail))\n",
    "```\n",
    "returns ```['MOJITO', 'MARGARITA', 'TEQUILA SUNRISE', 'APEROL SPRITZ', 'SNOW BALL']```. \n",
    "\n",
    "\n",
    "```python\n",
    "print(cocktail(60, price_to_cocktail))\n",
    "```\n",
    "returns ```None```. "
   ]
  },
  {
   "cell_type": "code",
   "execution_count": 10,
   "id": "8d750bd5",
   "metadata": {},
   "outputs": [],
   "source": [
    "cocktail_list = ['MARTINI', 'MOJITO', 'MARGARITA', 'TEQUILA SUNRISE', 'APEROL SPRITZ', \n",
    "                 'SNOW BALL', 'PINA COLADA', 'LONG ISLAND ICE TEA']\n",
    "price_list = [75, 80, 80, 80, 80, 80, 75, 85]\n",
    "\n",
    "price_to_cocktail = {}\n",
    "\n",
    "for i in range(len(cocktail_list)):\n",
    "    name = cocktail_list[i]\n",
    "    price = price_list[i]\n",
    "    if price in price_to_cocktail:\n",
    "        price_to_cocktail[price].append(name)\n",
    "    else:\n",
    "        price_to_cocktail[price] = [name]\n"
   ]
  },
  {
   "cell_type": "code",
   "execution_count": 11,
   "id": "829c8d45",
   "metadata": {},
   "outputs": [
    {
     "data": {
      "text/plain": [
       "{75: ['MARTINI', 'PINA COLADA'],\n",
       " 80: ['MOJITO', 'MARGARITA', 'TEQUILA SUNRISE', 'APEROL SPRITZ', 'SNOW BALL'],\n",
       " 85: ['LONG ISLAND ICE TEA']}"
      ]
     },
     "execution_count": 11,
     "metadata": {},
     "output_type": "execute_result"
    }
   ],
   "source": [
    "price_to_cocktail"
   ]
  },
  {
   "cell_type": "code",
   "execution_count": 12,
   "id": "14f7dca7",
   "metadata": {},
   "outputs": [],
   "source": [
    "def cocktail(price, price_to_cocktail):\n",
    "    \n",
    "    if price in price_to_cocktail:\n",
    "        return price_to_cocktail[price]\n",
    "    else:\n",
    "        return None\n",
    "        "
   ]
  },
  {
   "cell_type": "code",
   "execution_count": 13,
   "id": "57728972",
   "metadata": {},
   "outputs": [
    {
     "name": "stdout",
     "output_type": "stream",
     "text": [
      "['MARTINI', 'PINA COLADA']\n",
      "['MOJITO', 'MARGARITA', 'TEQUILA SUNRISE', 'APEROL SPRITZ', 'SNOW BALL']\n",
      "['LONG ISLAND ICE TEA']\n",
      "None\n"
     ]
    }
   ],
   "source": [
    "print(cocktail(75, price_to_cocktail))\n",
    "print(cocktail(80, price_to_cocktail))\n",
    "print(cocktail(85, price_to_cocktail))\n",
    "print(cocktail(60, price_to_cocktail))"
   ]
  },
  {
   "cell_type": "markdown",
   "id": "75cc66be",
   "metadata": {},
   "source": [
    "---"
   ]
  },
  {
   "cell_type": "markdown",
   "id": "020ddb80",
   "metadata": {},
   "source": [
    "## Question 4 ($25\\%$)\n",
    "\n",
    "Read the following paragraph as a string and count the occurrence of words. \n",
    "\n",
    "```python\n",
    "paragraph = \"Good afternoon, and thank you for joining us today. On the call with me are Satya Nadella, Chief Executive Officer; Amy Hood, Chief Financial Officer; Frank Brod, Chief Accounting Officer; and Carolyn Frantz, Deputy General Counsel and Corporate Secretary. On the Microsoft Investor Relations website, you can find our earnings press release and financial summary slide deck, which is intended to supplement our prepared remarks during today's call and provides reconciliation of differences between GAAP and non-GAAP financial measures. Unless otherwise specified, we'll refer to non-GAAP metrics on the call. The non-GAAP financial measures provided should not be considered as a substitute for or superior to the measures of financial performance prepared in accordance with GAAP. They are included as additional clarifying items to aid investors in further understanding the company's fourth quarter performance, in addition to the impact these items and events have on the financial results. All growth comparisons we make on the call today relate to the corresponding period of last year, unless otherwise noted. We will also provide growth rates in constant currency, when available, as a framework for assessing how our underlying business performed, excluding the effect of foreign currency rate fluctuations. Where growth rates are the same in constant currency, we will refer to the growth rate only. We will post our prepared remarks to our website immediately following the call until the complete transcript is available. Today's call is being webcast live and recorded. If you ask a question, it will be included in our live transmission, in the transcript and in any future use of the recording. You can replay the call and view the transcript on the Microsoft Investor Relations website. During the call, we will be making forward-looking statements, which are predictions, projections and -- or other statements about future events. These statements are based on current expectations and assumptions that are subject to risks and uncertainties. Actual results could materially differ because of factors discussed in today's earnings press release, in the comments made during this conference call and in the Risk Factors section of our Form 10-K, Forms 10-Q and other reports and filings with the Securities and Exchange Commission. We do not undertake any duty to update any forward-looking statement. And with that, I'll turn the call over to Satya.\"\n",
    "```"
   ]
  },
  {
   "cell_type": "code",
   "execution_count": 14,
   "id": "87b90bbb",
   "metadata": {},
   "outputs": [
    {
     "name": "stdout",
     "output_type": "stream",
     "text": [
      "2469\n",
      "<class 'str'>\n"
     ]
    }
   ],
   "source": [
    "paragraph = \"Good afternoon, and thank you for joining us today. On the call with me are Satya Nadella, Chief Executive Officer; Amy Hood, Chief Financial Officer; Frank Brod, Chief Accounting Officer; and Carolyn Frantz, Deputy General Counsel and Corporate Secretary. On the Microsoft Investor Relations website, you can find our earnings press release and financial summary slide deck, which is intended to supplement our prepared remarks during today's call and provides reconciliation of differences between GAAP and non-GAAP financial measures. Unless otherwise specified, we'll refer to non-GAAP metrics on the call. The non-GAAP financial measures provided should not be considered as a substitute for or superior to the measures of financial performance prepared in accordance with GAAP. They are included as additional clarifying items to aid investors in further understanding the company's fourth quarter performance, in addition to the impact these items and events have on the financial results. All growth comparisons we make on the call today relate to the corresponding period of last year, unless otherwise noted. We will also provide growth rates in constant currency, when available, as a framework for assessing how our underlying business performed, excluding the effect of foreign currency rate fluctuations. Where growth rates are the same in constant currency, we will refer to the growth rate only. We will post our prepared remarks to our website immediately following the call until the complete transcript is available. Today's call is being webcast live and recorded. If you ask a question, it will be included in our live transmission, in the transcript and in any future use of the recording. You can replay the call and view the transcript on the Microsoft Investor Relations website. During the call, we will be making forward-looking statements, which are predictions, projections and -- or other statements about future events. These statements are based on current expectations and assumptions that are subject to risks and uncertainties. Actual results could materially differ because of factors discussed in today's earnings press release, in the comments made during this conference call and in the Risk Factors section of our Form 10-K, Forms 10-Q and other reports and filings with the Securities and Exchange Commission. We do not undertake any duty to update any forward-looking statement. And with that, I'll turn the call over to Satya.\"\n",
    "print(len(paragraph))\n",
    "print(type(paragraph))"
   ]
  },
  {
   "cell_type": "markdown",
   "id": "10263c76",
   "metadata": {},
   "source": [
    "### Q4.1 ($10\\%$)\n",
    "\n",
    "First, you need to split ```paragraph``` into a list of words (using ```string.split```). \n",
    "\n",
    "Next, you need to remove the punctuation in each word of ```paragraph``` and translate all uppercase letters into lowercase ones. For example, if ```paragraph``` is ```'Good afternoon, and thank you for joining us today.'``` The output ```words_list``` should be a Python list ```['good', 'afternoon', 'and', 'thank', 'you', 'for', 'joining', 'us', 'today']```.\n",
    "\n",
    "Hint: (1) You can use the punctuations in ```string.punctuation``` and (2) use ```string.replace``` and ```string.lower``` methods."
   ]
  },
  {
   "cell_type": "markdown",
   "id": "186c2ad8",
   "metadata": {},
   "source": [
    "### Answer:"
   ]
  },
  {
   "cell_type": "code",
   "execution_count": 15,
   "id": "9e73ce7f",
   "metadata": {},
   "outputs": [
    {
     "data": {
      "text/plain": [
       "'!\"#$%&\\'()*+,-./:;<=>?@[\\\\]^_`{|}~'"
      ]
     },
     "execution_count": 15,
     "metadata": {},
     "output_type": "execute_result"
    }
   ],
   "source": [
    "string.punctuation"
   ]
  },
  {
   "cell_type": "code",
   "execution_count": 16,
   "id": "05dcc99d",
   "metadata": {},
   "outputs": [],
   "source": [
    "words_list = paragraph.split(' ')\n",
    "\n",
    "for c in string.punctuation:\n",
    "    words_list = [word.replace(c, '') for word in words_list]\n",
    "words_list = [word.lower() for word in words_list]"
   ]
  },
  {
   "cell_type": "markdown",
   "id": "38da3b6a",
   "metadata": {},
   "source": [
    "### Q4.2  ($5\\%$)\n",
    "\n",
    "Based on the Python list ```words_list``` created in Q5.1, you need to create another Python list ```words_unique``` that contains only unique words in ```paragraph```. \n",
    "\n",
    "How many unique words does ```paragraph``` contain?"
   ]
  },
  {
   "cell_type": "markdown",
   "id": "8adb38c5",
   "metadata": {},
   "source": [
    "### Answer:"
   ]
  },
  {
   "cell_type": "code",
   "execution_count": 17,
   "id": "4fb477bf",
   "metadata": {},
   "outputs": [
    {
     "name": "stdout",
     "output_type": "stream",
     "text": [
      "200\n"
     ]
    }
   ],
   "source": [
    "words_unique = list(set(words_list))\n",
    "print(len(words_unique))"
   ]
  },
  {
   "cell_type": "markdown",
   "id": "f13db521",
   "metadata": {},
   "source": [
    "### Q4.3  ($10\\%$)\n",
    "\n",
    "Based on the ```words_unique``` in Q5.2, you are asked to create a Python dictionary named ```words_count``` whose keys are words in ```words_unique``` and values equal the frequencies of words. For example, if 'good' and 'afternoon' appear twice in ```words_unique```, ```words_count``` is ```{'good':2, 'afternoon':2}```.\n",
    "\n",
    "Finally, what are the top five most frequent words in ```paragraph```? You can use only the built-in structured types in Python."
   ]
  },
  {
   "cell_type": "markdown",
   "id": "f660dfd0",
   "metadata": {},
   "source": [
    "### Answer:"
   ]
  },
  {
   "cell_type": "code",
   "execution_count": 18,
   "id": "0fe66cae",
   "metadata": {},
   "outputs": [],
   "source": [
    "for word in words_unique[:]:\n",
    "    if len(word) == 0:\n",
    "        words_unique.remove(word)\n",
    "\n",
    "words_count = {}\n",
    "\n",
    "for i in range(len(words_unique)):\n",
    "    words_count[words_unique[i]] = words_list.count(words_unique[i])"
   ]
  },
  {
   "cell_type": "code",
   "execution_count": 19,
   "id": "21f52e88",
   "metadata": {},
   "outputs": [
    {
     "name": "stdout",
     "output_type": "stream",
     "text": [
      "[25, 18, 11, 11, 10, 7, 7, 7, 6, 6, 6, 5, 4, 4, 4, 3, 3, 3, 3, 3, 3, 3, 3, 3, 3, 3, 3, 3, 3, 3, 3, 3, 2, 2, 2, 2, 2, 2, 2, 2, 2, 2, 2, 2, 2, 2, 2, 2, 2, 2, 2, 2, 2, 2, 2, 2, 2, 2, 2, 2, 2, 2, 2, 2, 2, 1, 1, 1, 1, 1, 1, 1, 1, 1, 1, 1, 1, 1, 1, 1, 1, 1, 1, 1, 1, 1, 1, 1, 1, 1, 1, 1, 1, 1, 1, 1, 1, 1, 1, 1, 1, 1, 1, 1, 1, 1, 1, 1, 1, 1, 1, 1, 1, 1, 1, 1, 1, 1, 1, 1, 1, 1, 1, 1, 1, 1, 1, 1, 1, 1, 1, 1, 1, 1, 1, 1, 1, 1, 1, 1, 1, 1, 1, 1, 1, 1, 1, 1, 1, 1, 1, 1, 1, 1, 1, 1, 1, 1, 1, 1, 1, 1, 1, 1, 1, 1, 1, 1, 1, 1, 1, 1, 1, 1, 1, 1, 1, 1, 1, 1, 1, 1, 1, 1, 1, 1, 1, 1, 1, 1, 1, 1, 1, 1, 1, 1, 1, 1, 1]\n"
     ]
    }
   ],
   "source": [
    "words_count_list = list(words_count.values())\n",
    "words_count_list.sort(reverse=True)\n",
    "print(words_count_list)"
   ]
  },
  {
   "cell_type": "code",
   "execution_count": 20,
   "id": "33e1854f",
   "metadata": {},
   "outputs": [
    {
     "name": "stdout",
     "output_type": "stream",
     "text": [
      "call\n",
      "and\n",
      "to\n",
      "in\n",
      "the\n"
     ]
    }
   ],
   "source": [
    "for word in words_count.keys():\n",
    "    if  words_count[word] >= words_count_list[4]:\n",
    "        print(word)\n",
    "    "
   ]
  },
  {
   "cell_type": "markdown",
   "id": "b626de53",
   "metadata": {},
   "source": [
    "---"
   ]
  },
  {
   "cell_type": "markdown",
   "id": "1aeec90d",
   "metadata": {},
   "source": [
    "## Q5. Newton-Raphson Algorithm ($25\\%$)"
   ]
  },
  {
   "cell_type": "markdown",
   "id": "570d1ad3",
   "metadata": {},
   "source": [
    "We introduced the bisection search during the lecture, which was used to find the square root and cube root of a real number. However, we have an even faster algorithm, called ***Newton-Raphson*** algorithm. It can be used to find the real roots of many differentiable functions. In this question, we explore how to use Newton-Raphson algorithm to determine the cube root of a real number. \n",
    "\n",
    "Suppose that $f(x)$ is a scalar function that has real roots $x_0$, i.e., $f(x_0) = 0$. Examples of $f(x)$ include $f(x) = x^2 - 9$, $f(x) = 3 x^2 + 2x +3$, etc. The Taylor expansion implies that\n",
    "$$\n",
    "f(x_0) - f(x) \\approx f'(x) (x_0 - x) \\implies x_0 \\approx x - \\frac{f(x)}{f'(x)}, \n",
    "$$\n",
    "where $f'(x)$ is the first-order derivative of $f(x)$, and we use the fact that $f(x_0) = 0$ in the above derivation. \n",
    "\n",
    "This implies that given the current guess in the $t$-th iteration, the $(t+1)$-th guess equals\n",
    "$$\n",
    "x_{t+1} = x_t - \\frac{f(x_t)}{f'(x_t)}. \n",
    "$$\n",
    "\n",
    "Since we now consider the cube root, $f(x) = x^3 - k$, which means $x$ is the cube root of $k$. The Newton-Raphson Algorithm is\n",
    "$$\n",
    "x_{t+1} = x_t - \\frac{x^3_t - k}{3 \\times x^2_t}. \n",
    "$$"
   ]
  },
  {
   "cell_type": "markdown",
   "id": "79a1c850",
   "metadata": {},
   "source": [
    "### Q5.1 ($10\\%$)"
   ]
  },
  {
   "cell_type": "markdown",
   "id": "e09c7e18",
   "metadata": {},
   "source": [
    "Using the background information that we described, you are asked to write a function that finds the approximate cube root of a real number, with the following function specification:\n",
    "```python\n",
    "def cube_root_newton(k, epsilon, max_steps=1000):\n",
    "    \"\"\"\n",
    "    Assumes that k and epsilon int or float, max_steps int.\n",
    "    epsilon > 0. \n",
    "    Returns float x such that x**3 is within epsilon of k.\n",
    "    If such a float does not exist (the number of loops is more than max_steps), it returns None. \n",
    "    \"\"\"\n",
    "```\n",
    "\n",
    "\n",
    "Examples of executing ```cube_root_newton``` function:\n",
    "```python\n",
    "print(cube_root_newton(-27, 0.001))\n",
    "print(cube_root_newton(81, 0.001))\n",
    "print(cube_root_newton(81, 0.000000000000000001))\n",
    "```\n",
    "will output\n",
    "\n",
    "-3.000000081210202\n",
    "\n",
    "4.326748721202069\n",
    "\n",
    "None"
   ]
  },
  {
   "cell_type": "code",
   "execution_count": 21,
   "id": "51e9fc99",
   "metadata": {},
   "outputs": [],
   "source": [
    "def cube_root_newton(k, epsilon, max_steps=1000):\n",
    "    \"\"\"\n",
    "    Assumes that k and epsilon int or float, max_steps int.\n",
    "    epsilon > 0. \n",
    "    Returns float x such that x**3 is within epsilon of k.\n",
    "    If such a float does not exist (the number of loops is more than max_steps), it returns None. \n",
    "    \"\"\"\n",
    "    \n",
    "    guess = k/2.0\n",
    "    steps = 0\n",
    "    while abs(guess**3 - k) >= epsilon:\n",
    "        guess = guess - (((guess**3) - k)/(3*guess**2)) \n",
    "        steps = steps + 1\n",
    "        if steps > max_steps:\n",
    "            return(None)\n",
    "    return(guess)\n",
    "    "
   ]
  },
  {
   "cell_type": "code",
   "execution_count": 22,
   "id": "caf8a88c",
   "metadata": {},
   "outputs": [
    {
     "name": "stdout",
     "output_type": "stream",
     "text": [
      "-3.000000081210202\n",
      "4.326748721202069\n",
      "None\n"
     ]
    }
   ],
   "source": [
    "#print(cube_root_newton(-125, 0.0001))\n",
    "print(cube_root_newton(-27, 0.001))\n",
    "print(cube_root_newton(81, 0.001))\n",
    "print(cube_root_newton(81, 0.000000000000000001))"
   ]
  },
  {
   "cell_type": "markdown",
   "id": "5257c01a",
   "metadata": {},
   "source": [
    "### Q5.2 ($5\\%$)"
   ]
  },
  {
   "cell_type": "markdown",
   "id": "0bf0ca8f",
   "metadata": {},
   "source": [
    "In lecture 3, we introduced a function ```test_my_square_root``` to test whether ```my_square_root``` has bugs. In this question, you are required to write a test function for ```cube_root_newton```. You should consider all boundary cases. "
   ]
  },
  {
   "cell_type": "code",
   "execution_count": 23,
   "id": "46c2e4ad",
   "metadata": {},
   "outputs": [],
   "source": [
    "def test_cube_root_newton():\n",
    "    \n",
    "    print(cube_root_newton(k=0.0, epsilon=0.0001))\n",
    "    print('-------------------------------------------------------')\n",
    "    print(cube_root_newton(k=25.0, epsilon=0.0001))\n",
    "    print('-------------------------------------------------------')\n",
    "    print(cube_root_newton(k=0.5, epsilon=0.0001))\n",
    "    print('-------------------------------------------------------')\n",
    "    print(cube_root_newton(k=2.0, epsilon=0.0001))\n",
    "    print('-------------------------------------------------------')\n",
    "    print(cube_root_newton(k=2.0, epsilon=1.0/2.0**32.0))\n",
    "    print('-------------------------------------------------------')\n",
    "    print(cube_root_newton(k=1.0/2.0**16.0, epsilon=1.0/2.0**32.0))\n",
    "    print('-------------------------------------------------------')\n",
    "    print(cube_root_newton(k=2.0**16.0, epsilon=1.0/2.0**32.0))\n",
    "    print('-------------------------------------------------------')\n",
    "    print(cube_root_newton(k=2.0**16.0, epsilon=2.0**16.0))\n",
    "    "
   ]
  },
  {
   "cell_type": "code",
   "execution_count": 24,
   "id": "4c292d06",
   "metadata": {},
   "outputs": [
    {
     "name": "stdout",
     "output_type": "stream",
     "text": [
      "0.0\n",
      "-------------------------------------------------------\n",
      "2.9240177540345433\n",
      "-------------------------------------------------------\n",
      "0.7937023270637581\n",
      "-------------------------------------------------------\n",
      "1.259933493449977\n",
      "-------------------------------------------------------\n",
      "1.2599210498948732\n",
      "-------------------------------------------------------\n",
      "0.024803230780800697\n",
      "-------------------------------------------------------\n",
      "40.31747359663594\n",
      "-------------------------------------------------------\n",
      "43.95532213107623\n"
     ]
    }
   ],
   "source": [
    "test_cube_root_newton()"
   ]
  },
  {
   "cell_type": "markdown",
   "id": "a2f88651",
   "metadata": {},
   "source": [
    "### Q5.3 ($10\\%$)"
   ]
  },
  {
   "cell_type": "markdown",
   "id": "bbf7ff55",
   "metadata": {},
   "source": [
    "One common strategy of defensive programming is to use ***assertions***. For example, users of the function ```cube_root_newton``` may mistakenly assign some bad values of ```epsilon```, e.g., $epsilon=-0.0001$. Whenever the values or types of ```k```, ```epsilon```, and ```max_steps``` do not satisfy the specifications, an assertation (e.g., ```AssertionError: Bad input```) should raised! In this question, you are required to rewrite the ```cube_root_newton``` function to have the assertation statement. \n",
    "\n",
    "```python \n",
    "def cube_root_newton(k, epsilon, max_steps=1000):\n",
    "    \"\"\"\n",
    "    Assumes that k and epsilon int or float, max_steps int. epsilon > 0 & max_steps > 0.\n",
    "    If the values or types of k, epsilon, and max_steps do not satisfy the above requirements,\n",
    "    an assertation (e.g., AssertionError: Bad input) should raised!\n",
    "    Returns float x such that x**3 is within epsilon of k.\n",
    "    If such a float does not exist (the number of loops is more than max_steps), it returns None. \n",
    "    \"\"\"\n",
    "```"
   ]
  },
  {
   "cell_type": "code",
   "execution_count": 25,
   "id": "9284db65",
   "metadata": {},
   "outputs": [],
   "source": [
    "def cube_root_newton(k, epsilon, max_steps=1000):\n",
    "    \"\"\"\n",
    "    Assumes that k and epsilon int or float, max_steps int. epsilon > 0 & max_steps > 0.\n",
    "    If the values or types of k, epsilon, and max_steps do not satisfy the above requirements,\n",
    "    an assertation (e.g., AssertionError: Bad input) should raised!\n",
    "    Returns float x such that x**3 is within epsilon of k.\n",
    "    If such a float does not exist (the number of loops is more than max_steps), it returns None. \n",
    "    \"\"\"\n",
    "    \n",
    "    input_bool_k = ((type(k)==float or type(k)==int))\n",
    "    input_bool_epsilon = (epsilon > 0 and (type(epsilon)==float or type(epsilon)==int))\n",
    "    input_bool_max_steps = (max_steps > 0 and type(max_steps)==int)\n",
    "    \n",
    "    assert input_bool_k & input_bool_epsilon & input_bool_max_steps, \"Bad input\"\n",
    "    \n",
    "    guess = k/2.0\n",
    "    steps = 0\n",
    "    while abs(guess**3 - k) >= epsilon:\n",
    "        guess = guess - (((guess**3) - k)/(3*guess**2)) \n",
    "        steps = steps + 1\n",
    "        if steps > max_steps:\n",
    "            return(None)\n",
    "    return(guess)\n"
   ]
  },
  {
   "cell_type": "markdown",
   "id": "b36e3eda",
   "metadata": {},
   "source": [
    "### An example:"
   ]
  },
  {
   "cell_type": "code",
   "execution_count": 26,
   "id": "4a4f747f",
   "metadata": {},
   "outputs": [
    {
     "ename": "AssertionError",
     "evalue": "Bad input",
     "output_type": "error",
     "traceback": [
      "\u001b[1;31m---------------------------------------------------------------------------\u001b[0m",
      "\u001b[1;31mAssertionError\u001b[0m                            Traceback (most recent call last)",
      "Cell \u001b[1;32mIn[26], line 1\u001b[0m\n\u001b[1;32m----> 1\u001b[0m \u001b[43mcube_root_newton\u001b[49m\u001b[43m(\u001b[49m\u001b[38;5;241;43m4\u001b[39;49m\u001b[43m,\u001b[49m\u001b[43m \u001b[49m\u001b[38;5;241;43m-\u001b[39;49m\u001b[38;5;241;43m0.0001\u001b[39;49m\u001b[43m,\u001b[49m\u001b[43m \u001b[49m\u001b[43mmax_steps\u001b[49m\u001b[38;5;241;43m=\u001b[39;49m\u001b[38;5;241;43m1000\u001b[39;49m\u001b[43m)\u001b[49m\n",
      "Cell \u001b[1;32mIn[25], line 14\u001b[0m, in \u001b[0;36mcube_root_newton\u001b[1;34m(k, epsilon, max_steps)\u001b[0m\n\u001b[0;32m     11\u001b[0m input_bool_epsilon \u001b[38;5;241m=\u001b[39m (epsilon \u001b[38;5;241m>\u001b[39m \u001b[38;5;241m0\u001b[39m \u001b[38;5;129;01mand\u001b[39;00m (\u001b[38;5;28mtype\u001b[39m(epsilon)\u001b[38;5;241m==\u001b[39m\u001b[38;5;28mfloat\u001b[39m \u001b[38;5;129;01mor\u001b[39;00m \u001b[38;5;28mtype\u001b[39m(epsilon)\u001b[38;5;241m==\u001b[39m\u001b[38;5;28mint\u001b[39m))\n\u001b[0;32m     12\u001b[0m input_bool_max_steps \u001b[38;5;241m=\u001b[39m (max_steps \u001b[38;5;241m>\u001b[39m \u001b[38;5;241m0\u001b[39m \u001b[38;5;129;01mand\u001b[39;00m \u001b[38;5;28mtype\u001b[39m(max_steps)\u001b[38;5;241m==\u001b[39m\u001b[38;5;28mint\u001b[39m)\n\u001b[1;32m---> 14\u001b[0m \u001b[38;5;28;01massert\u001b[39;00m input_bool_k \u001b[38;5;241m&\u001b[39m input_bool_epsilon \u001b[38;5;241m&\u001b[39m input_bool_max_steps, \u001b[38;5;124m\"\u001b[39m\u001b[38;5;124mBad input\u001b[39m\u001b[38;5;124m\"\u001b[39m\n\u001b[0;32m     16\u001b[0m guess \u001b[38;5;241m=\u001b[39m k\u001b[38;5;241m/\u001b[39m\u001b[38;5;241m2.0\u001b[39m\n\u001b[0;32m     17\u001b[0m steps \u001b[38;5;241m=\u001b[39m \u001b[38;5;241m0\u001b[39m\n",
      "\u001b[1;31mAssertionError\u001b[0m: Bad input"
     ]
    }
   ],
   "source": [
    "cube_root_newton(4, -0.0001, max_steps=1000)"
   ]
  },
  {
   "cell_type": "markdown",
   "id": "0ead2f61",
   "metadata": {},
   "source": [
    "---"
   ]
  },
  {
   "cell_type": "markdown",
   "id": "2bfbdc12",
   "metadata": {},
   "source": [
    "# END"
   ]
  }
 ],
 "metadata": {
  "kernelspec": {
   "display_name": "env",
   "language": "python",
   "name": "python3"
  },
  "language_info": {
   "codemirror_mode": {
    "name": "ipython",
    "version": 3
   },
   "file_extension": ".py",
   "mimetype": "text/x-python",
   "name": "python",
   "nbconvert_exporter": "python",
   "pygments_lexer": "ipython3",
   "version": "3.11.0"
  }
 },
 "nbformat": 4,
 "nbformat_minor": 5
}
