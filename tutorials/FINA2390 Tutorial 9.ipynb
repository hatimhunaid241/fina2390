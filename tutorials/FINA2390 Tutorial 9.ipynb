{
 "cells": [
  {
   "cell_type": "markdown",
   "id": "5315ef3d-c499-4a07-b7c2-9d4c4b7f707b",
   "metadata": {},
   "source": [
    "# Tutorial 9: Data Analysis in-class practices part II\n",
    "### 9.1 CAPM Model exercises\n",
    "Q1: Please download `stock_px_2.csv` and `risk_premium.csv` files from Moodle and load them into Pandas Dataframes with name `stock` and `risk_premium` respectively. The first column with dates should be set as DatetimeIndex.\n",
    "\n",
    "`stock_px_2.csv` file contains the daily stock price information of Apple (column `AAPL`), Microsoft (column `MSFT`) and ExxonMobil (column `XOM`) from 2003 to 2011. \\\n",
    "`risk_premium.csv` file contains the daily CAPM risk premium and risk free rate data from 2003 to 2011."
   ]
  },
  {
   "cell_type": "code",
   "execution_count": 1,
   "id": "55213325-b67b-4105-a792-d3a68870ab35",
   "metadata": {},
   "outputs": [],
   "source": [
    "import pandas as pd\n",
    "import statsmodels.api as sm"
   ]
  },
  {
   "cell_type": "code",
   "execution_count": 2,
   "id": "bfc9b9ed-784d-4dbf-97f3-cad3c1413261",
   "metadata": {},
   "outputs": [
    {
     "name": "stdout",
     "output_type": "stream",
     "text": [
      "            AAPL   MSFT    XOM     SPX\n",
      "2003-01-02  7.40  21.11  29.22  909.03\n",
      "2003-01-03  7.45  21.14  29.24  908.59\n",
      "2003-01-06  7.45  21.52  29.96  929.01\n",
      "2003-01-07  7.43  21.93  28.95  922.93\n",
      "2003-01-08  7.28  21.31  28.83  909.93\n",
      "            MKT-RF     RF\n",
      "2003-01-02    3.14  0.005\n",
      "2003-01-03   -0.11  0.005\n",
      "2003-01-06    2.13  0.005\n",
      "2003-01-07   -0.63  0.005\n",
      "2003-01-08   -1.34  0.005\n"
     ]
    }
   ],
   "source": [
    "stock = pd.read_csv(\n",
    "    \"../data/stock_px_2.csv\",\n",
    "    index_col=0, #takes the first column as index\n",
    "    parse_dates=True #automatically convert date strings into datetime objects\n",
    ")\n",
    "risk_premium = pd.read_csv(\n",
    "    \"../data/risk_premium.csv\",\n",
    "    index_col=0, \n",
    "    parse_dates=True\n",
    ")\n",
    "print(stock.head())\n",
    "print(risk_premium.head())"
   ]
  },
  {
   "cell_type": "markdown",
   "id": "10430a04-9354-40a2-be25-4210b6435cce",
   "metadata": {},
   "source": [
    "Q2: Merge the columns of `AAPL`, `MSFT` and `XOM` from `stock` DataFrame with all columns from `risk_premium` DataFrame into `data2` DataFrame. \\\n",
    "`AAPL`, `MSFT` and `XOM` columns represent daily data of stock prices, `MKT-RF` column represents the daily data of market risk premium in percentage points and `RF` column represents daily risk-free return in percentage points."
   ]
  },
  {
   "cell_type": "code",
   "execution_count": 3,
   "id": "64880a3e-9c64-40bb-9871-15e31e137c75",
   "metadata": {},
   "outputs": [],
   "source": [
    "stock_list = ['AAPL', 'MSFT', 'XOM']\n",
    "data2 = pd.merge(\n",
    "    left = stock[stock_list], \n",
    "    right = risk_premium, \n",
    "    left_index=True, \n",
    "    right_index=True\n",
    ")"
   ]
  },
  {
   "cell_type": "code",
   "execution_count": 4,
   "id": "d5d1c6b8-4d48-4711-81f5-b13ea5157c96",
   "metadata": {},
   "outputs": [
    {
     "name": "stdout",
     "output_type": "stream",
     "text": [
      "            AAPL   MSFT    XOM  MKT-RF     RF\n",
      "2003-01-02  7.40  21.11  29.22    3.14  0.005\n",
      "2003-01-03  7.45  21.14  29.24   -0.11  0.005\n",
      "2003-01-06  7.45  21.52  29.96    2.13  0.005\n",
      "2003-01-07  7.43  21.93  28.95   -0.63  0.005\n",
      "2003-01-08  7.28  21.31  28.83   -1.34  0.005\n",
      "2003-01-09  7.34  21.93  29.44    1.89  0.005\n",
      "2003-01-10  7.36  21.97  29.03    0.04  0.005\n",
      "2003-01-13  7.32  22.16  28.91   -0.12  0.005\n",
      "2003-01-14  7.30  22.39  29.17    0.55  0.005\n",
      "2003-01-15  7.22  22.11  28.77   -1.32  0.005\n"
     ]
    }
   ],
   "source": [
    "print(data2.head(10))"
   ]
  },
  {
   "cell_type": "markdown",
   "id": "5a6f3907-d003-495c-abec-e5d58a0f081a",
   "metadata": {},
   "source": [
    "Q3: Create `data3` DataFrame with `MKT-RF` and `RF` columns copied from `data2` DataFrame, then divide by 100. `AAPL`, `MSFT` and `XOM` columns in `data3` DataFrame represents the excess return of each stock over risk free rate. Remove observations with missing values."
   ]
  },
  {
   "cell_type": "code",
   "execution_count": 5,
   "id": "85a58c09-7588-4714-adbb-a45315e01f60",
   "metadata": {},
   "outputs": [],
   "source": [
    "# generate a new DataFrame for daily return of each stock\n",
    "data3 = data2[stock_list].pct_change()\n",
    "# divide the MKT-RF and RF values by 100 in the new DataFrame\n",
    "data3[['MKT-RF', 'RF']] = (\n",
    "    data2[['MKT-RF', 'RF']] \n",
    "    / 100\n",
    ")\n",
    "# calculate excess return for each stock\n",
    "data3[stock_list] = (\n",
    "    data3[stock_list].sub(\n",
    "        data3[\"RF\"], \n",
    "        axis=0 #subtract two columns from the same DataFrame\n",
    "    )\n",
    ")\n",
    "# drop rows with missing values\n",
    "data3 = data3.dropna()"
   ]
  },
  {
   "cell_type": "code",
   "execution_count": 6,
   "id": "628a1a75-d566-49c4-9543-34c5d270ffc6",
   "metadata": {},
   "outputs": [
    {
     "data": {
      "text/html": [
       "<div>\n",
       "<style scoped>\n",
       "    .dataframe tbody tr th:only-of-type {\n",
       "        vertical-align: middle;\n",
       "    }\n",
       "\n",
       "    .dataframe tbody tr th {\n",
       "        vertical-align: top;\n",
       "    }\n",
       "\n",
       "    .dataframe thead th {\n",
       "        text-align: right;\n",
       "    }\n",
       "</style>\n",
       "<table border=\"1\" class=\"dataframe\">\n",
       "  <thead>\n",
       "    <tr style=\"text-align: right;\">\n",
       "      <th></th>\n",
       "      <th>AAPL</th>\n",
       "      <th>MSFT</th>\n",
       "      <th>XOM</th>\n",
       "      <th>MKT-RF</th>\n",
       "      <th>RF</th>\n",
       "    </tr>\n",
       "  </thead>\n",
       "  <tbody>\n",
       "    <tr>\n",
       "      <th>2003-01-03</th>\n",
       "      <td>0.006707</td>\n",
       "      <td>0.001371</td>\n",
       "      <td>0.000634</td>\n",
       "      <td>-0.0011</td>\n",
       "      <td>0.00005</td>\n",
       "    </tr>\n",
       "    <tr>\n",
       "      <th>2003-01-06</th>\n",
       "      <td>-0.000050</td>\n",
       "      <td>0.017925</td>\n",
       "      <td>0.024574</td>\n",
       "      <td>0.0213</td>\n",
       "      <td>0.00005</td>\n",
       "    </tr>\n",
       "    <tr>\n",
       "      <th>2003-01-07</th>\n",
       "      <td>-0.002735</td>\n",
       "      <td>0.019002</td>\n",
       "      <td>-0.033762</td>\n",
       "      <td>-0.0063</td>\n",
       "      <td>0.00005</td>\n",
       "    </tr>\n",
       "    <tr>\n",
       "      <th>2003-01-08</th>\n",
       "      <td>-0.020238</td>\n",
       "      <td>-0.028322</td>\n",
       "      <td>-0.004195</td>\n",
       "      <td>-0.0134</td>\n",
       "      <td>0.00005</td>\n",
       "    </tr>\n",
       "    <tr>\n",
       "      <th>2003-01-09</th>\n",
       "      <td>0.008192</td>\n",
       "      <td>0.029044</td>\n",
       "      <td>0.021109</td>\n",
       "      <td>0.0189</td>\n",
       "      <td>0.00005</td>\n",
       "    </tr>\n",
       "    <tr>\n",
       "      <th>...</th>\n",
       "      <td>...</td>\n",
       "      <td>...</td>\n",
       "      <td>...</td>\n",
       "      <td>...</td>\n",
       "      <td>...</td>\n",
       "    </tr>\n",
       "    <tr>\n",
       "      <th>2011-10-10</th>\n",
       "      <td>0.051406</td>\n",
       "      <td>0.026286</td>\n",
       "      <td>0.036977</td>\n",
       "      <td>0.0344</td>\n",
       "      <td>0.00000</td>\n",
       "    </tr>\n",
       "    <tr>\n",
       "      <th>2011-10-11</th>\n",
       "      <td>0.029526</td>\n",
       "      <td>0.002227</td>\n",
       "      <td>-0.000131</td>\n",
       "      <td>0.0015</td>\n",
       "      <td>0.00000</td>\n",
       "    </tr>\n",
       "    <tr>\n",
       "      <th>2011-10-12</th>\n",
       "      <td>0.004747</td>\n",
       "      <td>-0.001481</td>\n",
       "      <td>0.011669</td>\n",
       "      <td>0.0107</td>\n",
       "      <td>0.00000</td>\n",
       "    </tr>\n",
       "    <tr>\n",
       "      <th>2011-10-13</th>\n",
       "      <td>0.015515</td>\n",
       "      <td>0.008160</td>\n",
       "      <td>-0.010238</td>\n",
       "      <td>-0.0021</td>\n",
       "      <td>0.00000</td>\n",
       "    </tr>\n",
       "    <tr>\n",
       "      <th>2011-10-14</th>\n",
       "      <td>0.033225</td>\n",
       "      <td>0.003311</td>\n",
       "      <td>0.022784</td>\n",
       "      <td>0.0172</td>\n",
       "      <td>0.00000</td>\n",
       "    </tr>\n",
       "  </tbody>\n",
       "</table>\n",
       "<p>2213 rows × 5 columns</p>\n",
       "</div>"
      ],
      "text/plain": [
       "                AAPL      MSFT       XOM  MKT-RF       RF\n",
       "2003-01-03  0.006707  0.001371  0.000634 -0.0011  0.00005\n",
       "2003-01-06 -0.000050  0.017925  0.024574  0.0213  0.00005\n",
       "2003-01-07 -0.002735  0.019002 -0.033762 -0.0063  0.00005\n",
       "2003-01-08 -0.020238 -0.028322 -0.004195 -0.0134  0.00005\n",
       "2003-01-09  0.008192  0.029044  0.021109  0.0189  0.00005\n",
       "...              ...       ...       ...     ...      ...\n",
       "2011-10-10  0.051406  0.026286  0.036977  0.0344  0.00000\n",
       "2011-10-11  0.029526  0.002227 -0.000131  0.0015  0.00000\n",
       "2011-10-12  0.004747 -0.001481  0.011669  0.0107  0.00000\n",
       "2011-10-13  0.015515  0.008160 -0.010238 -0.0021  0.00000\n",
       "2011-10-14  0.033225  0.003311  0.022784  0.0172  0.00000\n",
       "\n",
       "[2213 rows x 5 columns]"
      ]
     },
     "execution_count": 6,
     "metadata": {},
     "output_type": "execute_result"
    }
   ],
   "source": [
    "data3"
   ]
  },
  {
   "cell_type": "markdown",
   "id": "73dd9b8a-3e86-4269-9c29-9dab59190ccb",
   "metadata": {},
   "source": [
    "Q4: Write a function to compute CAPM alpha and CAPM market beta for the specifed stock using ordinary linear regression (OLS). \\\n",
    "The function should include the following arguments:\n",
    " 1. ```data```: Input DataFrame\n",
    " 2. ```yvar```: Column name from the input DataFrame, representing excess returns over risk free rate for the specified stock.\n",
    " 3. ```xvar```: Column name from the input DataFrame, representing the market risk premium.\n",
    " \n",
    "The output should be a `pd.Series` object with CAPM alpha and CAPM market beta estimates of the specified stock. \\\n",
    "Hint: Regress daily excess return of each stock against market risk premium to obtain CAPM parameters."
   ]
  },
  {
   "cell_type": "code",
   "execution_count": 7,
   "id": "c19ac422-8d73-48ac-8e8b-709292a0461c",
   "metadata": {},
   "outputs": [],
   "source": [
    "def regress(data, yvar, xvar):\n",
    "    model = sm.OLS(\n",
    "        data[yvar], #dependent variable\n",
    "        sm.add_constant(data[xvar]), #independent variable\n",
    "    )\n",
    "    results = model.fit()\n",
    "    out = results.params #Series containing alpha and beta parameters\n",
    "    out.index =  [\"CAPM_alpha\", \"CAPM_beta\"] #rename index to CAPM_alpha and CAPM_beta\n",
    "    return out"
   ]
  },
  {
   "cell_type": "markdown",
   "id": "836b26dd-e8e8-4b9e-a2c7-9e58c7cc0fd8",
   "metadata": {},
   "source": [
    "Q5: Use the function in Q4 to evaluate CAPM alpha and CAPM market beta for Apple (`AAPL`), Microsoft (`MSFT`) and ExxonMobil (`XOM`). Output should be presented as a single DataFrame."
   ]
  },
  {
   "cell_type": "code",
   "execution_count": 8,
   "id": "4bd2d1e2-834c-4605-b6a6-ddebf71a03a7",
   "metadata": {},
   "outputs": [
    {
     "name": "stdout",
     "output_type": "stream",
     "text": [
      "      CAPM_alpha  CAPM_beta\n",
      "AAPL    0.001781   1.036262\n",
      "MSFT   -0.000047   0.933148\n",
      "XOM     0.000264   0.933813\n"
     ]
    }
   ],
   "source": [
    "CAPM_output = [\n",
    "    regress(data3, ticker, \"MKT-RF\") \n",
    "    for ticker in stock_list\n",
    "] #store the regression parameters in each stock into a list\n",
    "CAPM_df = pd.DataFrame(\n",
    "    CAPM_output, \n",
    "    index=stock_list\n",
    ")\n",
    "print(CAPM_df)"
   ]
  },
  {
   "cell_type": "markdown",
   "id": "6f119eab-35dd-460a-8e7e-325cde554562",
   "metadata": {},
   "source": [
    "The following lines of code generate the regression table of CAPM regression for each stock:"
   ]
  },
  {
   "cell_type": "code",
   "execution_count": 9,
   "id": "186833a3-ccef-4ffe-8974-a31df6328ee6",
   "metadata": {},
   "outputs": [],
   "source": [
    "def regress_v2(data, yvar, xvar):\n",
    "    model = sm.OLS(\n",
    "        data[yvar], #dependent variable\n",
    "        sm.add_constant(data[xvar]), #independent variable\n",
    "    )\n",
    "    results = model.fit()\n",
    "    return results"
   ]
  },
  {
   "cell_type": "code",
   "execution_count": 15,
   "id": "35312004",
   "metadata": {},
   "outputs": [
    {
     "name": "stdout",
     "output_type": "stream",
     "text": [
      "const     0.001781\n",
      "MKT-RF    1.036262\n",
      "dtype: float64\n"
     ]
    }
   ],
   "source": [
    "print(regress_v2(data3, \"AAPL\", \"MKT-RF\").params)"
   ]
  },
  {
   "cell_type": "code",
   "execution_count": 12,
   "id": "dae74ffc",
   "metadata": {},
   "outputs": [
    {
     "data": {
      "text/plain": [
       "np.float64(0.32329646214177665)"
      ]
     },
     "execution_count": 12,
     "metadata": {},
     "output_type": "execute_result"
    }
   ],
   "source": [
    "#Rsquared for AAPL CAPM regression\n",
    "regress_v2(data3, \"AAPL\", \"MKT-RF\").rsquared "
   ]
  },
  {
   "cell_type": "code",
   "execution_count": 13,
   "id": "4dd16c7b-3e82-4260-b907-e945fbc4faae",
   "metadata": {},
   "outputs": [
    {
     "data": {
      "text/plain": [
       "np.float64(0.5005079089578209)"
      ]
     },
     "execution_count": 13,
     "metadata": {},
     "output_type": "execute_result"
    }
   ],
   "source": [
    "#Rsquared for MSFT CAPM regression\n",
    "regress_v2(data3, \"MSFT\", \"MKT-RF\").rsquared "
   ]
  },
  {
   "cell_type": "code",
   "execution_count": 14,
   "id": "054c8839-b159-4c6c-9985-d9dfc683e42a",
   "metadata": {},
   "outputs": [
    {
     "data": {
      "text/plain": [
       "np.float64(0.5635562501452642)"
      ]
     },
     "execution_count": 14,
     "metadata": {},
     "output_type": "execute_result"
    }
   ],
   "source": [
    "#Rsquared for XOM CAPM regression\n",
    "regress_v2(data3, \"XOM\", \"MKT-RF\").rsquared "
   ]
  }
 ],
 "metadata": {
  "kernelspec": {
   "display_name": "env",
   "language": "python",
   "name": "python3"
  },
  "language_info": {
   "codemirror_mode": {
    "name": "ipython",
    "version": 3
   },
   "file_extension": ".py",
   "mimetype": "text/x-python",
   "name": "python",
   "nbconvert_exporter": "python",
   "pygments_lexer": "ipython3",
   "version": "3.11.0"
  }
 },
 "nbformat": 4,
 "nbformat_minor": 5
}
