{
 "cells": [
  {
   "cell_type": "markdown",
   "id": "0764feb9-130e-4b79-a169-a0cbaa58cc14",
   "metadata": {},
   "source": [
    "# Problem Set 3\n",
    "\n",
    "This is the third, and also the last, homework assignment, which accounts for $15\\%$ of your final grade. There are three questions, and their weights are:\n",
    "* Q1: $30\\%$,\n",
    "* Q2: $30\\%$,\n",
    "* Q3: $40\\%$.\n",
    "\n",
    "You may work with other students. The maximal number of students per group is two. However, you can work on your own. Be sure to indicate with whom you have worked in your submission.\n",
    "\n",
    "### Deadline: Nov 27, 2024 (5 PM HK Time). \n",
    "\n",
    "There is a penalty for late submissions: $5\\%$ will be subtracted from the total mark for every additional day after the deadline. "
   ]
  },
  {
   "cell_type": "code",
   "execution_count": 1,
   "id": "22676bc4-94d5-444c-9f4d-d443fe40021e",
   "metadata": {},
   "outputs": [],
   "source": [
    "import numpy as np\n",
    "import pandas as pd\n",
    "import matplotlib.pyplot as plt\n",
    "plt.rc('figure', figsize=(8, 4))\n",
    "PREVIOUS_MAX_ROWS = pd.options.display.max_rows\n",
    "pd.options.display.max_rows = 15\n",
    "np.set_printoptions(precision=4, suppress=True)\n",
    "from dateutil.parser import parse\n",
    "import statsmodels.api as sm\n",
    "import statsmodels.formula.api as smf"
   ]
  },
  {
   "cell_type": "markdown",
   "id": "ea6713e2-32b7-45b2-8240-4c5779e1f5e9",
   "metadata": {},
   "source": [
    "---"
   ]
  },
  {
   "cell_type": "markdown",
   "id": "a993721e-45a9-433a-b774-38c5de4f81c3",
   "metadata": {},
   "source": [
    "You need to download the dataset used in this problem set: https://www.dropbox.com/scl/fi/irqn0aiwqen8a3nolq6h4/GlobalFactors_USA_ps3.parquet?rlkey=kqdrpudae94ufpslo9rluso0t&st=vu0zpieu&dl=0."
   ]
  },
  {
   "cell_type": "markdown",
   "id": "0854987d-b88f-4336-9847-73d06c6b280d",
   "metadata": {},
   "source": [
    "---"
   ]
  },
  {
   "cell_type": "markdown",
   "id": "4331adfb-5674-4dad-928d-e72a4fcc2f63",
   "metadata": {},
   "source": [
    "## Q1. Predicting Stock Returns\n",
    "\n",
    "In this question, we focus on the cross-sectional predictability. We will run the OLS regressions to estimate the following models: <br>\n",
    "$$\n",
    "R_{i,t+1} = c + X^\\top_{it} \\beta + \\epsilon_{i,t+1}, \n",
    "$$\n",
    "* $R_{i,t+1}$: return of stock $i$ at time $t+1$\n",
    "* $X_{it}$: the $K \\times 1$ vector of signals of stock $i$ at time $t$ (i.e., we are living at time $t$ and observe $X_{it}$. We aim to predict the next-period $R_{i,t+1}$)\n",
    "* The key parameter is $\\beta$ : if $\\beta_k$ ($1 \\leq k \\leq K$) is significantly different from zero, we can say that the $k$-th signal can predict stock returns. "
   ]
  },
  {
   "cell_type": "markdown",
   "id": "9f8828db-0875-4af7-a746-4046d7dce302",
   "metadata": {},
   "source": [
    "### Q1.1 ($10\\%$)\n",
    "\n",
    "You need to load the panel data of US stocks (```GlobalFactors_USA_ps3.parquet```) and preprocess the data. The variables can be grouped into three categories as follows:\n",
    "```python\n",
    "identifier_var_list = [\"id\", \"eom\", \"size_grp\", \"ret_exc_lead1m\", \"me\"]\n",
    "\n",
    "st_reversal_list = ['iskew_capm_21d', 'iskew_ff3_21d', 'iskew_hxz4_21d', 'ret_1_0', 'rmax5_rvol_21d', 'rskew_21d']\n",
    "\n",
    "accruals_list = ['cowc_gr1a', 'oaccruals_at', 'oaccruals_ni', 'seas_16_20na', 'taccruals_at', 'taccruals_ni']\n",
    "```\n",
    "\n",
    "First, you need remove the firms that do not have enough historic observations available (remove those with less than 24 months observations). \n",
    "\n",
    "Second, if a firm's market capitalization is less than 0.001% of the total market capitalization of the whole US stock market **per period**, we will exclude this firm from our analysis **in this period**. "
   ]
  },
  {
   "cell_type": "markdown",
   "id": "17ee20a2-7064-47e9-a6ed-ec787e2e564a",
   "metadata": {},
   "source": [
    "#### Answer:"
   ]
  },
  {
   "cell_type": "code",
   "execution_count": 2,
   "id": "8715bd79-7435-41f8-b020-99b29b4b228d",
   "metadata": {},
   "outputs": [],
   "source": [
    "identifier_var_list = [\"id\", \"eom\", \"size_grp\", \"ret_exc_lead1m\", \"me\"]\n",
    "\n",
    "st_reversal_list = ['iskew_capm_21d', 'iskew_ff3_21d', 'iskew_hxz4_21d', \n",
    "                    'ret_1_0', 'rmax5_rvol_21d', 'rskew_21d']\n",
    "\n",
    "accruals_list = ['cowc_gr1a', 'oaccruals_at', 'oaccruals_ni', \n",
    "                 'seas_16_20na', 'taccruals_at', 'taccruals_ni']"
   ]
  },
  {
   "cell_type": "code",
   "execution_count": 3,
   "id": "fd972d59-51cb-4219-a6aa-0d5f68bf9ec1",
   "metadata": {},
   "outputs": [
    {
     "name": "stdout",
     "output_type": "stream",
     "text": [
      "(2917805, 15)\n"
     ]
    }
   ],
   "source": [
    "D = pd.read_parquet(\n",
    "    \"GlobalFactors_USA_ps3.parquet\", \n",
    "    engine='pyarrow'\n",
    ")\n",
    "D = D.set_index(['id', 'eom'])  # create a hierarchical index using two columns 'id' and 'eom' as the index. \n",
    "print(D.shape)"
   ]
  },
  {
   "cell_type": "code",
   "execution_count": 4,
   "id": "218e5e3f-c129-4787-ac32-ef46c86a1e75",
   "metadata": {},
   "outputs": [],
   "source": [
    "history_lengths = D.index.to_frame()['id'].groupby(\n",
    "    level=0\n",
    ").count()\n",
    "cs_idx_with_history = history_lengths[\n",
    "    history_lengths >= 24\n",
    "].index \n",
    "ts_idx = D.index.get_level_values(1).unique()\n",
    "df_idx = pd.MultiIndex.from_product(\n",
    "    (ts_idx, cs_idx_with_history)\n",
    ").to_frame()[[]]\n",
    "\n",
    "# left merge to produce a balanced panel\n",
    "D_full = pd.merge(\n",
    "    D, \n",
    "    df_idx, \n",
    "    how='inner', \n",
    "    left_index=True, \n",
    "    right_index=True\n",
    ")"
   ]
  },
  {
   "cell_type": "code",
   "execution_count": 6,
   "id": "8f03cd16-48a0-49db-a465-512aa4a5ef25",
   "metadata": {},
   "outputs": [],
   "source": [
    "total_market_cap = D_full['me'].groupby(level=1).sum()\n",
    "market_cap_filter = (\n",
    "    D_full['me'] \n",
    "    / total_market_cap\n",
    ") > 0.00001\n",
    "D_full = D_full[market_cap_filter]"
   ]
  },
  {
   "cell_type": "code",
   "execution_count": 7,
   "id": "b7224a0c-4daf-4808-aa39-4a78fc345182",
   "metadata": {},
   "outputs": [
    {
     "data": {
      "text/html": [
       "<div>\n",
       "<style scoped>\n",
       "    .dataframe tbody tr th:only-of-type {\n",
       "        vertical-align: middle;\n",
       "    }\n",
       "\n",
       "    .dataframe tbody tr th {\n",
       "        vertical-align: top;\n",
       "    }\n",
       "\n",
       "    .dataframe thead th {\n",
       "        text-align: right;\n",
       "    }\n",
       "</style>\n",
       "<table border=\"1\" class=\"dataframe\">\n",
       "  <thead>\n",
       "    <tr style=\"text-align: right;\">\n",
       "      <th></th>\n",
       "      <th></th>\n",
       "      <th>size_grp</th>\n",
       "      <th>ret_exc_lead1m</th>\n",
       "      <th>me</th>\n",
       "      <th>iskew_capm_21d</th>\n",
       "      <th>iskew_ff3_21d</th>\n",
       "      <th>iskew_hxz4_21d</th>\n",
       "      <th>ret_1_0</th>\n",
       "      <th>rmax5_rvol_21d</th>\n",
       "      <th>rskew_21d</th>\n",
       "      <th>cowc_gr1a</th>\n",
       "      <th>oaccruals_at</th>\n",
       "      <th>oaccruals_ni</th>\n",
       "      <th>seas_16_20na</th>\n",
       "      <th>taccruals_at</th>\n",
       "      <th>taccruals_ni</th>\n",
       "    </tr>\n",
       "    <tr>\n",
       "      <th>id</th>\n",
       "      <th>eom</th>\n",
       "      <th></th>\n",
       "      <th></th>\n",
       "      <th></th>\n",
       "      <th></th>\n",
       "      <th></th>\n",
       "      <th></th>\n",
       "      <th></th>\n",
       "      <th></th>\n",
       "      <th></th>\n",
       "      <th></th>\n",
       "      <th></th>\n",
       "      <th></th>\n",
       "      <th></th>\n",
       "      <th></th>\n",
       "      <th></th>\n",
       "    </tr>\n",
       "  </thead>\n",
       "  <tbody>\n",
       "    <tr>\n",
       "      <th rowspan=\"5\" valign=\"top\">16424.0</th>\n",
       "      <th>1980-01-31</th>\n",
       "      <td>mega</td>\n",
       "      <td>-0.162615</td>\n",
       "      <td>769.360500</td>\n",
       "      <td>0.362228</td>\n",
       "      <td>0.407327</td>\n",
       "      <td>0.475523</td>\n",
       "      <td>-0.016872</td>\n",
       "      <td>1.380420</td>\n",
       "      <td>0.266194</td>\n",
       "      <td>0.034485</td>\n",
       "      <td>0.065939</td>\n",
       "      <td>0.838825</td>\n",
       "      <td>0.007731</td>\n",
       "      <td>0.057258</td>\n",
       "      <td>0.728398</td>\n",
       "    </tr>\n",
       "    <tr>\n",
       "      <th>1980-02-29</th>\n",
       "      <td>large</td>\n",
       "      <td>-0.075593</td>\n",
       "      <td>652.447875</td>\n",
       "      <td>-0.546837</td>\n",
       "      <td>-0.642052</td>\n",
       "      <td>-0.928328</td>\n",
       "      <td>-0.151961</td>\n",
       "      <td>1.104401</td>\n",
       "      <td>-0.367867</td>\n",
       "      <td>0.034485</td>\n",
       "      <td>0.065939</td>\n",
       "      <td>0.838825</td>\n",
       "      <td>0.013052</td>\n",
       "      <td>0.057258</td>\n",
       "      <td>0.728398</td>\n",
       "    </tr>\n",
       "    <tr>\n",
       "      <th>1980-03-31</th>\n",
       "      <td>large</td>\n",
       "      <td>0.113308</td>\n",
       "      <td>610.962750</td>\n",
       "      <td>-0.031283</td>\n",
       "      <td>0.106497</td>\n",
       "      <td>0.612202</td>\n",
       "      <td>-0.063584</td>\n",
       "      <td>1.355895</td>\n",
       "      <td>0.251088</td>\n",
       "      <td>0.034485</td>\n",
       "      <td>0.065939</td>\n",
       "      <td>0.838825</td>\n",
       "      <td>0.014585</td>\n",
       "      <td>0.057258</td>\n",
       "      <td>0.728398</td>\n",
       "    </tr>\n",
       "    <tr>\n",
       "      <th>1980-04-30</th>\n",
       "      <td>large</td>\n",
       "      <td>0.064743</td>\n",
       "      <td>675.076125</td>\n",
       "      <td>0.741628</td>\n",
       "      <td>-0.180984</td>\n",
       "      <td>-0.180364</td>\n",
       "      <td>0.126173</td>\n",
       "      <td>2.467519</td>\n",
       "      <td>0.087727</td>\n",
       "      <td>0.025277</td>\n",
       "      <td>0.092873</td>\n",
       "      <td>1.282676</td>\n",
       "      <td>0.013118</td>\n",
       "      <td>0.042374</td>\n",
       "      <td>0.585230</td>\n",
       "    </tr>\n",
       "    <tr>\n",
       "      <th>1980-05-31</th>\n",
       "      <td>large</td>\n",
       "      <td>0.014521</td>\n",
       "      <td>724.104000</td>\n",
       "      <td>-0.085251</td>\n",
       "      <td>-0.326792</td>\n",
       "      <td>-0.416056</td>\n",
       "      <td>0.072626</td>\n",
       "      <td>1.620748</td>\n",
       "      <td>0.024339</td>\n",
       "      <td>0.025277</td>\n",
       "      <td>0.092873</td>\n",
       "      <td>1.282676</td>\n",
       "      <td>0.014105</td>\n",
       "      <td>0.042374</td>\n",
       "      <td>0.585230</td>\n",
       "    </tr>\n",
       "    <tr>\n",
       "      <th>...</th>\n",
       "      <th>...</th>\n",
       "      <td>...</td>\n",
       "      <td>...</td>\n",
       "      <td>...</td>\n",
       "      <td>...</td>\n",
       "      <td>...</td>\n",
       "      <td>...</td>\n",
       "      <td>...</td>\n",
       "      <td>...</td>\n",
       "      <td>...</td>\n",
       "      <td>...</td>\n",
       "      <td>...</td>\n",
       "      <td>...</td>\n",
       "      <td>...</td>\n",
       "      <td>...</td>\n",
       "      <td>...</td>\n",
       "    </tr>\n",
       "    <tr>\n",
       "      <th rowspan=\"5\" valign=\"top\">90963.0</th>\n",
       "      <th>2014-11-30</th>\n",
       "      <td>small</td>\n",
       "      <td>0.042931</td>\n",
       "      <td>784.730844</td>\n",
       "      <td>0.475269</td>\n",
       "      <td>0.225973</td>\n",
       "      <td>0.350202</td>\n",
       "      <td>-0.000240</td>\n",
       "      <td>0.931056</td>\n",
       "      <td>0.207920</td>\n",
       "      <td>0.007081</td>\n",
       "      <td>-0.062228</td>\n",
       "      <td>-1.775345</td>\n",
       "      <td>NaN</td>\n",
       "      <td>-0.065188</td>\n",
       "      <td>-1.859781</td>\n",
       "    </tr>\n",
       "    <tr>\n",
       "      <th>2014-12-31</th>\n",
       "      <td>small</td>\n",
       "      <td>-0.039201</td>\n",
       "      <td>800.519292</td>\n",
       "      <td>0.384883</td>\n",
       "      <td>0.212480</td>\n",
       "      <td>0.198355</td>\n",
       "      <td>0.042936</td>\n",
       "      <td>1.307759</td>\n",
       "      <td>-0.208262</td>\n",
       "      <td>0.007081</td>\n",
       "      <td>-0.062228</td>\n",
       "      <td>-1.775345</td>\n",
       "      <td>NaN</td>\n",
       "      <td>-0.065188</td>\n",
       "      <td>-1.859781</td>\n",
       "    </tr>\n",
       "    <tr>\n",
       "      <th>2015-01-31</th>\n",
       "      <td>small</td>\n",
       "      <td>0.020660</td>\n",
       "      <td>769.148614</td>\n",
       "      <td>-0.294452</td>\n",
       "      <td>0.719219</td>\n",
       "      <td>0.015842</td>\n",
       "      <td>-0.039188</td>\n",
       "      <td>1.493195</td>\n",
       "      <td>0.100646</td>\n",
       "      <td>0.017835</td>\n",
       "      <td>-0.053753</td>\n",
       "      <td>-1.454096</td>\n",
       "      <td>NaN</td>\n",
       "      <td>-0.008524</td>\n",
       "      <td>-0.230588</td>\n",
       "    </tr>\n",
       "    <tr>\n",
       "      <th>2015-02-28</th>\n",
       "      <td>small</td>\n",
       "      <td>0.117004</td>\n",
       "      <td>785.936817</td>\n",
       "      <td>-0.610783</td>\n",
       "      <td>-0.242626</td>\n",
       "      <td>0.640467</td>\n",
       "      <td>0.020639</td>\n",
       "      <td>1.289475</td>\n",
       "      <td>-0.553157</td>\n",
       "      <td>0.017835</td>\n",
       "      <td>-0.053753</td>\n",
       "      <td>-1.454096</td>\n",
       "      <td>NaN</td>\n",
       "      <td>-0.008524</td>\n",
       "      <td>-0.230588</td>\n",
       "    </tr>\n",
       "    <tr>\n",
       "      <th>2015-03-31</th>\n",
       "      <td>small</td>\n",
       "      <td>-0.022948</td>\n",
       "      <td>877.778750</td>\n",
       "      <td>-0.010103</td>\n",
       "      <td>0.017877</td>\n",
       "      <td>0.055570</td>\n",
       "      <td>0.116996</td>\n",
       "      <td>1.393166</td>\n",
       "      <td>0.175959</td>\n",
       "      <td>0.017835</td>\n",
       "      <td>-0.053753</td>\n",
       "      <td>-1.454096</td>\n",
       "      <td>NaN</td>\n",
       "      <td>-0.008524</td>\n",
       "      <td>-0.230588</td>\n",
       "    </tr>\n",
       "  </tbody>\n",
       "</table>\n",
       "<p>1643779 rows × 15 columns</p>\n",
       "</div>"
      ],
      "text/plain": [
       "                   size_grp  ret_exc_lead1m          me  iskew_capm_21d  \\\n",
       "id      eom                                                               \n",
       "16424.0 1980-01-31     mega       -0.162615  769.360500        0.362228   \n",
       "        1980-02-29    large       -0.075593  652.447875       -0.546837   \n",
       "        1980-03-31    large        0.113308  610.962750       -0.031283   \n",
       "        1980-04-30    large        0.064743  675.076125        0.741628   \n",
       "        1980-05-31    large        0.014521  724.104000       -0.085251   \n",
       "...                     ...             ...         ...             ...   \n",
       "90963.0 2014-11-30    small        0.042931  784.730844        0.475269   \n",
       "        2014-12-31    small       -0.039201  800.519292        0.384883   \n",
       "        2015-01-31    small        0.020660  769.148614       -0.294452   \n",
       "        2015-02-28    small        0.117004  785.936817       -0.610783   \n",
       "        2015-03-31    small       -0.022948  877.778750       -0.010103   \n",
       "\n",
       "                    iskew_ff3_21d  iskew_hxz4_21d   ret_1_0  rmax5_rvol_21d  \\\n",
       "id      eom                                                                   \n",
       "16424.0 1980-01-31       0.407327        0.475523 -0.016872        1.380420   \n",
       "        1980-02-29      -0.642052       -0.928328 -0.151961        1.104401   \n",
       "        1980-03-31       0.106497        0.612202 -0.063584        1.355895   \n",
       "        1980-04-30      -0.180984       -0.180364  0.126173        2.467519   \n",
       "        1980-05-31      -0.326792       -0.416056  0.072626        1.620748   \n",
       "...                           ...             ...       ...             ...   \n",
       "90963.0 2014-11-30       0.225973        0.350202 -0.000240        0.931056   \n",
       "        2014-12-31       0.212480        0.198355  0.042936        1.307759   \n",
       "        2015-01-31       0.719219        0.015842 -0.039188        1.493195   \n",
       "        2015-02-28      -0.242626        0.640467  0.020639        1.289475   \n",
       "        2015-03-31       0.017877        0.055570  0.116996        1.393166   \n",
       "\n",
       "                    rskew_21d  cowc_gr1a  oaccruals_at  oaccruals_ni  \\\n",
       "id      eom                                                            \n",
       "16424.0 1980-01-31   0.266194   0.034485      0.065939      0.838825   \n",
       "        1980-02-29  -0.367867   0.034485      0.065939      0.838825   \n",
       "        1980-03-31   0.251088   0.034485      0.065939      0.838825   \n",
       "        1980-04-30   0.087727   0.025277      0.092873      1.282676   \n",
       "        1980-05-31   0.024339   0.025277      0.092873      1.282676   \n",
       "...                       ...        ...           ...           ...   \n",
       "90963.0 2014-11-30   0.207920   0.007081     -0.062228     -1.775345   \n",
       "        2014-12-31  -0.208262   0.007081     -0.062228     -1.775345   \n",
       "        2015-01-31   0.100646   0.017835     -0.053753     -1.454096   \n",
       "        2015-02-28  -0.553157   0.017835     -0.053753     -1.454096   \n",
       "        2015-03-31   0.175959   0.017835     -0.053753     -1.454096   \n",
       "\n",
       "                    seas_16_20na  taccruals_at  taccruals_ni  \n",
       "id      eom                                                   \n",
       "16424.0 1980-01-31      0.007731      0.057258      0.728398  \n",
       "        1980-02-29      0.013052      0.057258      0.728398  \n",
       "        1980-03-31      0.014585      0.057258      0.728398  \n",
       "        1980-04-30      0.013118      0.042374      0.585230  \n",
       "        1980-05-31      0.014105      0.042374      0.585230  \n",
       "...                          ...           ...           ...  \n",
       "90963.0 2014-11-30           NaN     -0.065188     -1.859781  \n",
       "        2014-12-31           NaN     -0.065188     -1.859781  \n",
       "        2015-01-31           NaN     -0.008524     -0.230588  \n",
       "        2015-02-28           NaN     -0.008524     -0.230588  \n",
       "        2015-03-31           NaN     -0.008524     -0.230588  \n",
       "\n",
       "[1643779 rows x 15 columns]"
      ]
     },
     "execution_count": 7,
     "metadata": {},
     "output_type": "execute_result"
    }
   ],
   "source": [
    "D_full"
   ]
  },
  {
   "cell_type": "markdown",
   "id": "2c0fc08e-728c-4968-876b-bb4d4f7bed54",
   "metadata": {},
   "source": [
    "### Q1.2 ($10\\%$)\n",
    "\n",
    "Based on the preprocessed data in Q1.1, you now need to conduct the rank-transformation of firm characteristics, as what we did in the lecture note. \n",
    "\n",
    "You need to rank and center each characteristic cross-sectionally to lie within the $[-0.5, 0.5]$ range.\n",
    "  * In each month, you rank the stocks by their firm characteristic $k$ and divide their ranks by the number of stocks during this period. Finally, you need to substract it by 0.5. Hence, the rank-transformed firm characteristic $k$ is\n",
    "  $$\n",
    "  X_{ikt} = \\frac{\\text{rank}_{ikt}}{N_t} - 0.5\n",
    "  $$\n",
    "    * $\\text{rank}_{ikt} \\in [1, N_t]$: the rank of stock $i$ by the values of firm characteristic $k$\n",
    "    * $N_t$: the number of stocks in period $t$ <br>\n",
    "    \n",
    "\n",
    "Next, you need to handle missing data.\n",
    "* Remove the firm-month observations whenever the return is missing. \n",
    "* Remove the firm characteristics whose missing rates are higher than $50\\%$ in any month. <br>\n",
    "* For the remaining sample, you are required to fill in missing data with zeros. "
   ]
  },
  {
   "cell_type": "markdown",
   "id": "a3487ce7-81ce-41ae-9658-134768ec321c",
   "metadata": {},
   "source": [
    "#### Answer:"
   ]
  },
  {
   "cell_type": "code",
   "execution_count": 7,
   "id": "abff2cc4-e0d9-4c80-a47a-e8332d28c970",
   "metadata": {},
   "outputs": [],
   "source": [
    "D_ranked = D_full[\n",
    "    st_reversal_list + accruals_list\n",
    "].groupby(level=1).rank(ascending=True)\n",
    "D_ranked = (D_ranked \n",
    "            / D_ranked.groupby(level=1).max() \n",
    "            - 0.5)"
   ]
  },
  {
   "cell_type": "code",
   "execution_count": 8,
   "id": "d73bebd9-1cdb-4e1f-8ac4-be4f526ea9b2",
   "metadata": {},
   "outputs": [],
   "source": [
    "D_ranked = D_ranked[D_full['ret_exc_lead1m'].isna() == False]\n",
    "mis_rate = D_ranked.isna().groupby(level=1).mean()\n",
    "D_ranked = D_ranked.loc[:,(mis_rate > 0.5).any()==False]\n",
    "D_ranked = D_ranked.fillna(0)"
   ]
  },
  {
   "cell_type": "code",
   "execution_count": 9,
   "id": "1673b7ff-1131-468a-85b4-a301b44a090b",
   "metadata": {},
   "outputs": [
    {
     "data": {
      "text/plain": [
       "Index(['iskew_capm_21d', 'iskew_ff3_21d', 'iskew_hxz4_21d', 'ret_1_0',\n",
       "       'rmax5_rvol_21d', 'rskew_21d', 'cowc_gr1a', 'oaccruals_at',\n",
       "       'oaccruals_ni', 'taccruals_at', 'taccruals_ni'],\n",
       "      dtype='object')"
      ]
     },
     "execution_count": 9,
     "metadata": {},
     "output_type": "execute_result"
    }
   ],
   "source": [
    "D_ranked.columns"
   ]
  },
  {
   "cell_type": "code",
   "execution_count": 10,
   "id": "984d2287-de4b-4d57-a537-4573327dd798",
   "metadata": {},
   "outputs": [
    {
     "data": {
      "text/html": [
       "<div>\n",
       "<style scoped>\n",
       "    .dataframe tbody tr th:only-of-type {\n",
       "        vertical-align: middle;\n",
       "    }\n",
       "\n",
       "    .dataframe tbody tr th {\n",
       "        vertical-align: top;\n",
       "    }\n",
       "\n",
       "    .dataframe thead th {\n",
       "        text-align: right;\n",
       "    }\n",
       "</style>\n",
       "<table border=\"1\" class=\"dataframe\">\n",
       "  <thead>\n",
       "    <tr style=\"text-align: right;\">\n",
       "      <th></th>\n",
       "      <th></th>\n",
       "      <th>iskew_capm_21d</th>\n",
       "      <th>iskew_ff3_21d</th>\n",
       "      <th>iskew_hxz4_21d</th>\n",
       "      <th>ret_1_0</th>\n",
       "      <th>rmax5_rvol_21d</th>\n",
       "      <th>rskew_21d</th>\n",
       "      <th>cowc_gr1a</th>\n",
       "      <th>oaccruals_at</th>\n",
       "      <th>oaccruals_ni</th>\n",
       "      <th>taccruals_at</th>\n",
       "      <th>taccruals_ni</th>\n",
       "    </tr>\n",
       "    <tr>\n",
       "      <th>id</th>\n",
       "      <th>eom</th>\n",
       "      <th></th>\n",
       "      <th></th>\n",
       "      <th></th>\n",
       "      <th></th>\n",
       "      <th></th>\n",
       "      <th></th>\n",
       "      <th></th>\n",
       "      <th></th>\n",
       "      <th></th>\n",
       "      <th></th>\n",
       "      <th></th>\n",
       "    </tr>\n",
       "  </thead>\n",
       "  <tbody>\n",
       "    <tr>\n",
       "      <th rowspan=\"5\" valign=\"top\">16424.0</th>\n",
       "      <th>1980-01-31</th>\n",
       "      <td>-0.034853</td>\n",
       "      <td>0.024129</td>\n",
       "      <td>0.080876</td>\n",
       "      <td>-0.298959</td>\n",
       "      <td>-0.152022</td>\n",
       "      <td>-0.051832</td>\n",
       "      <td>0.038429</td>\n",
       "      <td>-0.106342</td>\n",
       "      <td>-0.110994</td>\n",
       "      <td>0.038689</td>\n",
       "      <td>-0.036575</td>\n",
       "    </tr>\n",
       "    <tr>\n",
       "      <th>1980-02-29</th>\n",
       "      <td>-0.370885</td>\n",
       "      <td>-0.398675</td>\n",
       "      <td>-0.448268</td>\n",
       "      <td>-0.436995</td>\n",
       "      <td>0.016349</td>\n",
       "      <td>-0.305045</td>\n",
       "      <td>0.038234</td>\n",
       "      <td>-0.107868</td>\n",
       "      <td>-0.115059</td>\n",
       "      <td>0.040609</td>\n",
       "      <td>-0.029188</td>\n",
       "    </tr>\n",
       "    <tr>\n",
       "      <th>1980-03-31</th>\n",
       "      <td>0.097777</td>\n",
       "      <td>0.082544</td>\n",
       "      <td>0.337382</td>\n",
       "      <td>0.330632</td>\n",
       "      <td>0.024217</td>\n",
       "      <td>0.116303</td>\n",
       "      <td>0.036965</td>\n",
       "      <td>-0.110390</td>\n",
       "      <td>-0.119481</td>\n",
       "      <td>0.036364</td>\n",
       "      <td>-0.032035</td>\n",
       "    </tr>\n",
       "    <tr>\n",
       "      <th>1980-04-30</th>\n",
       "      <td>0.211172</td>\n",
       "      <td>-0.245686</td>\n",
       "      <td>-0.234332</td>\n",
       "      <td>0.256291</td>\n",
       "      <td>0.459861</td>\n",
       "      <td>-0.176658</td>\n",
       "      <td>-0.026975</td>\n",
       "      <td>0.034341</td>\n",
       "      <td>0.038229</td>\n",
       "      <td>-0.088337</td>\n",
       "      <td>-0.145788</td>\n",
       "    </tr>\n",
       "    <tr>\n",
       "      <th>1980-05-31</th>\n",
       "      <td>-0.292958</td>\n",
       "      <td>-0.357746</td>\n",
       "      <td>-0.375117</td>\n",
       "      <td>0.023214</td>\n",
       "      <td>0.237475</td>\n",
       "      <td>-0.230986</td>\n",
       "      <td>-0.018884</td>\n",
       "      <td>0.039089</td>\n",
       "      <td>0.044244</td>\n",
       "      <td>-0.088058</td>\n",
       "      <td>-0.146907</td>\n",
       "    </tr>\n",
       "    <tr>\n",
       "      <th>...</th>\n",
       "      <th>...</th>\n",
       "      <td>...</td>\n",
       "      <td>...</td>\n",
       "      <td>...</td>\n",
       "      <td>...</td>\n",
       "      <td>...</td>\n",
       "      <td>...</td>\n",
       "      <td>...</td>\n",
       "      <td>...</td>\n",
       "      <td>...</td>\n",
       "      <td>...</td>\n",
       "      <td>...</td>\n",
       "    </tr>\n",
       "    <tr>\n",
       "      <th rowspan=\"5\" valign=\"top\">90963.0</th>\n",
       "      <th>2014-11-30</th>\n",
       "      <td>0.206823</td>\n",
       "      <td>0.074627</td>\n",
       "      <td>0.163113</td>\n",
       "      <td>-0.074476</td>\n",
       "      <td>-0.087739</td>\n",
       "      <td>0.110519</td>\n",
       "      <td>0.057216</td>\n",
       "      <td>-0.157315</td>\n",
       "      <td>-0.247514</td>\n",
       "      <td>-0.068879</td>\n",
       "      <td>-0.149893</td>\n",
       "    </tr>\n",
       "    <tr>\n",
       "      <th>2014-12-31</th>\n",
       "      <td>0.163394</td>\n",
       "      <td>0.071529</td>\n",
       "      <td>0.058906</td>\n",
       "      <td>0.147532</td>\n",
       "      <td>-0.037879</td>\n",
       "      <td>-0.176367</td>\n",
       "      <td>0.057415</td>\n",
       "      <td>-0.161059</td>\n",
       "      <td>-0.250088</td>\n",
       "      <td>-0.072737</td>\n",
       "      <td>-0.151638</td>\n",
       "    </tr>\n",
       "    <tr>\n",
       "      <th>2015-01-31</th>\n",
       "      <td>-0.181947</td>\n",
       "      <td>0.295665</td>\n",
       "      <td>-0.055792</td>\n",
       "      <td>0.008156</td>\n",
       "      <td>0.196318</td>\n",
       "      <td>-0.033760</td>\n",
       "      <td>0.209206</td>\n",
       "      <td>-0.102063</td>\n",
       "      <td>-0.211238</td>\n",
       "      <td>0.223731</td>\n",
       "      <td>0.198356</td>\n",
       "    </tr>\n",
       "    <tr>\n",
       "      <th>2015-02-28</th>\n",
       "      <td>-0.324574</td>\n",
       "      <td>-0.204190</td>\n",
       "      <td>0.248935</td>\n",
       "      <td>-0.234491</td>\n",
       "      <td>0.003101</td>\n",
       "      <td>-0.335227</td>\n",
       "      <td>0.210174</td>\n",
       "      <td>-0.099644</td>\n",
       "      <td>-0.209609</td>\n",
       "      <td>0.226135</td>\n",
       "      <td>0.199321</td>\n",
       "    </tr>\n",
       "    <tr>\n",
       "      <th>2015-03-31</th>\n",
       "      <td>-0.065110</td>\n",
       "      <td>-0.053432</td>\n",
       "      <td>-0.025478</td>\n",
       "      <td>0.416343</td>\n",
       "      <td>0.211135</td>\n",
       "      <td>0.060863</td>\n",
       "      <td>0.208941</td>\n",
       "      <td>-0.101987</td>\n",
       "      <td>-0.211955</td>\n",
       "      <td>0.226301</td>\n",
       "      <td>0.203493</td>\n",
       "    </tr>\n",
       "  </tbody>\n",
       "</table>\n",
       "<p>1640027 rows × 11 columns</p>\n",
       "</div>"
      ],
      "text/plain": [
       "                    iskew_capm_21d  iskew_ff3_21d  iskew_hxz4_21d   ret_1_0  \\\n",
       "id      eom                                                                   \n",
       "16424.0 1980-01-31       -0.034853       0.024129        0.080876 -0.298959   \n",
       "        1980-02-29       -0.370885      -0.398675       -0.448268 -0.436995   \n",
       "        1980-03-31        0.097777       0.082544        0.337382  0.330632   \n",
       "        1980-04-30        0.211172      -0.245686       -0.234332  0.256291   \n",
       "        1980-05-31       -0.292958      -0.357746       -0.375117  0.023214   \n",
       "...                            ...            ...             ...       ...   \n",
       "90963.0 2014-11-30        0.206823       0.074627        0.163113 -0.074476   \n",
       "        2014-12-31        0.163394       0.071529        0.058906  0.147532   \n",
       "        2015-01-31       -0.181947       0.295665       -0.055792  0.008156   \n",
       "        2015-02-28       -0.324574      -0.204190        0.248935 -0.234491   \n",
       "        2015-03-31       -0.065110      -0.053432       -0.025478  0.416343   \n",
       "\n",
       "                    rmax5_rvol_21d  rskew_21d  cowc_gr1a  oaccruals_at  \\\n",
       "id      eom                                                              \n",
       "16424.0 1980-01-31       -0.152022  -0.051832   0.038429     -0.106342   \n",
       "        1980-02-29        0.016349  -0.305045   0.038234     -0.107868   \n",
       "        1980-03-31        0.024217   0.116303   0.036965     -0.110390   \n",
       "        1980-04-30        0.459861  -0.176658  -0.026975      0.034341   \n",
       "        1980-05-31        0.237475  -0.230986  -0.018884      0.039089   \n",
       "...                            ...        ...        ...           ...   \n",
       "90963.0 2014-11-30       -0.087739   0.110519   0.057216     -0.157315   \n",
       "        2014-12-31       -0.037879  -0.176367   0.057415     -0.161059   \n",
       "        2015-01-31        0.196318  -0.033760   0.209206     -0.102063   \n",
       "        2015-02-28        0.003101  -0.335227   0.210174     -0.099644   \n",
       "        2015-03-31        0.211135   0.060863   0.208941     -0.101987   \n",
       "\n",
       "                    oaccruals_ni  taccruals_at  taccruals_ni  \n",
       "id      eom                                                   \n",
       "16424.0 1980-01-31     -0.110994      0.038689     -0.036575  \n",
       "        1980-02-29     -0.115059      0.040609     -0.029188  \n",
       "        1980-03-31     -0.119481      0.036364     -0.032035  \n",
       "        1980-04-30      0.038229     -0.088337     -0.145788  \n",
       "        1980-05-31      0.044244     -0.088058     -0.146907  \n",
       "...                          ...           ...           ...  \n",
       "90963.0 2014-11-30     -0.247514     -0.068879     -0.149893  \n",
       "        2014-12-31     -0.250088     -0.072737     -0.151638  \n",
       "        2015-01-31     -0.211238      0.223731      0.198356  \n",
       "        2015-02-28     -0.209609      0.226135      0.199321  \n",
       "        2015-03-31     -0.211955      0.226301      0.203493  \n",
       "\n",
       "[1640027 rows x 11 columns]"
      ]
     },
     "execution_count": 10,
     "metadata": {},
     "output_type": "execute_result"
    }
   ],
   "source": [
    "D_ranked"
   ]
  },
  {
   "cell_type": "markdown",
   "id": "a8994496-89ca-473a-8184-23315982b905",
   "metadata": {},
   "source": [
    "### Q1.3 ($10\\%$)\n",
    "\n",
    "Let's divide the full sample into two subsamples: \n",
    "* In-sample data: Jan 1980 - Dec 2004\n",
    "* Out-of-sample data: Jan 2005 - End  <br>\n",
    "<br>\n",
    "* To assess predictive performance for individual excess stock return forecasts, we rely on the out-of-sample $R^2$ as <br>\n",
    "<br>\n",
    "$$\n",
    "R^2_{oos} = 1 - \\frac{\\sum_{i,t \\in \\text{oos}} (R_{i,t+1} - \\hat{R}_{i,t+1})^2}{\\sum_{i,t \\in \\text{oos}} R^2_{i,t+1}}. \n",
    "$$\n",
    "<br>\n",
    "* $\\sum_{i,t \\in \\text{oos}}$ indicates that fits are only assessed on the OOS subsample, whose data never enter into model estimation or tuning.\n",
    "\n",
    "You are required to do the following analysis:\n",
    "- Use the signals in ```st_reversal_list``` and ```accruals_list``` (that were not eliminated in Q1.2) to predict individual stock returns (```ret_exc_lead1m```). \n",
    "   * Interpret the OLS estimates: Which variables have signfinicant predictive power?\n",
    "   * Evaluate the out-of-sample performance of these signals. "
   ]
  },
  {
   "cell_type": "markdown",
   "id": "a43d473b-238c-4646-a6c8-9a636265460c",
   "metadata": {},
   "source": [
    "#### Answer:"
   ]
  },
  {
   "cell_type": "code",
   "execution_count": 11,
   "id": "cf97d1b4-2ea6-48d0-bbbf-6adc4c1434f0",
   "metadata": {},
   "outputs": [],
   "source": [
    "D_ranked_in = D_ranked[(D_ranked.index.get_level_values(1) \n",
    "                        < '2005-01')]\n",
    "D_ranked_oos = D_ranked[(D_ranked.index.get_level_values(1) \n",
    "                         >= '2005-01')]"
   ]
  },
  {
   "cell_type": "code",
   "execution_count": 12,
   "id": "3be1544d-d040-4a90-84c8-83ac1235fdf1",
   "metadata": {},
   "outputs": [],
   "source": [
    "data_in = pd.merge(\n",
    "    D_full[['ret_exc_lead1m']], \n",
    "    D_ranked_in, \n",
    "    how='inner', \n",
    "    left_index=True, \n",
    "    right_index=True\n",
    ")\n",
    "data_oos = pd.merge(\n",
    "    D_full[['ret_exc_lead1m']],\n",
    "    D_ranked_oos, \n",
    "    how='inner', \n",
    "    left_index=True, \n",
    "    right_index=True\n",
    ")"
   ]
  },
  {
   "cell_type": "code",
   "execution_count": 13,
   "id": "61c8f022-19a3-4ff3-9457-0937e280f676",
   "metadata": {},
   "outputs": [
    {
     "name": "stdout",
     "output_type": "stream",
     "text": [
      "                            OLS Regression Results                            \n",
      "==============================================================================\n",
      "Dep. Variable:                      y   R-squared:                       0.001\n",
      "Model:                            OLS   Adj. R-squared:                  0.001\n",
      "Method:                 Least Squares   F-statistic:                     105.8\n",
      "Date:                Sat, 07 Dec 2024   Prob (F-statistic):          1.30e-242\n",
      "Time:                        17:19:11   Log-Likelihood:             5.6457e+05\n",
      "No. Observations:             1058173   AIC:                        -1.129e+06\n",
      "Df Residuals:                 1058161   BIC:                        -1.129e+06\n",
      "Df Model:                          11                                         \n",
      "Covariance Type:            nonrobust                                         \n",
      "==================================================================================\n",
      "                     coef    std err          t      P>|t|      [0.025      0.975]\n",
      "----------------------------------------------------------------------------------\n",
      "const              0.0063      0.000     45.478      0.000       0.006       0.007\n",
      "iskew_capm_21d     0.0011      0.001      0.863      0.388      -0.001       0.004\n",
      "iskew_ff3_21d      0.0019      0.001      1.661      0.097      -0.000       0.004\n",
      "iskew_hxz4_21d     0.0018      0.001      1.868      0.062   -8.84e-05       0.004\n",
      "ret_1_0           -0.0029      0.001     -5.232      0.000      -0.004      -0.002\n",
      "rmax5_rvol_21d    -0.0097      0.001    -15.905      0.000      -0.011      -0.008\n",
      "rskew_21d         -0.0025      0.001     -2.586      0.010      -0.004      -0.001\n",
      "cowc_gr1a         -0.0027      0.001     -4.042      0.000      -0.004      -0.001\n",
      "oaccruals_at      -0.0088      0.001     -6.819      0.000      -0.011      -0.006\n",
      "oaccruals_ni      -0.0059      0.001     -4.857      0.000      -0.008      -0.004\n",
      "taccruals_at       0.0089      0.001      6.337      0.000       0.006       0.012\n",
      "taccruals_ni      -0.0034      0.001     -2.462      0.014      -0.006      -0.001\n",
      "==============================================================================\n",
      "Omnibus:                   413149.102   Durbin-Watson:                   1.954\n",
      "Prob(Omnibus):                  0.000   Jarque-Bera (JB):         13420180.635\n",
      "Skew:                           1.247   Prob(JB):                         0.00\n",
      "Kurtosis:                      20.267   Cond. No.                         16.8\n",
      "==============================================================================\n",
      "\n",
      "Notes:\n",
      "[1] Standard Errors assume that the covariance matrix of the errors is correctly specified.\n"
     ]
    }
   ],
   "source": [
    "model = sm.OLS(\n",
    "    data_in[['ret_exc_lead1m']].values, \n",
    "    sm.add_constant(\n",
    "        data_in[[x for x in (\n",
    "            st_reversal_list + accruals_list\n",
    "        ) if x in data_in.columns]]\n",
    "    )\n",
    ")\n",
    "results = model.fit()\n",
    "print(results.summary())"
   ]
  },
  {
   "cell_type": "code",
   "execution_count": 14,
   "id": "6511a5b7-49b0-469a-bcdd-1c8229c19f8c",
   "metadata": {},
   "outputs": [],
   "source": [
    "y_oos = data_oos[['ret_exc_lead1m']].values\n",
    "X_oos = data_oos[[x for x in st_reversal_list + accruals_list \n",
    "                  if x in data_in.columns]].values"
   ]
  },
  {
   "cell_type": "code",
   "execution_count": 15,
   "id": "249913dc-2f29-4f3b-9889-aa09521682fd",
   "metadata": {},
   "outputs": [],
   "source": [
    "def get_R2(beta_hat, y, X):\n",
    "    \"\"\"\n",
    "    beta_hat: a pandas.Series of coefficient estimates\n",
    "    y: an ndarray of dependent variables\n",
    "    X: a two-dimensional ndarray of independent variables\n",
    "    This function returns the R-squared in the linear models\n",
    "    \"\"\"\n",
    "    pred_err = y.reshape((len(y),)) - sm.add_constant(X) @ beta_hat\n",
    "    return (1 - \n",
    "            ((y.reshape(len(y),) \n",
    "              - sm.add_constant(X) @ beta_hat)**2).sum() \n",
    "            / (y**2).sum())"
   ]
  },
  {
   "cell_type": "code",
   "execution_count": 16,
   "id": "24bbd866-9acb-4289-8f11-f102b4385d00",
   "metadata": {},
   "outputs": [
    {
     "data": {
      "text/plain": [
       "0.002471969258770912"
      ]
     },
     "execution_count": 16,
     "metadata": {},
     "output_type": "execute_result"
    }
   ],
   "source": [
    "get_R2(\n",
    "    results.params, \n",
    "    y_oos, \n",
    "    sm.add_constant(X_oos)\n",
    ")"
   ]
  },
  {
   "cell_type": "markdown",
   "id": "c7d15952-d9a6-4f06-a8c8-09b82ed7ef44",
   "metadata": {},
   "source": [
    "---"
   ]
  },
  {
   "cell_type": "markdown",
   "id": "5d22abae-b9e2-41b6-b5c4-859fe8e7a8a5",
   "metadata": {},
   "source": [
    "## Q2. Quintile Portfolios Sorted by the Accruals Signal"
   ]
  },
  {
   "cell_type": "markdown",
   "id": "76c18f06-cc75-4126-8605-33e44ddf9da1",
   "metadata": {},
   "source": [
    "In this question, you will be guided to construct the cross-section of five portfolios sorted by the accruals signal. The accruals signal was initially proposed by Sloan (1996). Accordingly, the accrual component of corporate earnings is computed using the information from the balance sheet and income statement:\n",
    "$$\n",
    "\\text{Accruals} = (\\Delta \\text{CA} - \\Delta \\text{Cash}) - (\\Delta \\text{CL} - \\Delta \\text{STD} - \\Delta \\text{TP}) - \\text{Dep}, \n",
    "$$\n",
    "where \n",
    "* $\\Delta \\text{CA}$ is the change in the current asset,\n",
    "* $\\Delta \\text{Cash}$ is the change in cash equivalents,\n",
    "* $\\Delta \\text{CL}$ is the change in current liabilities,\n",
    "* $\\Delta \\text{STD}$ is the change in debt included in current liabilities,\n",
    "* $\\Delta \\text{TP}$ is the change in income taxes payable, and\n",
    "* $\\text{Dep}$ is the depreciation and amortization expense. \n",
    "\n",
    "Briefly speaking, the accrual component of corporate earnings is more likely to be subject to earnings management by corporate managers than the cash flow component. In other words, accruals probably represent the *\"spurious\"* components in the corporate earnings. Empirically, Sloan (1996) finds that firms with higher (lower) accruals in the past tend to underperform (outperform) in the future. In this question, we focus on the most common accruals signal ```'oaccruals_at'```. "
   ]
  },
  {
   "cell_type": "markdown",
   "id": "cec59a42-36aa-48dc-9e70-c57611071433",
   "metadata": {},
   "source": [
    "You need to follow the same step as in Q1.1 and Q1.2 to preprocess the data. After you finish, you will need to merge the ```D_full``` and ```D_ranked``` as follows:\n",
    "```python\n",
    "data_final = pd.merge(D_full[['ret_exc_lead1m', \"me\"]], D_ranked['oaccruals_at'], how='inner', \n",
    "                      left_index=True, right_index=True)\n",
    "```\n",
    "Next, you should keep the observations after 1990 by executing the following command:\n",
    "```python\n",
    "data_final = data_final[data_final.index.get_level_values(1) > '1989-12-31']\n",
    "```"
   ]
  },
  {
   "cell_type": "code",
   "execution_count": 17,
   "id": "1a60b493-82dc-4de8-b82f-9e9ed7affa0d",
   "metadata": {},
   "outputs": [],
   "source": [
    "data_final = pd.merge(\n",
    "    D_full[['ret_exc_lead1m', \"me\"]], \n",
    "    D_ranked['oaccruals_at'], \n",
    "    how='inner', \n",
    "    left_index=True, \n",
    "    right_index=True\n",
    ")\n",
    "data_final = data_final[data_final.index.get_level_values(1) > '1989-12-31']"
   ]
  },
  {
   "cell_type": "code",
   "execution_count": 18,
   "id": "c5a9696a-ebca-4144-b401-9e1edcf7bebc",
   "metadata": {},
   "outputs": [
    {
     "data": {
      "text/html": [
       "<div>\n",
       "<style scoped>\n",
       "    .dataframe tbody tr th:only-of-type {\n",
       "        vertical-align: middle;\n",
       "    }\n",
       "\n",
       "    .dataframe tbody tr th {\n",
       "        vertical-align: top;\n",
       "    }\n",
       "\n",
       "    .dataframe thead th {\n",
       "        text-align: right;\n",
       "    }\n",
       "</style>\n",
       "<table border=\"1\" class=\"dataframe\">\n",
       "  <thead>\n",
       "    <tr style=\"text-align: right;\">\n",
       "      <th></th>\n",
       "      <th></th>\n",
       "      <th>ret_exc_lead1m</th>\n",
       "      <th>me</th>\n",
       "      <th>oaccruals_at</th>\n",
       "    </tr>\n",
       "    <tr>\n",
       "      <th>id</th>\n",
       "      <th>eom</th>\n",
       "      <th></th>\n",
       "      <th></th>\n",
       "      <th></th>\n",
       "    </tr>\n",
       "  </thead>\n",
       "  <tbody>\n",
       "    <tr>\n",
       "      <th rowspan=\"5\" valign=\"top\">16424.0</th>\n",
       "      <th>1990-01-31</th>\n",
       "      <td>0.071744</td>\n",
       "      <td>4366.204750</td>\n",
       "      <td>0.269320</td>\n",
       "    </tr>\n",
       "    <tr>\n",
       "      <th>1990-02-28</th>\n",
       "      <td>0.057887</td>\n",
       "      <td>4704.857750</td>\n",
       "      <td>0.278427</td>\n",
       "    </tr>\n",
       "    <tr>\n",
       "      <th>1990-03-31</th>\n",
       "      <td>0.003219</td>\n",
       "      <td>5007.226500</td>\n",
       "      <td>0.283984</td>\n",
       "    </tr>\n",
       "    <tr>\n",
       "      <th>1990-04-30</th>\n",
       "      <td>0.089750</td>\n",
       "      <td>5031.416000</td>\n",
       "      <td>0.061591</td>\n",
       "    </tr>\n",
       "    <tr>\n",
       "      <th>1990-05-31</th>\n",
       "      <td>0.035769</td>\n",
       "      <td>5515.206000</td>\n",
       "      <td>0.070543</td>\n",
       "    </tr>\n",
       "    <tr>\n",
       "      <th>...</th>\n",
       "      <th>...</th>\n",
       "      <td>...</td>\n",
       "      <td>...</td>\n",
       "      <td>...</td>\n",
       "    </tr>\n",
       "    <tr>\n",
       "      <th rowspan=\"5\" valign=\"top\">90963.0</th>\n",
       "      <th>2014-11-30</th>\n",
       "      <td>0.042931</td>\n",
       "      <td>784.730844</td>\n",
       "      <td>-0.157315</td>\n",
       "    </tr>\n",
       "    <tr>\n",
       "      <th>2014-12-31</th>\n",
       "      <td>-0.039201</td>\n",
       "      <td>800.519292</td>\n",
       "      <td>-0.161059</td>\n",
       "    </tr>\n",
       "    <tr>\n",
       "      <th>2015-01-31</th>\n",
       "      <td>0.020660</td>\n",
       "      <td>769.148614</td>\n",
       "      <td>-0.102063</td>\n",
       "    </tr>\n",
       "    <tr>\n",
       "      <th>2015-02-28</th>\n",
       "      <td>0.117004</td>\n",
       "      <td>785.936817</td>\n",
       "      <td>-0.099644</td>\n",
       "    </tr>\n",
       "    <tr>\n",
       "      <th>2015-03-31</th>\n",
       "      <td>-0.022948</td>\n",
       "      <td>877.778750</td>\n",
       "      <td>-0.101987</td>\n",
       "    </tr>\n",
       "  </tbody>\n",
       "</table>\n",
       "<p>1215399 rows × 3 columns</p>\n",
       "</div>"
      ],
      "text/plain": [
       "                    ret_exc_lead1m           me  oaccruals_at\n",
       "id      eom                                                  \n",
       "16424.0 1990-01-31        0.071744  4366.204750      0.269320\n",
       "        1990-02-28        0.057887  4704.857750      0.278427\n",
       "        1990-03-31        0.003219  5007.226500      0.283984\n",
       "        1990-04-30        0.089750  5031.416000      0.061591\n",
       "        1990-05-31        0.035769  5515.206000      0.070543\n",
       "...                            ...          ...           ...\n",
       "90963.0 2014-11-30        0.042931   784.730844     -0.157315\n",
       "        2014-12-31       -0.039201   800.519292     -0.161059\n",
       "        2015-01-31        0.020660   769.148614     -0.102063\n",
       "        2015-02-28        0.117004   785.936817     -0.099644\n",
       "        2015-03-31       -0.022948   877.778750     -0.101987\n",
       "\n",
       "[1215399 rows x 3 columns]"
      ]
     },
     "execution_count": 18,
     "metadata": {},
     "output_type": "execute_result"
    }
   ],
   "source": [
    "data_final"
   ]
  },
  {
   "cell_type": "markdown",
   "id": "b41597ca-2a3c-4c1e-aa58-aac9df067ca9",
   "metadata": {},
   "source": [
    "### Q2.1 ($10\\%$)\n",
    "\n",
    "For each month, sort the stocks into five groups based on their values of the accruals signal ```oaccruals_at```. You also need to assign the labels ```[\"Q1\",\"Q2\",\"Q3\",\"Q4\",\"Q5\"]``` to the five groups (Hint: use ```groupby```, ```apply```, and ```pd.qcut``` methods). \n",
    "\n",
    "The output should be a ```pd.Series``` named ```oaccruals_at_cat```. Next, you will use ```oaccruals_at_cat``` to create a dummy matrix. Since ```oaccruals_at_cat``` has five distinct values, you would derive a matrix or DataFrame with five columns containing all 1s and 0s (the resultant dummy matrix is named ```oaccruals_at_dummy```)."
   ]
  },
  {
   "cell_type": "code",
   "execution_count": 18,
   "id": "de06a708-1ae8-4a93-9950-dd674ffae2f9",
   "metadata": {},
   "outputs": [
    {
     "data": {
      "text/html": [
       "<div>\n",
       "<style scoped>\n",
       "    .dataframe tbody tr th:only-of-type {\n",
       "        vertical-align: middle;\n",
       "    }\n",
       "\n",
       "    .dataframe tbody tr th {\n",
       "        vertical-align: top;\n",
       "    }\n",
       "\n",
       "    .dataframe thead th {\n",
       "        text-align: right;\n",
       "    }\n",
       "</style>\n",
       "<table border=\"1\" class=\"dataframe\">\n",
       "  <thead>\n",
       "    <tr style=\"text-align: right;\">\n",
       "      <th></th>\n",
       "      <th></th>\n",
       "      <th>ret_exc_lead1m</th>\n",
       "      <th>me</th>\n",
       "      <th>oaccruals_at</th>\n",
       "    </tr>\n",
       "    <tr>\n",
       "      <th>id</th>\n",
       "      <th>eom</th>\n",
       "      <th></th>\n",
       "      <th></th>\n",
       "      <th></th>\n",
       "    </tr>\n",
       "  </thead>\n",
       "  <tbody>\n",
       "    <tr>\n",
       "      <th rowspan=\"5\" valign=\"top\">16424.0</th>\n",
       "      <th>1990-01-31</th>\n",
       "      <td>0.071744</td>\n",
       "      <td>4366.204750</td>\n",
       "      <td>0.269320</td>\n",
       "    </tr>\n",
       "    <tr>\n",
       "      <th>1990-02-28</th>\n",
       "      <td>0.057887</td>\n",
       "      <td>4704.857750</td>\n",
       "      <td>0.278427</td>\n",
       "    </tr>\n",
       "    <tr>\n",
       "      <th>1990-03-31</th>\n",
       "      <td>0.003219</td>\n",
       "      <td>5007.226500</td>\n",
       "      <td>0.283984</td>\n",
       "    </tr>\n",
       "    <tr>\n",
       "      <th>1990-04-30</th>\n",
       "      <td>0.089750</td>\n",
       "      <td>5031.416000</td>\n",
       "      <td>0.061591</td>\n",
       "    </tr>\n",
       "    <tr>\n",
       "      <th>1990-05-31</th>\n",
       "      <td>0.035769</td>\n",
       "      <td>5515.206000</td>\n",
       "      <td>0.070543</td>\n",
       "    </tr>\n",
       "    <tr>\n",
       "      <th>...</th>\n",
       "      <th>...</th>\n",
       "      <td>...</td>\n",
       "      <td>...</td>\n",
       "      <td>...</td>\n",
       "    </tr>\n",
       "    <tr>\n",
       "      <th rowspan=\"5\" valign=\"top\">90963.0</th>\n",
       "      <th>2014-11-30</th>\n",
       "      <td>0.042931</td>\n",
       "      <td>784.730844</td>\n",
       "      <td>-0.157315</td>\n",
       "    </tr>\n",
       "    <tr>\n",
       "      <th>2014-12-31</th>\n",
       "      <td>-0.039201</td>\n",
       "      <td>800.519292</td>\n",
       "      <td>-0.161059</td>\n",
       "    </tr>\n",
       "    <tr>\n",
       "      <th>2015-01-31</th>\n",
       "      <td>0.020660</td>\n",
       "      <td>769.148614</td>\n",
       "      <td>-0.102063</td>\n",
       "    </tr>\n",
       "    <tr>\n",
       "      <th>2015-02-28</th>\n",
       "      <td>0.117004</td>\n",
       "      <td>785.936817</td>\n",
       "      <td>-0.099644</td>\n",
       "    </tr>\n",
       "    <tr>\n",
       "      <th>2015-03-31</th>\n",
       "      <td>-0.022948</td>\n",
       "      <td>877.778750</td>\n",
       "      <td>-0.101987</td>\n",
       "    </tr>\n",
       "  </tbody>\n",
       "</table>\n",
       "<p>1215399 rows × 3 columns</p>\n",
       "</div>"
      ],
      "text/plain": [
       "                    ret_exc_lead1m           me  oaccruals_at\n",
       "id      eom                                                  \n",
       "16424.0 1990-01-31        0.071744  4366.204750      0.269320\n",
       "        1990-02-28        0.057887  4704.857750      0.278427\n",
       "        1990-03-31        0.003219  5007.226500      0.283984\n",
       "        1990-04-30        0.089750  5031.416000      0.061591\n",
       "        1990-05-31        0.035769  5515.206000      0.070543\n",
       "...                            ...          ...           ...\n",
       "90963.0 2014-11-30        0.042931   784.730844     -0.157315\n",
       "        2014-12-31       -0.039201   800.519292     -0.161059\n",
       "        2015-01-31        0.020660   769.148614     -0.102063\n",
       "        2015-02-28        0.117004   785.936817     -0.099644\n",
       "        2015-03-31       -0.022948   877.778750     -0.101987\n",
       "\n",
       "[1215399 rows x 3 columns]"
      ]
     },
     "execution_count": 18,
     "metadata": {},
     "output_type": "execute_result"
    }
   ],
   "source": [
    "data_final"
   ]
  },
  {
   "cell_type": "markdown",
   "id": "129cabfc-8dd7-47c3-82a6-a52ebede0d4e",
   "metadata": {},
   "source": [
    "#### Answer:"
   ]
  },
  {
   "cell_type": "code",
   "execution_count": 19,
   "id": "c76a66af-6653-48b3-b03c-4a57366c0bfa",
   "metadata": {
    "scrolled": true
   },
   "outputs": [],
   "source": [
    "oaccruals_at_cat = data_final['oaccruals_at'].groupby(level=1).apply(\n",
    "    pd.qcut,\n",
    "    5,\n",
    "    labels=[\"Q1\",\"Q2\",\"Q3\",\"Q4\",\"Q5\"]\n",
    ")\n",
    "oaccruals_at_dummy = pd.get_dummies(oaccruals_at_cat)"
   ]
  },
  {
   "cell_type": "code",
   "execution_count": 20,
   "id": "596e0b62-0924-4f8e-a80a-1d3877a77a78",
   "metadata": {},
   "outputs": [
    {
     "data": {
      "text/html": [
       "<div>\n",
       "<style scoped>\n",
       "    .dataframe tbody tr th:only-of-type {\n",
       "        vertical-align: middle;\n",
       "    }\n",
       "\n",
       "    .dataframe tbody tr th {\n",
       "        vertical-align: top;\n",
       "    }\n",
       "\n",
       "    .dataframe thead th {\n",
       "        text-align: right;\n",
       "    }\n",
       "</style>\n",
       "<table border=\"1\" class=\"dataframe\">\n",
       "  <thead>\n",
       "    <tr style=\"text-align: right;\">\n",
       "      <th></th>\n",
       "      <th></th>\n",
       "      <th>Q1</th>\n",
       "      <th>Q2</th>\n",
       "      <th>Q3</th>\n",
       "      <th>Q4</th>\n",
       "      <th>Q5</th>\n",
       "    </tr>\n",
       "    <tr>\n",
       "      <th>eom</th>\n",
       "      <th>id</th>\n",
       "      <th></th>\n",
       "      <th></th>\n",
       "      <th></th>\n",
       "      <th></th>\n",
       "      <th></th>\n",
       "    </tr>\n",
       "  </thead>\n",
       "  <tbody>\n",
       "    <tr>\n",
       "      <th rowspan=\"5\" valign=\"top\">1990-01-31</th>\n",
       "      <th>16424.0</th>\n",
       "      <td>False</td>\n",
       "      <td>False</td>\n",
       "      <td>False</td>\n",
       "      <td>False</td>\n",
       "      <td>True</td>\n",
       "    </tr>\n",
       "    <tr>\n",
       "      <th>16432.0</th>\n",
       "      <td>False</td>\n",
       "      <td>False</td>\n",
       "      <td>False</td>\n",
       "      <td>True</td>\n",
       "      <td>False</td>\n",
       "    </tr>\n",
       "    <tr>\n",
       "      <th>16460.0</th>\n",
       "      <td>False</td>\n",
       "      <td>False</td>\n",
       "      <td>False</td>\n",
       "      <td>False</td>\n",
       "      <td>True</td>\n",
       "    </tr>\n",
       "    <tr>\n",
       "      <th>16505.0</th>\n",
       "      <td>False</td>\n",
       "      <td>False</td>\n",
       "      <td>True</td>\n",
       "      <td>False</td>\n",
       "      <td>False</td>\n",
       "    </tr>\n",
       "    <tr>\n",
       "      <th>16513.0</th>\n",
       "      <td>False</td>\n",
       "      <td>False</td>\n",
       "      <td>True</td>\n",
       "      <td>False</td>\n",
       "      <td>False</td>\n",
       "    </tr>\n",
       "  </tbody>\n",
       "</table>\n",
       "</div>"
      ],
      "text/plain": [
       "                       Q1     Q2     Q3     Q4     Q5\n",
       "eom        id                                        \n",
       "1990-01-31 16424.0  False  False  False  False   True\n",
       "           16432.0  False  False  False   True  False\n",
       "           16460.0  False  False  False  False   True\n",
       "           16505.0  False  False   True  False  False\n",
       "           16513.0  False  False   True  False  False"
      ]
     },
     "execution_count": 20,
     "metadata": {},
     "output_type": "execute_result"
    }
   ],
   "source": [
    "oaccruals_at_dummy.index.names = ['eom', 'id', 'eom2']\n",
    "oaccruals_at_dummy = oaccruals_at_dummy.reset_index().drop(\n",
    "    ['eom2'],\n",
    "    axis=1\n",
    ").set_index(['eom', 'id'])\n",
    "oaccruals_at_dummy.head()"
   ]
  },
  {
   "cell_type": "markdown",
   "id": "264cc471-dbc6-4bd8-a335-a22a59f285eb",
   "metadata": {},
   "source": [
    "### Q2.2 ($10\\%$)\n",
    "\n",
    "In this question, you need to first merge ```D_full[['ret_exc_lead1m', 'me']]``` with ```oaccruals_at_dummy```. The resultant DataFrame is named as ```D_subset3```. Next, you group the stocks into five groups based on the dummy matrix and compute the average returns in five groups. That is to say, you will need to report the average returns for groups 'Q1' -- 'Q5'. Finally, you need to make a bar plot of average returns in five groups. Is the bar plot consistent with the accruals phenomenon as described at the beginning of this question? "
   ]
  },
  {
   "cell_type": "markdown",
   "id": "0a92d13b-31c9-4869-9966-b31cacc99ea7",
   "metadata": {},
   "source": [
    "#### Answer:"
   ]
  },
  {
   "cell_type": "code",
   "execution_count": 21,
   "id": "f04ef1a1-69a5-40b7-a2b2-ea9334ae48ab",
   "metadata": {},
   "outputs": [],
   "source": [
    "D_subset3 = D_full[['ret_exc_lead1m', 'me']].join(oaccruals_at_dummy)\n",
    "accruals_portfolios = pd.Series(np.zeros(5))\n",
    "\n",
    "for i in range(5):\n",
    "    accruals_portfolios.iloc[i] = D_subset3.loc[\n",
    "        D_subset3['Q'+str(i+1)]==1, \n",
    "        'ret_exc_lead1m'\n",
    "    ].mean()\n",
    "    \n",
    "accruals_portfolios.index = ['Q1', 'Q2', 'Q3', 'Q4', 'Q5']"
   ]
  },
  {
   "cell_type": "code",
   "execution_count": 22,
   "id": "cfcf720e-59ec-4617-ab31-8a22454a0056",
   "metadata": {},
   "outputs": [
    {
     "data": {
      "text/plain": [
       "<Axes: >"
      ]
     },
     "execution_count": 22,
     "metadata": {},
     "output_type": "execute_result"
    },
    {
     "data": {
      "image/png": "[encoded data removed]",
      "text/plain": [
       "<Figure size 800x400 with 1 Axes>"
      ]
     },
     "metadata": {},
     "output_type": "display_data"
    }
   ],
   "source": [
    "import matplotlib.pyplot as plt\n",
    "fig, axes = plt.subplots(1, 1)\n",
    "accruals_portfolios.plot.barh(alpha=0.7)"
   ]
  },
  {
   "cell_type": "markdown",
   "id": "bb9bebc5-6a12-43e2-93b8-426526cee96a",
   "metadata": {},
   "source": [
    "### Q2.3 ($10\\%$)\n",
    "\n",
    "In Q2.2, you create the so-called equally weighted portfolios. In other words, the stocks in each group (Q1 -- Q5) have the same portfolio weights. However, the value-weighted portfolios are more common in reality. \n",
    "\n",
    "Suppose that we use $\\text{ME}_{it}$ to denote the market capitalization of firm $i$ at time $t$. The value-weighted portfolio return in the group $j$ is <br>\n",
    "<br>\n",
    "$$\n",
    "R^{vw}_{j,t+1} = \\frac{\\sum^{N_{jt}}_{i = 1} \\text{ME}_{it} R_{i,t+1}}{\\sum^{N_{jt}}_{i = 1} \\text{ME}_{it}}, \n",
    "$$\n",
    "where $N_{jt}$ is the number of firms in the $j$-th group at time $t$. \n",
    "\n",
    "In this question, you need to compute the value-weighted portfolio returns for the five groups of stocks sorted by the accruals signal. Finally, you need to make a bar plot of average returns in five groups, as in Q2.2. What are the differences in the five accruals portfolios between Q2.2 and Q2.3? "
   ]
  },
  {
   "cell_type": "code",
   "execution_count": 23,
   "id": "e0a0a0e5-625c-42d9-88fd-020cf9437c42",
   "metadata": {},
   "outputs": [
    {
     "data": {
      "text/html": [
       "<div>\n",
       "<style scoped>\n",
       "    .dataframe tbody tr th:only-of-type {\n",
       "        vertical-align: middle;\n",
       "    }\n",
       "\n",
       "    .dataframe tbody tr th {\n",
       "        vertical-align: top;\n",
       "    }\n",
       "\n",
       "    .dataframe thead th {\n",
       "        text-align: right;\n",
       "    }\n",
       "</style>\n",
       "<table border=\"1\" class=\"dataframe\">\n",
       "  <thead>\n",
       "    <tr style=\"text-align: right;\">\n",
       "      <th></th>\n",
       "      <th></th>\n",
       "      <th>ret_exc_lead1m</th>\n",
       "      <th>me</th>\n",
       "      <th>Q1</th>\n",
       "      <th>Q2</th>\n",
       "      <th>Q3</th>\n",
       "      <th>Q4</th>\n",
       "      <th>Q5</th>\n",
       "    </tr>\n",
       "    <tr>\n",
       "      <th>id</th>\n",
       "      <th>eom</th>\n",
       "      <th></th>\n",
       "      <th></th>\n",
       "      <th></th>\n",
       "      <th></th>\n",
       "      <th></th>\n",
       "      <th></th>\n",
       "      <th></th>\n",
       "    </tr>\n",
       "  </thead>\n",
       "  <tbody>\n",
       "    <tr>\n",
       "      <th rowspan=\"5\" valign=\"top\">16424.0</th>\n",
       "      <th>1980-01-31</th>\n",
       "      <td>-0.162615</td>\n",
       "      <td>769.360500</td>\n",
       "      <td>NaN</td>\n",
       "      <td>NaN</td>\n",
       "      <td>NaN</td>\n",
       "      <td>NaN</td>\n",
       "      <td>NaN</td>\n",
       "    </tr>\n",
       "    <tr>\n",
       "      <th>1980-02-29</th>\n",
       "      <td>-0.075593</td>\n",
       "      <td>652.447875</td>\n",
       "      <td>NaN</td>\n",
       "      <td>NaN</td>\n",
       "      <td>NaN</td>\n",
       "      <td>NaN</td>\n",
       "      <td>NaN</td>\n",
       "    </tr>\n",
       "    <tr>\n",
       "      <th>1980-03-31</th>\n",
       "      <td>0.113308</td>\n",
       "      <td>610.962750</td>\n",
       "      <td>NaN</td>\n",
       "      <td>NaN</td>\n",
       "      <td>NaN</td>\n",
       "      <td>NaN</td>\n",
       "      <td>NaN</td>\n",
       "    </tr>\n",
       "    <tr>\n",
       "      <th>1980-04-30</th>\n",
       "      <td>0.064743</td>\n",
       "      <td>675.076125</td>\n",
       "      <td>NaN</td>\n",
       "      <td>NaN</td>\n",
       "      <td>NaN</td>\n",
       "      <td>NaN</td>\n",
       "      <td>NaN</td>\n",
       "    </tr>\n",
       "    <tr>\n",
       "      <th>1980-05-31</th>\n",
       "      <td>0.014521</td>\n",
       "      <td>724.104000</td>\n",
       "      <td>NaN</td>\n",
       "      <td>NaN</td>\n",
       "      <td>NaN</td>\n",
       "      <td>NaN</td>\n",
       "      <td>NaN</td>\n",
       "    </tr>\n",
       "    <tr>\n",
       "      <th>...</th>\n",
       "      <th>...</th>\n",
       "      <td>...</td>\n",
       "      <td>...</td>\n",
       "      <td>...</td>\n",
       "      <td>...</td>\n",
       "      <td>...</td>\n",
       "      <td>...</td>\n",
       "      <td>...</td>\n",
       "    </tr>\n",
       "    <tr>\n",
       "      <th rowspan=\"5\" valign=\"top\">90963.0</th>\n",
       "      <th>2014-11-30</th>\n",
       "      <td>0.042931</td>\n",
       "      <td>784.730844</td>\n",
       "      <td>False</td>\n",
       "      <td>True</td>\n",
       "      <td>False</td>\n",
       "      <td>False</td>\n",
       "      <td>False</td>\n",
       "    </tr>\n",
       "    <tr>\n",
       "      <th>2014-12-31</th>\n",
       "      <td>-0.039201</td>\n",
       "      <td>800.519292</td>\n",
       "      <td>False</td>\n",
       "      <td>True</td>\n",
       "      <td>False</td>\n",
       "      <td>False</td>\n",
       "      <td>False</td>\n",
       "    </tr>\n",
       "    <tr>\n",
       "      <th>2015-01-31</th>\n",
       "      <td>0.020660</td>\n",
       "      <td>769.148614</td>\n",
       "      <td>False</td>\n",
       "      <td>True</td>\n",
       "      <td>False</td>\n",
       "      <td>False</td>\n",
       "      <td>False</td>\n",
       "    </tr>\n",
       "    <tr>\n",
       "      <th>2015-02-28</th>\n",
       "      <td>0.117004</td>\n",
       "      <td>785.936817</td>\n",
       "      <td>False</td>\n",
       "      <td>True</td>\n",
       "      <td>False</td>\n",
       "      <td>False</td>\n",
       "      <td>False</td>\n",
       "    </tr>\n",
       "    <tr>\n",
       "      <th>2015-03-31</th>\n",
       "      <td>-0.022948</td>\n",
       "      <td>877.778750</td>\n",
       "      <td>False</td>\n",
       "      <td>True</td>\n",
       "      <td>False</td>\n",
       "      <td>False</td>\n",
       "      <td>False</td>\n",
       "    </tr>\n",
       "  </tbody>\n",
       "</table>\n",
       "<p>1643779 rows × 7 columns</p>\n",
       "</div>"
      ],
      "text/plain": [
       "                    ret_exc_lead1m          me     Q1    Q2     Q3     Q4  \\\n",
       "id      eom                                                                 \n",
       "16424.0 1980-01-31       -0.162615  769.360500    NaN   NaN    NaN    NaN   \n",
       "        1980-02-29       -0.075593  652.447875    NaN   NaN    NaN    NaN   \n",
       "        1980-03-31        0.113308  610.962750    NaN   NaN    NaN    NaN   \n",
       "        1980-04-30        0.064743  675.076125    NaN   NaN    NaN    NaN   \n",
       "        1980-05-31        0.014521  724.104000    NaN   NaN    NaN    NaN   \n",
       "...                            ...         ...    ...   ...    ...    ...   \n",
       "90963.0 2014-11-30        0.042931  784.730844  False  True  False  False   \n",
       "        2014-12-31       -0.039201  800.519292  False  True  False  False   \n",
       "        2015-01-31        0.020660  769.148614  False  True  False  False   \n",
       "        2015-02-28        0.117004  785.936817  False  True  False  False   \n",
       "        2015-03-31       -0.022948  877.778750  False  True  False  False   \n",
       "\n",
       "                       Q5  \n",
       "id      eom                \n",
       "16424.0 1980-01-31    NaN  \n",
       "        1980-02-29    NaN  \n",
       "        1980-03-31    NaN  \n",
       "        1980-04-30    NaN  \n",
       "        1980-05-31    NaN  \n",
       "...                   ...  \n",
       "90963.0 2014-11-30  False  \n",
       "        2014-12-31  False  \n",
       "        2015-01-31  False  \n",
       "        2015-02-28  False  \n",
       "        2015-03-31  False  \n",
       "\n",
       "[1643779 rows x 7 columns]"
      ]
     },
     "execution_count": 23,
     "metadata": {},
     "output_type": "execute_result"
    }
   ],
   "source": [
    "D_subset3 "
   ]
  },
  {
   "cell_type": "markdown",
   "id": "bfeb698d-411b-465e-94db-a8202f4692d1",
   "metadata": {},
   "source": [
    "#### Answer:"
   ]
  },
  {
   "cell_type": "code",
   "execution_count": 24,
   "id": "edcd1613-cbd4-4622-b66b-e26c4bdbbfce",
   "metadata": {},
   "outputs": [],
   "source": [
    "def get_port_vw(g):\n",
    "    return np.average(\n",
    "        a=g.ret_exc_lead1m, \n",
    "        weights=g.me\n",
    "    )"
   ]
  },
  {
   "cell_type": "code",
   "execution_count": 25,
   "id": "9690908f-ce55-4ac4-82a6-709f661212e1",
   "metadata": {},
   "outputs": [
    {
     "data": {
      "text/plain": [
       "Q1    0.009094\n",
       "Q2    0.008455\n",
       "Q3    0.007857\n",
       "Q4    0.006254\n",
       "Q5    0.004782\n",
       "dtype: float64"
      ]
     },
     "execution_count": 25,
     "metadata": {},
     "output_type": "execute_result"
    }
   ],
   "source": [
    "accruals_portfolios = pd.Series(np.zeros(5))\n",
    "\n",
    "for i in range(5):\n",
    "    accruals_portfolios.iloc[i] = D_subset3.loc[\n",
    "        D_subset3['Q'+str(i+1)]==1,\n",
    "        [\"ret_exc_lead1m\", \"me\"]\n",
    "    ].groupby(level=1).apply(get_port_vw).mean()\n",
    "\n",
    "accruals_portfolios.index = ['Q1', 'Q2', 'Q3', 'Q4', 'Q5']\n",
    "\n",
    "accruals_portfolios"
   ]
  },
  {
   "cell_type": "code",
   "execution_count": 26,
   "id": "cb0bfb09-b355-4bd5-8184-07b27097336c",
   "metadata": {},
   "outputs": [
    {
     "data": {
      "text/plain": [
       "eom\n",
       "1990-01-31    0.024781\n",
       "1990-02-28    0.010788\n",
       "1990-03-31   -0.050142\n",
       "1990-04-30    0.082757\n",
       "1990-05-31   -0.024798\n",
       "                ...   \n",
       "2021-08-31   -0.027763\n",
       "2021-09-30    0.082634\n",
       "2021-10-31   -0.022942\n",
       "2021-11-30    0.009573\n",
       "2021-12-31   -0.076864\n",
       "Length: 384, dtype: float64"
      ]
     },
     "execution_count": 26,
     "metadata": {},
     "output_type": "execute_result"
    }
   ],
   "source": [
    "D_subset3.loc[D_subset3['Q'+str(1)]==1,\n",
    "        [\"ret_exc_lead1m\", \"me\"]\n",
    "    ].groupby(level=1).apply(get_port_vw)"
   ]
  },
  {
   "cell_type": "code",
   "execution_count": 27,
   "id": "be1f1971-62fd-4720-b184-d5d0cf0119d1",
   "metadata": {},
   "outputs": [
    {
     "data": {
      "text/plain": [
       "<Axes: >"
      ]
     },
     "execution_count": 27,
     "metadata": {},
     "output_type": "execute_result"
    },
    {
     "data": {
      "image/png": "[encoded data removed]",
      "text/plain": [
       "<Figure size 800x400 with 1 Axes>"
      ]
     },
     "metadata": {},
     "output_type": "display_data"
    }
   ],
   "source": [
    "import matplotlib.pyplot as plt\n",
    "fig, axes = plt.subplots(1, 1)\n",
    "accruals_portfolios.plot.barh(alpha=0.7)"
   ]
  },
  {
   "cell_type": "markdown",
   "id": "d677e94e-208a-40c0-917c-5f634de4632e",
   "metadata": {},
   "source": [
    "---"
   ]
  },
  {
   "cell_type": "markdown",
   "id": "ee35624d-a03d-493d-a286-a0a3f71c3fdd",
   "metadata": {},
   "source": [
    "## Q3. *\"Alpha\"* of Accruals Anomaly based on Fama-French Three Factor Models"
   ]
  },
  {
   "cell_type": "markdown",
   "id": "6ad2b73d-ced3-49d9-ab54-35a92598e513",
   "metadata": {},
   "source": [
    "During the lecture, we introduced how to use the ```statmodels``` package to test the Capital Asset Pricing Model (CAPM). In fact, the Fama-French three-factor model has been one of the most popular factor pricing models in the past 30 years. In this question, you will explore whether the three-factor model is able to explain the accruals anomaly that we consider in Q2. \n",
    "\n",
    "The baseline model is that the required return of an asset should be determined by the systematic risks (betas) as follows: \n",
    "$$\n",
    "\\mathbf{E} [ R_i ] - R_f = \\beta^{mkt}_i \\big( \\mathbf{E} [ R_m ] - R_f \\big) + \\beta^{smb}_i \\mathbf{E} [ R_{smb} ]  + \\beta^{hml}_i \\mathbf{E} [ R_{hml} ], \n",
    "$$\n",
    " * $\\mathbf{E} [ R_i ]$: the expected/required return of the asset $i$\n",
    " * $R_f$: the risk-free rate\n",
    " * $\\mathbf{E} [ R_m ]$: the expected/required return of the market portfolio ($m$ is the abbreviation for market)\n",
    " * $\\mathbf{E} [ R_{smb} ]$: the expected/required return of the SMB portfolio\n",
    " * $\\mathbf{E} [ R_{hml} ]$: the expected/required return of the HML portfolio\n",
    " * $\\beta^{mkt}_i$, $\\beta^{smb}_i$, and $\\beta^{hml}_i$: the beta, or the sensitivity of the expected excess return to the expected excess market, SMB, and HML returns\n",
    " \n",
    "Please note that SMB and HML portfolios are excess returns by construction, so you do not need to substract the risk-free rate from $R_{smb}$ and $R_{hml}$."
   ]
  },
  {
   "cell_type": "markdown",
   "id": "8c96694c-6c77-4db3-92ec-2115c0502dde",
   "metadata": {},
   "source": [
    "We estimate the above model via the simple OLS regression:   <br>\n",
    "<br>\n",
    "$$\n",
    "R_{it} - R_{ft} = \\alpha_i + \\beta^{mkt}_i \\big( R_{mt} - R_{ft} \\big) + \\beta^{smb}_i R_{smb,t} + \\beta^{hml}_i R_{hml,t} + \\epsilon_{it}, \n",
    "$$\n",
    "* $R_{it}$, $R_{mt}$, $R_{smb,t}$, $R_{hml,t}$, and $R_{ft}$: the time-$t$ return of asset $i$, the market portfolio, the SMB portfolio, the HML portfolio, and the risk-free asset\n",
    "* $\\epsilon_{it}$: the random error term\n",
    "* $\\alpha_i$ is called the pricing errors (***alpha***)"
   ]
  },
  {
   "cell_type": "markdown",
   "id": "f1288ba5-d220-4347-a590-82f8edd617f7",
   "metadata": {},
   "source": [
    "### Q3.1 ($8\\%$)\n",
    "\n",
    "First, you need to load the Fama-French three factors in ```week10_test_assets.xlsx```:\n",
    "- ```FF3_factors```: Fama-French three factors at the daily frequency (they are all daily excess returns)\n",
    "\n",
    "Second, you need to compute the **monthly excess returns** of the Fama-French three factors, following what we did in the lecture 10. In other words, you need to use the ```resample``` method to transform the daily excess returns into monthly excess returns. "
   ]
  },
  {
   "cell_type": "markdown",
   "id": "4b8339b7-aa58-441b-a9b5-8eb6b722a33c",
   "metadata": {},
   "source": [
    "#### Answer:"
   ]
  },
  {
   "cell_type": "code",
   "execution_count": 28,
   "id": "08dc5fa7-10f7-4eef-ac45-b033464e6b55",
   "metadata": {},
   "outputs": [],
   "source": [
    "factors_daily = pd.read_excel(\n",
    "    \"week10_test_assets.xlsx\", \n",
    "    sheet_name=\"FF3_factors\", \n",
    "    index_col=0\n",
    ")\n",
    "factors_daily.index = [str(x) for x in factors_daily.index]\n",
    "factors_daily.index = [parse(x) for x in factors_daily.index]"
   ]
  },
  {
   "cell_type": "code",
   "execution_count": 29,
   "id": "9c742f38-a2e1-4b54-ad21-5f6a71d11090",
   "metadata": {},
   "outputs": [],
   "source": [
    "FF3_daily = factors_daily[['Mkt-RF', 'SMB', 'HML']] / 100\n",
    "RF_daily = factors_daily[['RF']] / 100\n",
    "FF3_gross_daily = pd.DataFrame(\n",
    "    FF3_daily.values \n",
    "    + RF_daily.values @ np.ones((1,3)), \n",
    "    columns=[\"MKT\", 'SMB_gross', 'HML_gross']\n",
    ")\n",
    "FF3_gross_daily.index = FF3_daily.index\n",
    "\n",
    "FF3_gross_monthly = (1 + FF3_gross_daily).resample('ME').prod() - 1\n",
    "RF_monthly = (1 + RF_daily).resample('ME').prod() - 1\n",
    "\n",
    "FF3_monthly = pd.DataFrame(\n",
    "    FF3_gross_monthly.values \n",
    "    - RF_monthly.values @ np.ones((1,3)), \n",
    "    index=FF3_gross_monthly.index, \n",
    "    columns=['MKT_RF', 'SMB', 'HML']\n",
    ")"
   ]
  },
  {
   "cell_type": "code",
   "execution_count": 30,
   "id": "49438809-34a7-408f-b1fc-bbc2babed543",
   "metadata": {},
   "outputs": [
    {
     "data": {
      "text/html": [
       "<div>\n",
       "<style scoped>\n",
       "    .dataframe tbody tr th:only-of-type {\n",
       "        vertical-align: middle;\n",
       "    }\n",
       "\n",
       "    .dataframe tbody tr th {\n",
       "        vertical-align: top;\n",
       "    }\n",
       "\n",
       "    .dataframe thead th {\n",
       "        text-align: right;\n",
       "    }\n",
       "</style>\n",
       "<table border=\"1\" class=\"dataframe\">\n",
       "  <thead>\n",
       "    <tr style=\"text-align: right;\">\n",
       "      <th></th>\n",
       "      <th>MKT_RF</th>\n",
       "      <th>SMB</th>\n",
       "      <th>HML</th>\n",
       "    </tr>\n",
       "  </thead>\n",
       "  <tbody>\n",
       "    <tr>\n",
       "      <th>1963-07-31</th>\n",
       "      <td>-0.004037</td>\n",
       "      <td>-0.004630</td>\n",
       "      <td>-0.009818</td>\n",
       "    </tr>\n",
       "    <tr>\n",
       "      <th>1963-08-31</th>\n",
       "      <td>0.050919</td>\n",
       "      <td>-0.009818</td>\n",
       "      <td>0.016729</td>\n",
       "    </tr>\n",
       "    <tr>\n",
       "      <th>1963-09-30</th>\n",
       "      <td>-0.015770</td>\n",
       "      <td>-0.002970</td>\n",
       "      <td>0.000064</td>\n",
       "    </tr>\n",
       "    <tr>\n",
       "      <th>1963-10-31</th>\n",
       "      <td>0.025173</td>\n",
       "      <td>-0.006278</td>\n",
       "      <td>0.000175</td>\n",
       "    </tr>\n",
       "    <tr>\n",
       "      <th>1963-11-30</th>\n",
       "      <td>-0.008503</td>\n",
       "      <td>-0.012640</td>\n",
       "      <td>0.018532</td>\n",
       "    </tr>\n",
       "    <tr>\n",
       "      <th>...</th>\n",
       "      <td>...</td>\n",
       "      <td>...</td>\n",
       "      <td>...</td>\n",
       "    </tr>\n",
       "    <tr>\n",
       "      <th>2023-02-28</th>\n",
       "      <td>-0.025902</td>\n",
       "      <td>0.011906</td>\n",
       "      <td>-0.010134</td>\n",
       "    </tr>\n",
       "    <tr>\n",
       "      <th>2023-03-31</th>\n",
       "      <td>0.024617</td>\n",
       "      <td>-0.053021</td>\n",
       "      <td>-0.087412</td>\n",
       "    </tr>\n",
       "    <tr>\n",
       "      <th>2023-04-30</th>\n",
       "      <td>0.006193</td>\n",
       "      <td>-0.032750</td>\n",
       "      <td>-0.001070</td>\n",
       "    </tr>\n",
       "    <tr>\n",
       "      <th>2023-05-31</th>\n",
       "      <td>0.003500</td>\n",
       "      <td>0.016764</td>\n",
       "      <td>-0.076295</td>\n",
       "    </tr>\n",
       "    <tr>\n",
       "      <th>2023-06-30</th>\n",
       "      <td>0.064633</td>\n",
       "      <td>0.014539</td>\n",
       "      <td>-0.001404</td>\n",
       "    </tr>\n",
       "  </tbody>\n",
       "</table>\n",
       "<p>720 rows × 3 columns</p>\n",
       "</div>"
      ],
      "text/plain": [
       "              MKT_RF       SMB       HML\n",
       "1963-07-31 -0.004037 -0.004630 -0.009818\n",
       "1963-08-31  0.050919 -0.009818  0.016729\n",
       "1963-09-30 -0.015770 -0.002970  0.000064\n",
       "1963-10-31  0.025173 -0.006278  0.000175\n",
       "1963-11-30 -0.008503 -0.012640  0.018532\n",
       "...              ...       ...       ...\n",
       "2023-02-28 -0.025902  0.011906 -0.010134\n",
       "2023-03-31  0.024617 -0.053021 -0.087412\n",
       "2023-04-30  0.006193 -0.032750 -0.001070\n",
       "2023-05-31  0.003500  0.016764 -0.076295\n",
       "2023-06-30  0.064633  0.014539 -0.001404\n",
       "\n",
       "[720 rows x 3 columns]"
      ]
     },
     "execution_count": 30,
     "metadata": {},
     "output_type": "execute_result"
    }
   ],
   "source": [
    "FF3_monthly"
   ]
  },
  {
   "cell_type": "markdown",
   "id": "80120299-8f0c-4ba5-afd3-11503e760709",
   "metadata": {},
   "source": [
    "### Q3.2 ($8\\%$)\n",
    "\n",
    "Second, you need to construct the accruals (value-weighted) anomaly based on your answer in Q2.3. After you obtain the value-weighted portfolio returns in groups Q1 and Q5 (denoted as ```port_ret_Q1``` and ```port_ret_Q5```), you long the Q1 portfolio and short the Q5 portfolio, as follows:\n",
    "```python\n",
    "port_ret_ls = port_ret_Q1 - port_ret_Q5\n",
    "```\n",
    "```port_ret_ls``` is the accruals anomaly. Since this is a long-short portfolio, it has zero cost and is naturally an excess return. \n",
    "\n",
    "Now, you need to answer the following questions:\n",
    "* What is the annualized mean excess return of the accruals anomaly ```port_ret_ls```?\n",
    "* Can you compute the average annualized returns of the accruals anomaly ```port_ret_ls``` using a rolling-window of 120 months? That is, in month $t$, you need to use the data between month $t-119$ and $t$ to compute the mean return. Finally, you need to make a time-series plot of the rolling-window estimates of the average returns. "
   ]
  },
  {
   "cell_type": "markdown",
   "id": "2a9ac5a8-876c-410b-9a6c-4d7232b5c262",
   "metadata": {},
   "source": [
    "#### Answer:"
   ]
  },
  {
   "cell_type": "code",
   "execution_count": 31,
   "id": "6c49315d-31cf-4f6c-b80a-0365ac91a0ee",
   "metadata": {},
   "outputs": [],
   "source": [
    "def get_port_vw(g):\n",
    "    return np.average(\n",
    "        a=g.ret_exc_lead1m, \n",
    "        weights=g.me\n",
    "    )"
   ]
  },
  {
   "cell_type": "code",
   "execution_count": 32,
   "id": "a0cd7f02-b188-4294-96df-de68f300d568",
   "metadata": {},
   "outputs": [
    {
     "name": "stdout",
     "output_type": "stream",
     "text": [
      "Annualized mean excess return of the accruals anomaly: 0.05173556345525274\n"
     ]
    }
   ],
   "source": [
    "port_ret_Q1 = D_subset3.loc[\n",
    "    D_subset3['Q1']==1,\n",
    "    [\"ret_exc_lead1m\", \"me\"]\n",
    "].groupby(level=1).apply(get_port_vw)\n",
    "\n",
    "port_ret_Q5 = D_subset3.loc[\n",
    "    D_subset3['Q5']==1,\n",
    "    [\"ret_exc_lead1m\", \"me\"]\n",
    "].groupby(level=1).apply(get_port_vw)\n",
    "\n",
    "port_ret_ls = port_ret_Q1 - port_ret_Q5\n",
    "print('Annualized mean excess return of the accruals anomaly:', \n",
    "      port_ret_ls.mean() * 12)"
   ]
  },
  {
   "cell_type": "code",
   "execution_count": 33,
   "id": "680b8637-37fc-477a-b7be-5d9f7571ccaf",
   "metadata": {},
   "outputs": [
    {
     "data": {
      "text/plain": [
       "<Axes: xlabel='eom'>"
      ]
     },
     "execution_count": 33,
     "metadata": {},
     "output_type": "execute_result"
    },
    {
     "data": {
      "image/png": "[encoded data removed]",
      "text/plain": [
       "<Figure size 800x400 with 1 Axes>"
      ]
     },
     "metadata": {},
     "output_type": "display_data"
    }
   ],
   "source": [
    "mean_ret_rolling = (12 * port_ret_ls).rolling(\n",
    "    120, \n",
    "    min_periods=120\n",
    ").mean()\n",
    "\n",
    "mean_ret_rolling.dropna().plot()"
   ]
  },
  {
   "cell_type": "markdown",
   "id": "a9672dc6-a200-413a-80cc-13a67aeda5d0",
   "metadata": {},
   "source": [
    "### Q3.3 ($8\\%$)\n",
    "\n",
    "In this question, you are required to run the OLS regressions for the accrual anomaly portfolio. You need to regress ```port_ret_ls``` on the monthly Fama-French three factors obtained in Q3.1. \n",
    "\n",
    "You need to print the following results:\n",
    "- ```alpha``` ($\\alpha_i$ in the above equation);\n",
    "- ```beta``` ($\\beta_i^{mkt}$, $\\beta_i^{smb}$, $\\beta_i^{hml}$);\n",
    "- The $95\\%$ confidence intervals of ```alpha``` and ```beta```.\n",
    "\n",
    "Can the Fama-French three factors explain the accruals anomaly?"
   ]
  },
  {
   "cell_type": "markdown",
   "id": "ac5dddab-1b02-4a4a-849c-c3b0290a4538",
   "metadata": {},
   "source": [
    "#### Answer:"
   ]
  },
  {
   "cell_type": "code",
   "execution_count": 34,
   "id": "98708189-7295-4a4c-a1b5-215f92c278f7",
   "metadata": {},
   "outputs": [],
   "source": [
    "port_ret_ls_df = pd.merge(\n",
    "    pd.DataFrame(port_ret_ls), \n",
    "    FF3_monthly, \n",
    "    how='inner',\n",
    "    left_index=True, \n",
    "    right_index=True\n",
    ")\n",
    "port_ret_ls_df.columns = ['Accruals', 'MKT_RF', 'SMB', 'HML']"
   ]
  },
  {
   "cell_type": "code",
   "execution_count": 35,
   "id": "48667368-913b-4650-abdb-5c235878fbf7",
   "metadata": {},
   "outputs": [
    {
     "data": {
      "text/plain": [
       "Accruals    0.051736\n",
       "MKT_RF      0.090025\n",
       "SMB         0.010206\n",
       "HML         0.015436\n",
       "dtype: float64"
      ]
     },
     "execution_count": 35,
     "metadata": {},
     "output_type": "execute_result"
    }
   ],
   "source": [
    "port_ret_ls_df.mean() * 12"
   ]
  },
  {
   "cell_type": "code",
   "execution_count": 36,
   "id": "bc5f3cff-e41f-4ee2-b640-ddfff5717f58",
   "metadata": {},
   "outputs": [
    {
     "name": "stdout",
     "output_type": "stream",
     "text": [
      "                            OLS Regression Results                            \n",
      "==============================================================================\n",
      "Dep. Variable:                      y   R-squared:                       0.030\n",
      "Model:                            OLS   Adj. R-squared:                  0.022\n",
      "Method:                 Least Squares   F-statistic:                     3.862\n",
      "Date:                Sat, 07 Dec 2024   Prob (F-statistic):            0.00963\n",
      "Time:                        15:30:20   Log-Likelihood:                 805.54\n",
      "No. Observations:                 384   AIC:                            -1603.\n",
      "Df Residuals:                     380   BIC:                            -1587.\n",
      "Df Model:                           3                                         \n",
      "Covariance Type:            nonrobust                                         \n",
      "==============================================================================\n",
      "                 coef    std err          t      P>|t|      [0.025      0.975]\n",
      "------------------------------------------------------------------------------\n",
      "const          0.0049      0.002      3.133      0.002       0.002       0.008\n",
      "x1            -0.0414      0.036     -1.143      0.254      -0.113       0.030\n",
      "x2            -0.0267      0.051     -0.525      0.600      -0.126       0.073\n",
      "x3            -0.1606      0.049     -3.262      0.001      -0.257      -0.064\n",
      "==============================================================================\n",
      "Omnibus:                       15.811   Durbin-Watson:                   1.982\n",
      "Prob(Omnibus):                  0.000   Jarque-Bera (JB):               38.195\n",
      "Skew:                           0.002   Prob(JB):                     5.08e-09\n",
      "Kurtosis:                       4.545   Cond. No.                         35.9\n",
      "==============================================================================\n",
      "\n",
      "Notes:\n",
      "[1] Standard Errors assume that the covariance matrix of the errors is correctly specified.\n"
     ]
    }
   ],
   "source": [
    "model = sm.OLS(\n",
    "    port_ret_ls_df.iloc[:,0:1].values, \n",
    "    sm.add_constant(\n",
    "        port_ret_ls_df.iloc[:,1:4].values\n",
    "    )\n",
    ")\n",
    "results = model.fit()\n",
    "print(results.summary())\n",
    "\n",
    "### Since the alpha (const) is significantly positive, the accruals anomaly cannot be explained by the Fama-French three factors."
   ]
  },
  {
   "cell_type": "code",
   "execution_count": 37,
   "id": "f015dfcf-a855-4433-90c3-7b306dd9e411",
   "metadata": {},
   "outputs": [
    {
     "data": {
      "text/plain": [
       "array([0.0018, 0.0079])"
      ]
     },
     "execution_count": 37,
     "metadata": {},
     "output_type": "execute_result"
    }
   ],
   "source": [
    "results.conf_int()[0,:]"
   ]
  },
  {
   "cell_type": "code",
   "execution_count": 38,
   "id": "2128e09c-7ebd-4430-8c37-c417d1b35b8a",
   "metadata": {},
   "outputs": [],
   "source": [
    "#port_ret_ls_df.rolling(120).apply(reg_ff3)"
   ]
  },
  {
   "cell_type": "markdown",
   "id": "ed2a6f21-3747-419a-b8ad-7005659ceef0",
   "metadata": {},
   "source": [
    "### Q3.4 ($16\\%$)\n",
    "\n",
    "In this question, you need to obtain the rolling-window estimates of the alphas of the accruals anomaly in the Fama-French three-factor model. In particular, for each month $t$, you need to use the data between months $t-119$ and $t$ to estimate the OLS regression as in Q3.3. Next, you obtain the point estimate of $\\alpha_{it}$ in each month $t$ using a rolling window of 120 months in the OLS regressions. \n",
    "\n",
    "Finally, you need to make a time-series plot of the estimates of alphas. According to the plot that you make, do you observe that the alphas increase or decline over time? Do you have any potential explanations for this phenomenon?"
   ]
  },
  {
   "cell_type": "markdown",
   "id": "fb2377ce-c968-4d13-9dc3-8b0067443fd5",
   "metadata": {},
   "source": [
    "#### Answer:"
   ]
  },
  {
   "cell_type": "code",
   "execution_count": 39,
   "id": "f3aeb358-25ec-46d2-a83f-35072d27e58a",
   "metadata": {},
   "outputs": [],
   "source": [
    "def reg_ff3(data_df):\n",
    "    model = sm.OLS(\n",
    "        data_df.iloc[:,0:1].values, \n",
    "        sm.add_constant(data_df.iloc[:,1:4].values)\n",
    "    )\n",
    "    results = model.fit()\n",
    "    return results.params[0]"
   ]
  },
  {
   "cell_type": "code",
   "execution_count": 40,
   "id": "0f5585b3-56cb-4f3a-a993-2f804f2b160e",
   "metadata": {},
   "outputs": [],
   "source": [
    "alpha_seq = []\n",
    "alpha_95CI_seq = []\n",
    "rolling_window_len = 120\n",
    "\n",
    "for data_df in port_ret_ls_df.rolling(rolling_window_len):\n",
    "    #print(data_df.shape)\n",
    "    #print(type(data_df))\n",
    "    if data_df.shape[0] >= rolling_window_len:\n",
    "        alpha_t = reg_ff3(data_df)\n",
    "        alpha_seq.append(alpha_t)\n",
    "    else:\n",
    "        alpha_seq.append(np.nan) "
   ]
  },
  {
   "cell_type": "code",
   "execution_count": 41,
   "id": "532200d9-ccc8-4347-8c84-2361f42e0470",
   "metadata": {},
   "outputs": [
    {
     "data": {
      "text/plain": [
       "1990-01-31         NaN\n",
       "1990-02-28         NaN\n",
       "1990-03-31         NaN\n",
       "1990-04-30         NaN\n",
       "1990-05-31         NaN\n",
       "                ...   \n",
       "2021-08-31    0.003775\n",
       "2021-09-30    0.004049\n",
       "2021-10-31    0.004117\n",
       "2021-11-30    0.003991\n",
       "2021-12-31    0.003786\n",
       "Length: 384, dtype: float64"
      ]
     },
     "execution_count": 41,
     "metadata": {},
     "output_type": "execute_result"
    }
   ],
   "source": [
    "alpha_series = pd.Series(\n",
    "    alpha_seq, \n",
    "    index=port_ret_ls_df.index\n",
    ")\n",
    "alpha_series"
   ]
  },
  {
   "cell_type": "code",
   "execution_count": 42,
   "id": "c3186c22-dafb-41f1-b81e-b0a02cc81c36",
   "metadata": {},
   "outputs": [
    {
     "data": {
      "text/plain": [
       "<Axes: >"
      ]
     },
     "execution_count": 42,
     "metadata": {},
     "output_type": "execute_result"
    },
    {
     "data": {
      "image/png": "[encoded data removed]",
      "text/plain": [
       "<Figure size 800x400 with 1 Axes>"
      ]
     },
     "metadata": {},
     "output_type": "display_data"
    }
   ],
   "source": [
    "(12 * alpha_series).dropna().plot()"
   ]
  },
  {
   "cell_type": "markdown",
   "id": "9dcce8d6-5954-407c-9346-7cb8362b8a16",
   "metadata": {},
   "source": [
    "Over time, we observe that the alphas of the accrual anomaly tend to decline. For example, the annualized alpha was about $15\\%$ in the late 1990s, but it decreased to only $2-4\\%$ in the recent subsample. Some potential explanations:\n",
    "* The anomaly was never there in the first place. It was discovered by p-hacking.\n",
    "* The paper, Sloan (1996), was published in 1996. After the publication of this paper, investors started to learn that they could profit from trading the accruals signal. As more arbitrageurs engage in the same signal, the profitability of the accruals signal declines over time.\n",
    "\n",
    "Students can get full marks only if they provide both two explanations. "
   ]
  },
  {
   "cell_type": "markdown",
   "id": "77bbd6a2-87a9-4988-b36a-e8c7562e8d9d",
   "metadata": {},
   "source": [
    "---"
   ]
  },
  {
   "cell_type": "markdown",
   "id": "c14d71a9-a31a-4630-9dc5-6ff3755ca2de",
   "metadata": {},
   "source": [
    "# END"
   ]
  }
 ],
 "metadata": {
  "kernelspec": {
   "display_name": "Python 3 (ipykernel)",
   "language": "python",
   "name": "python3"
  },
  "language_info": {
   "codemirror_mode": {
    "name": "ipython",
    "version": 3
   },
   "file_extension": ".py",
   "mimetype": "text/x-python",
   "name": "python",
   "nbconvert_exporter": "python",
   "pygments_lexer": "ipython3",
   "version": "3.12.3"
  }
 },
 "nbformat": 4,
 "nbformat_minor": 5
}
