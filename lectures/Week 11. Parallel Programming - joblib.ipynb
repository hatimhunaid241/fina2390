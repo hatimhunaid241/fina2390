{
 "cells": [
  {
   "cell_type": "markdown",
   "id": "32bfe9b5",
   "metadata": {},
   "source": [
    "# Lecture 11. ```joblib```"
   ]
  },
  {
   "cell_type": "markdown",
   "id": "d9c3b8a7",
   "metadata": {},
   "source": [
    "* Joblib provides a simple helper class to write **parallel `for` loops** using multiprocessing.\n",
    "\n",
    "* The core idea is to write the code to be executed as a generator expression and convert it to parallel computing. "
   ]
  },
  {
   "cell_type": "code",
   "execution_count": 3,
   "id": "98ee94fd",
   "metadata": {},
   "outputs": [],
   "source": [
    "import time\n",
    "from joblib import Parallel, delayed\n",
    "import numpy as np\n",
    "import pandas as pd\n",
    "import os\n",
    "\n",
    "### Here, we ensure that we use one single CPU core in each operation. \n",
    "### By default, some numpy functions use multiple cores, e.g., the matrix multiplication. \n",
    "### If so, parallel computing with multiple CPUs is problematic. \n",
    "\n",
    "os.environ[\"OMP_NUM_THREADS\"] = \"1\" # export OMP_NUM_THREADS=1\n",
    "os.environ[\"OPENBLAS_NUM_THREADS\"] = \"1\" # export OPENBLAS_NUM_THREADS=1\n",
    "os.environ[\"MKL_NUM_THREADS\"] = \"1\" # export MKL_NUM_THREADS=1\n",
    "os.environ[\"VECLIB_MAXIMUM_THREADS\"] = \"1\" # export VECLIB_MAXIMUM_THREADS=1\n",
    "os.environ[\"NUMEXPR_NUM_THREADS\"] = \"1\" # export NUMEXPR_NUM_THREADS=1"
   ]
  },
  {
   "cell_type": "code",
   "execution_count": 4,
   "id": "963c8243",
   "metadata": {},
   "outputs": [
    {
     "name": "stdout",
     "output_type": "stream",
     "text": [
      "4.033647298812866\n"
     ]
    }
   ],
   "source": [
    "def countdown(n):\n",
    "    while n>0:\n",
    "        n -= 1\n",
    "    return n\n",
    "\n",
    "\n",
    "t = time.time()\n",
    "[countdown(10**7) for _ in range(20)]\n",
    "print(time.time() - t)  "
   ]
  },
  {
   "cell_type": "markdown",
   "id": "7e5bbe16",
   "metadata": {},
   "source": [
    "The above codes can be spread over **2 CPUs** using the following:"
   ]
  },
  {
   "cell_type": "code",
   "execution_count": 6,
   "id": "90c72196",
   "metadata": {},
   "outputs": [
    {
     "name": "stdout",
     "output_type": "stream",
     "text": [
      "2.1571218967437744\n"
     ]
    }
   ],
   "source": [
    "t = time.time()\n",
    "results = Parallel(n_jobs=2)(delayed(countdown)(10**7) for _ in range(20))\n",
    "#print(results)\n",
    "print(time.time() - t)"
   ]
  },
  {
   "cell_type": "markdown",
   "id": "17479362",
   "metadata": {},
   "source": [
    "You may notice that the run time using 2 CPUs is more than one half of the run time using 1 CPU. \n",
    "\n",
    "This is due to the overhead when you use multiprocessing. "
   ]
  },
  {
   "cell_type": "markdown",
   "id": "46e994b7-2109-421e-8b6a-0c83af3779a0",
   "metadata": {},
   "source": [
    "#### Check the number of CPUs in your computer:"
   ]
  },
  {
   "cell_type": "code",
   "execution_count": 9,
   "id": "87efda92-946d-49f4-a2a1-f95371899e50",
   "metadata": {},
   "outputs": [
    {
     "name": "stdout",
     "output_type": "stream",
     "text": [
      "8\n"
     ]
    }
   ],
   "source": [
    "print(os.cpu_count())"
   ]
  },
  {
   "cell_type": "markdown",
   "id": "9011942f-4402-4fa8-9d2d-a199c66d910c",
   "metadata": {},
   "source": [
    "#### Let's revisit two data analysis examples that we learnt in the previous lectures, and see how to use ```Parallel``` to speed up the codes."
   ]
  },
  {
   "cell_type": "markdown",
   "id": "eb213dc5",
   "metadata": {},
   "source": [
    "## Example I: Perform the rank-transformation of the firm characteristics"
   ]
  },
  {
   "cell_type": "code",
   "execution_count": 12,
   "id": "591cb43d",
   "metadata": {},
   "outputs": [],
   "source": [
    "D = pd.read_parquet('data/HK_stocks_151signals.parquet', engine='pyarrow')\n",
    "D = D[(D.eom>='2000-01') & (D.eom<'2021-01')]\n",
    "D = D.set_index(['id', 'eom'])\n",
    "\n",
    "history_lengths = D.index.to_frame()['id'].groupby(level=0).count()\n",
    "cs_idx_with_history = history_lengths[history_lengths >= 24].index \n",
    "D_full = D.loc[D.index.get_level_values(0).isin(cs_idx_with_history),:]"
   ]
  },
  {
   "cell_type": "code",
   "execution_count": 13,
   "id": "acb0723b",
   "metadata": {},
   "outputs": [
    {
     "name": "stdout",
     "output_type": "stream",
     "text": [
      "9.990234851837158\n"
     ]
    }
   ],
   "source": [
    "t = time.time()\n",
    "D_ranked = D_full.groupby(level=1).rank(ascending=True)\n",
    "D_ranked = D_ranked / D_ranked.groupby(level=1).max() - 0.5\n",
    "print(time.time() - t)"
   ]
  },
  {
   "cell_type": "markdown",
   "id": "987dd4b2",
   "metadata": {},
   "source": [
    "#### How do we use ```joblib``` to speed up the above codes? "
   ]
  },
  {
   "cell_type": "code",
   "execution_count": 15,
   "id": "f34050c7",
   "metadata": {},
   "outputs": [],
   "source": [
    "def process_window(df):\n",
    "    df_ranked = df.rank(ascending=True)\n",
    "    df_ranked = df_ranked / df_ranked.max() - 0.5\n",
    "    return df_ranked"
   ]
  },
  {
   "cell_type": "code",
   "execution_count": 16,
   "id": "69b2e2b9",
   "metadata": {},
   "outputs": [
    {
     "name": "stdout",
     "output_type": "stream",
     "text": [
      "4.64065408706665\n"
     ]
    }
   ],
   "source": [
    "t = time.time()\n",
    "\n",
    "D_full2 = D_full.swaplevel()\n",
    "ts_idx = D_full2.index.get_level_values(0).unique()\n",
    "\n",
    "D_parts = Parallel(n_jobs=4)(delayed(process_window)(D_full2.loc[[ts_idx[t]]]) \n",
    "                              for t in range(0, len(ts_idx)))\n",
    "D_ranked2 = pd.concat([i for i in D_parts], axis=0, keys=ts_idx)\n",
    "\n",
    "#D_parts = Parallel(n_jobs=4)(delayed(process_window)(D_full2.loc[ts_idx[t]]) for t in range(len(ts_idx)))\n",
    "#D_ranked = pd.concat(D_parts, axis=0, keys=ts_idx)\n",
    "\n",
    "print(time.time() - t)"
   ]
  },
  {
   "cell_type": "markdown",
   "id": "9b22736e-d497-4d8f-b653-1c1f515c9b33",
   "metadata": {},
   "source": [
    "## Example II. Bootstrapping"
   ]
  },
  {
   "cell_type": "markdown",
   "id": "44d7f35c-8387-4612-9b38-c9e5d52e30ed",
   "metadata": {},
   "source": [
    "In data analysis, we often want to quantify the estimation uncertainty in model parameters. For example, \n",
    "* what is the $90\\%$ confidence intervals of the correlation between two stock returns?\n",
    "* what is the $90\\%$ confidence intervals of the market beta of AAPL?\n",
    "\n",
    "Indeed, you can rely on some parametric models and compute the standard errors/confidence intervals based on large-sample asymptotic theory. \n",
    "\n",
    "Here, I would like to show you how to use the idea of Bootstrapping to properly quantify the estimation uncertainty in finite data samples. "
   ]
  },
  {
   "cell_type": "code",
   "execution_count": 19,
   "id": "161fe202-aa3e-4676-9fc3-f49cbf492cab",
   "metadata": {},
   "outputs": [
    {
     "name": "stdout",
     "output_type": "stream",
     "text": [
      "(1258, 2)\n"
     ]
    },
    {
     "data": {
      "text/html": [
       "<div>\n",
       "<style scoped>\n",
       "    .dataframe tbody tr th:only-of-type {\n",
       "        vertical-align: middle;\n",
       "    }\n",
       "\n",
       "    .dataframe tbody tr th {\n",
       "        vertical-align: top;\n",
       "    }\n",
       "\n",
       "    .dataframe thead th {\n",
       "        text-align: right;\n",
       "    }\n",
       "</style>\n",
       "<table border=\"1\" class=\"dataframe\">\n",
       "  <thead>\n",
       "    <tr style=\"text-align: right;\">\n",
       "      <th></th>\n",
       "      <th>AAPL</th>\n",
       "      <th>MSFT</th>\n",
       "    </tr>\n",
       "  </thead>\n",
       "  <tbody>\n",
       "    <tr>\n",
       "      <th>2006-01-04</th>\n",
       "      <td>0.002943</td>\n",
       "      <td>0.004568</td>\n",
       "    </tr>\n",
       "    <tr>\n",
       "      <th>2006-01-05</th>\n",
       "      <td>-0.007870</td>\n",
       "      <td>0.000827</td>\n",
       "    </tr>\n",
       "    <tr>\n",
       "      <th>2006-01-06</th>\n",
       "      <td>0.025813</td>\n",
       "      <td>-0.002891</td>\n",
       "    </tr>\n",
       "    <tr>\n",
       "      <th>2006-01-09</th>\n",
       "      <td>-0.003277</td>\n",
       "      <td>-0.002071</td>\n",
       "    </tr>\n",
       "    <tr>\n",
       "      <th>2006-01-10</th>\n",
       "      <td>0.063248</td>\n",
       "      <td>0.005396</td>\n",
       "    </tr>\n",
       "  </tbody>\n",
       "</table>\n",
       "</div>"
      ],
      "text/plain": [
       "                AAPL      MSFT\n",
       "2006-01-04  0.002943  0.004568\n",
       "2006-01-05 -0.007870  0.000827\n",
       "2006-01-06  0.025813 -0.002891\n",
       "2006-01-09 -0.003277 -0.002071\n",
       "2006-01-10  0.063248  0.005396"
      ]
     },
     "execution_count": 19,
     "metadata": {},
     "output_type": "execute_result"
    }
   ],
   "source": [
    "close_px_all = pd.read_csv('data/stock_px_2.csv',\n",
    "                           parse_dates=True, index_col=0)\n",
    "close_px = close_px_all[['AAPL', 'MSFT', 'XOM']]\n",
    "rets = close_px.loc['2006':'2010'][['AAPL', 'MSFT']].pct_change().dropna()\n",
    "print(rets.shape)\n",
    "rets.head()"
   ]
  },
  {
   "cell_type": "code",
   "execution_count": 20,
   "id": "a4e46a1f-0332-43a2-b6e8-130d1600205a",
   "metadata": {},
   "outputs": [
    {
     "data": {
      "text/html": [
       "<div>\n",
       "<style scoped>\n",
       "    .dataframe tbody tr th:only-of-type {\n",
       "        vertical-align: middle;\n",
       "    }\n",
       "\n",
       "    .dataframe tbody tr th {\n",
       "        vertical-align: top;\n",
       "    }\n",
       "\n",
       "    .dataframe thead th {\n",
       "        text-align: right;\n",
       "    }\n",
       "</style>\n",
       "<table border=\"1\" class=\"dataframe\">\n",
       "  <thead>\n",
       "    <tr style=\"text-align: right;\">\n",
       "      <th></th>\n",
       "      <th>AAPL</th>\n",
       "      <th>MSFT</th>\n",
       "    </tr>\n",
       "  </thead>\n",
       "  <tbody>\n",
       "    <tr>\n",
       "      <th>AAPL</th>\n",
       "      <td>1.000000</td>\n",
       "      <td>0.479162</td>\n",
       "    </tr>\n",
       "    <tr>\n",
       "      <th>MSFT</th>\n",
       "      <td>0.479162</td>\n",
       "      <td>1.000000</td>\n",
       "    </tr>\n",
       "  </tbody>\n",
       "</table>\n",
       "</div>"
      ],
      "text/plain": [
       "          AAPL      MSFT\n",
       "AAPL  1.000000  0.479162\n",
       "MSFT  0.479162  1.000000"
      ]
     },
     "execution_count": 20,
     "metadata": {},
     "output_type": "execute_result"
    }
   ],
   "source": [
    "rets.corr()    # how do we quantify the estimation uncertainty in the correlation coefficient?"
   ]
  },
  {
   "cell_type": "markdown",
   "id": "fe7473c6-d828-496c-a8de-294e0efe4abe",
   "metadata": {},
   "source": [
    "#### How to quantify the estimation uncertainty in the correlation between stock returns of AAPL and MSFT? -- Bootstrapping"
   ]
  },
  {
   "cell_type": "markdown",
   "id": "bbafef33-520b-48fe-9c66-0d489fc6eb2d",
   "metadata": {},
   "source": [
    "Suppose that $T$ is the time-series sample size of the observed dataset. In our data, $T = 1258$ days. \n",
    "\n",
    "* First, we randomly draw (with replacement) a sample of $T$ days from ```rets```.\n",
    "  \n",
    "* Second, we compute the correlation coefficients between AAPL and MSFT for each randomly sampled dataset.\n",
    "  \n",
    "* Repeat the above two steps for 10,000 times, and report the mean and $90\\%$ quantiles of the correlation coefficients."
   ]
  },
  {
   "cell_type": "code",
   "execution_count": 23,
   "id": "e8702a70-d02f-41fe-bced-e88e1fb0bd6f",
   "metadata": {},
   "outputs": [
    {
     "name": "stdout",
     "output_type": "stream",
     "text": [
      "[ 699  722  434 ...  562   63 1161]\n"
     ]
    }
   ],
   "source": [
    "sample_index = np.random.choice(a=np.arange(stop=rets.shape[0], dtype=np.int64), size=rets.shape[0])\n",
    "print(sample_index)"
   ]
  },
  {
   "cell_type": "code",
   "execution_count": 54,
   "id": "d81ed952-1a5b-4924-9d7e-7c8038488549",
   "metadata": {},
   "outputs": [
    {
     "name": "stdout",
     "output_type": "stream",
     "text": [
      "(1258, 2)\n"
     ]
    }
   ],
   "source": [
    "print(rets.iloc[sample_index,:].shape)"
   ]
  },
  {
   "cell_type": "code",
   "execution_count": 24,
   "id": "b5b65d0a-ee94-4fab-bf09-4e0e869c484e",
   "metadata": {},
   "outputs": [
    {
     "data": {
      "text/plain": [
       "0.4967313972006145"
      ]
     },
     "execution_count": 24,
     "metadata": {},
     "output_type": "execute_result"
    }
   ],
   "source": [
    "rets.iloc[sample_index,:].corr().iloc[0,1]"
   ]
  },
  {
   "cell_type": "code",
   "execution_count": 25,
   "id": "7c400bba-137e-427a-8351-6649ecdf75d4",
   "metadata": {},
   "outputs": [],
   "source": [
    "def get_corr_bootstrap(data_df, random_seed):\n",
    "    np.random.seed(random_seed)\n",
    "    sample_index = np.random.choice(a=np.arange(stop=data_df.shape[0], dtype=np.int64), size=data_df.shape[0])\n",
    "    return data_df.iloc[sample_index,:].corr().iloc[0,1]\n",
    "    "
   ]
  },
  {
   "cell_type": "code",
   "execution_count": 26,
   "id": "40aa77e9-2764-400d-8bab-80aeb22d360e",
   "metadata": {},
   "outputs": [
    {
     "data": {
      "text/plain": [
       "0.4546871277867021"
      ]
     },
     "execution_count": 26,
     "metadata": {},
     "output_type": "execute_result"
    }
   ],
   "source": [
    "get_corr_bootstrap(rets, 2)"
   ]
  },
  {
   "cell_type": "code",
   "execution_count": 27,
   "id": "bf87fbaf-842f-4cbf-bc57-917152c28d60",
   "metadata": {},
   "outputs": [
    {
     "name": "stdout",
     "output_type": "stream",
     "text": [
      "12.151875972747803\n",
      "0.4786298434338419\n",
      "0.05    0.408004\n",
      "0.95    0.545673\n",
      "dtype: float64\n"
     ]
    }
   ],
   "source": [
    "num_bootstrap = 100000\n",
    "corr_seq = np.zeros(num_bootstrap)\n",
    "\n",
    "t = time.time()\n",
    "for i in range(num_bootstrap):\n",
    "    corr_seq[i] = get_corr_bootstrap(rets, i)\n",
    "print(time.time() - t)\n",
    "\n",
    "corr_seq = pd.Series(corr_seq)\n",
    "print(corr_seq.mean())\n",
    "print(corr_seq.quantile((0.05,0.95)))"
   ]
  },
  {
   "cell_type": "code",
   "execution_count": 28,
   "id": "8e1702ad-d7fb-498b-a34b-4cb22e5e5205",
   "metadata": {},
   "outputs": [],
   "source": [
    "#corr_seq.hist(bins=50)"
   ]
  },
  {
   "cell_type": "markdown",
   "id": "d62761e6-e4be-4d69-9364-e4813de9c7b2",
   "metadata": {},
   "source": [
    "#### Can we use ```Parallel``` to speed up the above Bootstrapping?"
   ]
  },
  {
   "cell_type": "code",
   "execution_count": 30,
   "id": "b1aba016-4182-49f4-91f8-05760bfd5cee",
   "metadata": {},
   "outputs": [
    {
     "name": "stdout",
     "output_type": "stream",
     "text": [
      "3.231416940689087\n",
      "0.4786298434338419\n",
      "0.05    0.408004\n",
      "0.95    0.545673\n",
      "dtype: float64\n"
     ]
    }
   ],
   "source": [
    "t = time.time()\n",
    "corr_seq2 = pd.Series(Parallel(n_jobs=-1)(delayed(get_corr_bootstrap)(rets, i) for i in range(0, num_bootstrap)) )\n",
    "print(time.time() - t)\n",
    "\n",
    "print(corr_seq2.mean())\n",
    "print(corr_seq2.quantile((0.05,0.95)))"
   ]
  },
  {
   "cell_type": "code",
   "execution_count": 31,
   "id": "3e5a1e9f-e650-4c68-98f8-8d125648440a",
   "metadata": {},
   "outputs": [],
   "source": [
    "#corr_seq2.hist(bins=50)"
   ]
  },
  {
   "cell_type": "markdown",
   "id": "b1eb82a9",
   "metadata": {},
   "source": [
    "---"
   ]
  },
  {
   "cell_type": "markdown",
   "id": "5ab7e433",
   "metadata": {},
   "source": [
    "# END"
   ]
  }
 ],
 "metadata": {
  "kernelspec": {
   "display_name": "Python 3 (ipykernel)",
   "language": "python",
   "name": "python3"
  },
  "language_info": {
   "codemirror_mode": {
    "name": "ipython",
    "version": 3
   },
   "file_extension": ".py",
   "mimetype": "text/x-python",
   "name": "python",
   "nbconvert_exporter": "python",
   "pygments_lexer": "ipython3",
   "version": "3.12.2"
  }
 },
 "nbformat": 4,
 "nbformat_minor": 5
}
