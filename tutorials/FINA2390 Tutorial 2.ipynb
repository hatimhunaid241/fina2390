{
 "cells": [
  {
   "cell_type": "markdown",
   "id": "b812f905-774e-43c5-b5ee-9ae7c19fbcd8",
   "metadata": {},
   "source": [
    "## Tutorial 2"
   ]
  },
  {
   "cell_type": "markdown",
   "id": "338715bc-f703-4917-9356-3639db5121e8",
   "metadata": {},
   "source": [
    "### 2.1 Dictionary methods"
   ]
  },
  {
   "cell_type": "markdown",
   "id": "8883110a-b488-45d5-9afc-b11e74591861",
   "metadata": {},
   "source": [
    "- Recall from last tutorial, dictionary is a mutable datatype but keys must consist of immutable objects\n",
    "- Keys in a dictionary cannot be duplicated, similar to sets\n",
    "- The following example demonstrate common methods for a dictionary:"
   ]
  },
  {
   "cell_type": "code",
   "execution_count": 4,
   "id": "fe67a4c1-b30f-40a8-8b5d-28dee5abe9ad",
   "metadata": {
    "tags": []
   },
   "outputs": [
    {
     "name": "stdout",
     "output_type": "stream",
     "text": [
      "Number of pairs:  3\n",
      "The following are keys:\n",
      "color\n",
      "fruit\n",
      "pet\n",
      "The following are values:\n",
      "blue\n",
      "apple\n",
      "dog\n",
      "Favorite fruit is now indicated.\n"
     ]
    }
   ],
   "source": [
    "likes = {\"color\": \"blue\", \"fruit\": \"apple\", \"pet\": \"dog\"}\n",
    "print('Number of pairs: ', len(likes))\n",
    "print(\"The following are keys:\")\n",
    "for key in likes.keys():\n",
    "    print(key)\n",
    "\n",
    "print(\"The following are values:\")\n",
    "for value in likes.values():\n",
    "    print(value)\n",
    "    \n",
    "if \"fruit\" in likes: #return True if fruit is in the keys of this dictionary\n",
    "    print(\"Favorite fruit is now indicated.\")\n",
    "else:\n",
    "    print(\"Favorite fruit is not yet stated\")"
   ]
  },
  {
   "cell_type": "code",
   "execution_count": 5,
   "id": "5f2fea53-5b65-4e73-98bd-e42ebdd20734",
   "metadata": {
    "tags": []
   },
   "outputs": [
    {
     "name": "stdout",
     "output_type": "stream",
     "text": [
      "{'color': 'blue', 'fruit': 'watermelon', 'pet': 'dog'}\n"
     ]
    }
   ],
   "source": [
    "likes[\"fruit\"] = \"watermelon\" #update the favorite fruit to another value\n",
    "print(likes)"
   ]
  },
  {
   "cell_type": "code",
   "execution_count": 6,
   "id": "c3859e65-eb04-4797-be22-348497dbbb61",
   "metadata": {
    "tags": []
   },
   "outputs": [
    {
     "name": "stdout",
     "output_type": "stream",
     "text": [
      "economics\n",
      "{'color': 'blue', 'fruit': 'watermelon', 'pet': 'dog', 'subject': 'history'}\n",
      "history\n",
      "{'fruit': 'watermelon', 'pet': 'dog', 'subject': 'history'}\n"
     ]
    }
   ],
   "source": [
    "fav_subject = likes.get(\"subject\",\"economics\") #returns favorite subject if available in the dictionary, otherwise return the default favourite subject\n",
    "print(fav_subject)\n",
    "\n",
    "likes[\"subject\"] = \"history\" #add a new key-value pair to the dictionary\n",
    "print(likes)\n",
    "\n",
    "fav_subject = likes.get(\"subject\",\"economics\") #run the get method from above again\n",
    "print(fav_subject)\n",
    "\n",
    "del likes[\"color\"] #delete the key-value pair with key 'color'\n",
    "print(likes)"
   ]
  },
  {
   "cell_type": "markdown",
   "id": "61b5ca1e-f4f7-48c4-b0eb-76a6796e7728",
   "metadata": {},
   "source": [
    "### 2.2. Exercises"
   ]
  },
  {
   "cell_type": "markdown",
   "id": "bd66261c-fbc7-4561-bcf3-a9df54b38e65",
   "metadata": {},
   "source": [
    "- Extra coding practices are provided in this tutorial, covering handling of dictionary and exception handling."
   ]
  },
  {
   "cell_type": "markdown",
   "id": "5252f30f-8c5b-476e-ba2b-9f5b66f53a8b",
   "metadata": {},
   "source": [
    "### Example 1: Dictionary handling\n",
    "Write a Python function to check whether a given key already exists in a dictionary.  \n",
    "If this is the case, return `True` and print `\"Key is present in the dictionary\"`.  \n",
    "Otherwise, return `False` and print `\"Key is not present in the dictionary\"`."
   ]
  },
  {
   "cell_type": "code",
   "execution_count": 10,
   "id": "de33168a-f322-49e3-920a-d091bfca2ca6",
   "metadata": {
    "tags": []
   },
   "outputs": [],
   "source": [
    "def is_key_present(d, key):\n",
    "    \"\"\"\n",
    "    d: dictionary object\n",
    "    key: given key\n",
    "    \"\"\"\n",
    "    if key in d.keys():\n",
    "        print(\"Key is present in the dictionary\")\n",
    "        return True\n",
    "    else:\n",
    "        print(\"Key is not present in the dictionary\")\n",
    "        return False "
   ]
  },
  {
   "cell_type": "code",
   "execution_count": 11,
   "id": "38244b10-c895-4b54-bab5-4c3c9e1a6a2b",
   "metadata": {},
   "outputs": [
    {
     "name": "stdout",
     "output_type": "stream",
     "text": [
      "Key is not present in the dictionary\n"
     ]
    },
    {
     "data": {
      "text/plain": [
       "False"
      ]
     },
     "execution_count": 11,
     "metadata": {},
     "output_type": "execute_result"
    }
   ],
   "source": [
    "is_key_present(likes, \"color\")"
   ]
  },
  {
   "cell_type": "code",
   "execution_count": 12,
   "id": "b01bcd44-ba1b-4b02-aeb8-abe0a1481377",
   "metadata": {},
   "outputs": [],
   "source": [
    "def is_key_present_v2(d, key):\n",
    "    \"\"\"\n",
    "    d: dictionary object\n",
    "    key: given key\n",
    "    \"\"\"\n",
    "    if key in d.keys():\n",
    "        print(f\"{key} is present in the dictionary\")\n",
    "        return True\n",
    "    else:\n",
    "        print(f\"{key} is not present in the dictionary\")\n",
    "        return False\n"
   ]
  },
  {
   "cell_type": "code",
   "execution_count": 13,
   "id": "9a7ec0a4-e23a-4b30-a200-7baac5e817ff",
   "metadata": {},
   "outputs": [
    {
     "name": "stdout",
     "output_type": "stream",
     "text": [
      "subject is present in the dictionary\n"
     ]
    },
    {
     "data": {
      "text/plain": [
       "True"
      ]
     },
     "execution_count": 13,
     "metadata": {},
     "output_type": "execute_result"
    }
   ],
   "source": [
    "is_key_present_v2(likes, \"subject\")"
   ]
  },
  {
   "cell_type": "markdown",
   "id": "9fac842f-7b03-4d59-807d-a799035ab0cd",
   "metadata": {},
   "source": [
    "### Example 2: Dictionary handling\n",
    "Write a Python function to generate a dictionary that contains an integer (between 1 and `n`) in the form `(x: x**2)` as output.  \n",
    "The function takes `n` as input.  \n",
    "Sample Dictionary (n = 5):  \n",
    "Expected Output: `{1: 1, 2: 4, 3: 9, 4: 16, 5: 25}`"
   ]
  },
  {
   "cell_type": "code",
   "execution_count": 15,
   "id": "d9ff0c1a-43c1-4181-adba-b952ce48776f",
   "metadata": {},
   "outputs": [],
   "source": [
    "def dict_sq(n):\n",
    "    result = {}\n",
    "    for i in range(1, n+1):\n",
    "        result[i] = i**2\n",
    "    return result"
   ]
  },
  {
   "cell_type": "code",
   "execution_count": 16,
   "id": "635f3a13-3748-4b7d-87d9-4c4a87dd03d2",
   "metadata": {},
   "outputs": [
    {
     "data": {
      "text/plain": [
       "{1: 1, 2: 4, 3: 9, 4: 16, 5: 25, 6: 36, 7: 49, 8: 64, 9: 81, 10: 100}"
      ]
     },
     "execution_count": 16,
     "metadata": {},
     "output_type": "execute_result"
    }
   ],
   "source": [
    "dict_sq(10)"
   ]
  },
  {
   "cell_type": "code",
   "execution_count": 17,
   "id": "51eda93e-8e49-4b9e-a756-9c20e26223f0",
   "metadata": {},
   "outputs": [
    {
     "data": {
      "text/plain": [
       "{1: 1, 2: 4, 3: 9, 4: 16, 5: 25}"
      ]
     },
     "execution_count": 17,
     "metadata": {},
     "output_type": "execute_result"
    }
   ],
   "source": [
    "def dict_sq_v2(n):\n",
    "    return {i:i**2 for i in range(1, n+1)}\n",
    "\n",
    "dict_sq_v2(5)"
   ]
  },
  {
   "cell_type": "markdown",
   "id": "4094703d-8dcc-4f8f-9cdd-384077d7bd8c",
   "metadata": {},
   "source": [
    "### Example 3: List operations with exception handling\n",
    "Create a Python function `common_items(list1, list2)` to return a list of common items.  \n",
    "Assert the two inputs are of `list` data type, otherwise print `\"Input parameters must be in list format\"`."
   ]
  },
  {
   "cell_type": "code",
   "execution_count": 19,
   "id": "663352c5-bfbc-4b58-b8c4-882034e098e2",
   "metadata": {},
   "outputs": [],
   "source": [
    "def common_items(list1, list2):\n",
    "    assert (type(list1) == list) & (type(list2) == list), \"Input parameters must be in list format\"\n",
    "    set1 = set(list1)\n",
    "    set2 = set(list2)\n",
    "    return list(set1.intersection(set2))"
   ]
  },
  {
   "cell_type": "code",
   "execution_count": 20,
   "id": "fbee08b7-ce7f-42bc-b703-2c5072e98f8a",
   "metadata": {},
   "outputs": [
    {
     "data": {
      "text/plain": [
       "[8, 7]"
      ]
     },
     "execution_count": 20,
     "metadata": {},
     "output_type": "execute_result"
    }
   ],
   "source": [
    "common_items([2,5,6,7,8],[3,7,8,9])"
   ]
  },
  {
   "cell_type": "code",
   "execution_count": 21,
   "id": "a0c2c392-2e8d-4909-b990-a5faf5a63417",
   "metadata": {},
   "outputs": [],
   "source": [
    "def common_items_v2(list1, list2):\n",
    "    assert (type(list1) == list) & (type(list2) == list), \"Input parameters must be in list format\"\n",
    "    output = []\n",
    "    for x in list1:\n",
    "        if x in list2:\n",
    "            output.append(x)\n",
    "        else:\n",
    "            pass\n",
    "    return output"
   ]
  },
  {
   "cell_type": "code",
   "execution_count": 22,
   "id": "2dc2b515-ae8c-4fb0-8dab-5cedd77f7bd8",
   "metadata": {},
   "outputs": [
    {
     "data": {
      "text/plain": [
       "[7, 8]"
      ]
     },
     "execution_count": 22,
     "metadata": {},
     "output_type": "execute_result"
    }
   ],
   "source": [
    "common_items_v2([2,5,6,7,8],[3,7,8,9])"
   ]
  }
 ],
 "metadata": {
  "kernelspec": {
   "display_name": "Python 3 (ipykernel)",
   "language": "python",
   "name": "python3"
  },
  "language_info": {
   "codemirror_mode": {
    "name": "ipython",
    "version": 3
   },
   "file_extension": ".py",
   "mimetype": "text/x-python",
   "name": "python",
   "nbconvert_exporter": "python",
   "pygments_lexer": "ipython3",
   "version": "3.12.4"
  }
 },
 "nbformat": 4,
 "nbformat_minor": 5
}
